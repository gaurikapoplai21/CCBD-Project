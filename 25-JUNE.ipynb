{
  "nbformat": 4,
  "nbformat_minor": 0,
  "metadata": {
    "accelerator": "GPU",
    "celltoolbar": "Slideshow",
    "colab": {
      "name": "e2e ASR homework v1 25/06 16:15",
      "provenance": [],
      "collapsed_sections": [],
      "toc_visible": true,
      "include_colab_link": true
    },
    "kernelspec": {
      "display_name": "Python 3",
      "language": "python",
      "name": "python3"
    },
    "language_info": {
      "codemirror_mode": {
        "name": "ipython",
        "version": 3
      },
      "file_extension": ".py",
      "mimetype": "text/x-python",
      "name": "python",
      "nbconvert_exporter": "python",
      "pygments_lexer": "ipython3",
      "version": "3.7.4"
    }
  },
  "cells": [
    {
      "cell_type": "markdown",
      "metadata": {
        "id": "view-in-github",
        "colab_type": "text"
      },
      "source": [
        "<a href=\"https://colab.research.google.com/github/gaurikapoplai21/CCBD-Project/blob/master/25-JUNE.ipynb\" target=\"_parent\"><img src=\"https://colab.research.google.com/assets/colab-badge.svg\" alt=\"Open In Colab\"/></a>"
      ]
    },
    {
      "cell_type": "markdown",
      "metadata": {
        "colab_type": "text",
        "id": "qncY3FktdgMI"
      },
      "source": [
        "# EN. 601.467/667 Introduction to Human Language Technology\n",
        "# End-to-End Speech Recognition Toolkit\n",
        "**Deadline 16, October, 2019**\n",
        "\n",
        "- We use [ESPnet](https://github.com/espnet/espnet)\n",
        "- This homework is designed to have an overview experience of end-to-end speech recognition. Various contents are not covered in the lecture due to the limitation of time.\n",
        "- Adapted from the [Interspeech 2019 tutorial materials](https://github.com/espnet/interspeech2019-tutorial).\n",
        "  - Special thanks to Shigeki Karita and Tomoki Hayashi.\n"
      ]
    },
    {
      "cell_type": "markdown",
      "metadata": {
        "id": "VSbPo3PMxBKa",
        "colab_type": "text"
      },
      "source": [
        "## Google colaboratory\n",
        "\n",
        "Before getting started, get familiar with google colaboratory:\n",
        "https://colab.research.google.com/notebooks/welcome.ipynb\n",
        "\n",
        "- Online Jupyter notebook environment\n",
        "    - Can run python codes\n",
        "    - Can also run linux command with ! mark\n",
        "    - Can use a signal GPU (K80)\n",
        "- What you need to use\n",
        "    - Internet connection\n",
        "    - Google account\n",
        "    - Chrome browser (recommended)\n",
        "\n",
        "This is a neat python environment that works in the cloud and does not require you to\n",
        "set up anything on your personal machine\n",
        "(it also has some built-in IDE features that make writing code easier).\n",
        "Moreover, it allows you to copy any existing colaboratory file, alter it and share\n",
        "with other people. In this homework, we will ask you to copy current colaboraty,\n",
        "complete all the tasks and share your colaboratory notebook with us so\n",
        "that we can grade it.\n",
        "\n",
        "## Submission\n",
        "\n",
        "Before you start working on this homework do the following steps:\n",
        "\n",
        "1. Press __File > Save a copy in Drive...__ tab. This will allow you to have your own copy and change it.\n",
        "2. Follow all the steps in this colaboratory file and write/change/uncomment code as necessary.\n",
        "3. Do not forget to occasionally press __File > Save__ tab to save your progress.\n",
        "4. After all the changes are done and progress is saved press __Share__ button (top right corner of the page), press __get shareable link__ and make sure you have the option __Anyone with the link can view__ selected.\n",
        "5. Paste the link into your submission pdf file so that we can view it and grade.\n",
        "\n",
        "\n",
        "\n",
        "\n"
      ]
    },
    {
      "cell_type": "markdown",
      "metadata": {
        "colab_type": "text",
        "id": "pAOHL0Rq-6Hm"
      },
      "source": [
        "# 1. Overview\n",
        "\n",
        "ESPnet provides **bash recipes and python library** for speech processing.\n"
      ]
    },
    {
      "cell_type": "markdown",
      "metadata": {
        "colab_type": "text",
        "id": "SlGI71D4-6Hu"
      },
      "source": [
        "## 1.1 Python library overview\n",
        "\n",
        "- Python 3.6+\n",
        "- Uses the following neural network libraries\n",
        "  - PyTorch\n",
        "  - Chainer\n"
      ]
    },
    {
      "cell_type": "markdown",
      "metadata": {
        "colab_type": "text",
        "id": "USfjVUT8-6Hy"
      },
      "source": [
        "## 1.2 Bash recipe overview\n",
        "\n",
        "ESPnet supports total 34+ ASR and other speech processing tasks including\n",
        "\n",
        "- Multilingual ASR: en, zh, ja, etc\n",
        "- Noise robust and far-field ASR\n",
        "- Multichannel ASR: joint training with speech enhancement\n",
        "- Speech Translation: transfer learning from ASR and MT\n",
        "\n",
        "For more detail:\n",
        "https://github.com/espnet/espnet/tree/master/egs\n"
      ]
    },
    {
      "cell_type": "markdown",
      "metadata": {
        "colab_type": "text",
        "id": "lcQ6iKES-6H0"
      },
      "source": [
        "## 1.3 ASR Performance\n",
        "\n",
        "On free corpora, ESPnet achieved:\n",
        "\n",
        "- Aishell (zh): CER test: 6.7%\n",
        "- Common Voice (en): WER test: 2.3%\n",
        "- LibriSpeech (en): WER test-clean: 2.6%, test-other 5.7%\n",
        "- TED-LIUM2 (en): WER test: 8.1%\n",
        "\n",
        "**Pretrained models are available**\n",
        "\n",
        "https://github.com/espnet/espnet#asr-results\n"
      ]
    },
    {
      "cell_type": "markdown",
      "metadata": {
        "colab_type": "text",
        "id": "P1BzhOOn-6H4"
      },
      "source": [
        "# 2. Installation\n",
        "\n",
        "ESPnet depends on Kaldi ASR toolkit and Warp-CTC.\n"
      ]
    },
    {
      "cell_type": "markdown",
      "metadata": {
        "colab_type": "text",
        "id": "BWdrn8p2_HxX"
      },
      "source": [
        "## 2.1 Installation (on Google colab)\n",
        "\n",
        "In Google colab, we can use pre-compiled binaries for faster startup (3 min):"
      ]
    },
    {
      "cell_type": "code",
      "metadata": {
        "colab_type": "code",
        "id": "mLxx6gVHwda6",
        "colab": {}
      },
      "source": [
        "# OS setup\n",
        "!cat /etc/os-release\n",
        "!apt-get install -qq bc tree sox\n",
        "\n",
        "# espnet setup\n",
        "!git clone --depth 5 https://github.com/espnet/espnet\n",
        "!pip install -q torch==1.5.1\n",
        "!cd espnet; pip install -q -e .\n",
        "\n",
        "# download pre-compiled warp-ctc and kaldi tools\n",
        "!espnet/utils/download_from_google_drive.sh \\\n",
        "    \"https://drive.google.com/open?id=13Y4tSygc8WtqzvAVGK_vRV9GlV7TRC0w\" espnet/tools tar.gz > /dev/null\n",
        "!cd espnet/tools/warp-ctc/pytorch_binding && \\\n",
        "    pip install -U dist/warpctc_pytorch-0.1.1-cp36-cp36m-linux_x86_64.whl\n",
        "\n",
        "# make dummy activate\n",
        "!mkdir -p espnet/tools/venv/bin && touch espnet/tools/venv/bin/activate\n",
        "!echo \"setup done.\""
      ],
      "execution_count": null,
      "outputs": []
    },
    {
      "cell_type": "markdown",
      "metadata": {
        "colab_type": "text",
        "id": "_6pH9DX1hTLj"
      },
      "source": [
        "# 3. AN4 ASR experiments based on ESPnet\n",
        "\n",
        "- `espnet/egs/*/asr1/run.sh` is an out-of-the-box recipe\n",
        "- It reproduces our reported results\n",
        "\n",
        "![image.png](https://github.com/espnet/interspeech2019-tutorial/blob/master/notebooks/interspeech2019_asr/figs/stages.png?raw=1)\n",
        "\n",
        "- **stage -1**: Download data if the data is available online.\n",
        "- **stage 0**: Prepare data to make kaldi-style data directory.\n",
        "- **stage 1**: Extract feature vector, calculate statistics, and normalize.\n",
        "- **stage 2**: Prepare a dictionary and make json files for training.\n",
        "- **stage 3**: Train the language model network.\n",
        "- **stage 4**: Train the E2E-ASR network.\n",
        "- **stage 5**: Decode speech data using the trained networks and perform scoring (provide the character error rate (CER), word error rate (WER), etc.).\n"
      ]
    },
    {
      "cell_type": "markdown",
      "metadata": {
        "id": "NMIKLvfFrtoj",
        "colab_type": "text"
      },
      "source": [
        "<h1>Creating the required file structure</h1>"
      ]
    },
    {
      "cell_type": "code",
      "metadata": {
        "id": "-Oj3Dfwu_97o",
        "colab_type": "code",
        "colab": {
          "base_uri": "https://localhost:8080/",
          "height": 124
        },
        "outputId": "077b6030-1465-4392-8ef8-e357a62d8776"
      },
      "source": [
        "# Importing data\n",
        "from google.colab import drive\n",
        "drive.mount('/content/drive')"
      ],
      "execution_count": 2,
      "outputs": [
        {
          "output_type": "stream",
          "text": [
            "Go to this URL in a browser: https://accounts.google.com/o/oauth2/auth?client_id=947318989803-6bn6qk8qdgf4n4g3pfee6491hc0brc4i.apps.googleusercontent.com&redirect_uri=urn%3aietf%3awg%3aoauth%3a2.0%3aoob&response_type=code&scope=email%20https%3a%2f%2fwww.googleapis.com%2fauth%2fdocs.test%20https%3a%2f%2fwww.googleapis.com%2fauth%2fdrive%20https%3a%2f%2fwww.googleapis.com%2fauth%2fdrive.photos.readonly%20https%3a%2f%2fwww.googleapis.com%2fauth%2fpeopleapi.readonly\n",
            "\n",
            "Enter your authorization code:\n",
            "··········\n",
            "Mounted at /content/drive\n"
          ],
          "name": "stdout"
        }
      ]
    },
    {
      "cell_type": "code",
      "metadata": {
        "id": "2vSzbHmdCE5v",
        "colab_type": "code",
        "colab": {}
      },
      "source": [
        "dir_path = \"/content/espnet/egs/telugu/asr1\"\n",
        "\n",
        "#Based on directory structure you may need to change espnet_zip_path, telugu_test_zip, telegu_train_zip\n",
        "espnet_zip_path = \"/content/drive/My Drive/telugu/telugu_espnet_data.zip\"\n",
        "telugu_test_zip = \"/content/drive/My Drive/telugu/te-in-Test.zip\"\n",
        "telugu_train_zip = \"/content/drive/My Drive/telugu/te-in-Train.zip\"\n",
        "\n",
        "# Making the required folders\n",
        "!mkdir \"/content/espnet/egs/telugu\"\n",
        "!mkdir \"/content/espnet/egs/telugu/asr1\"\n",
        "!mkdir \"/content/espnet/egs/telugu/asr1/wavdata\"\n",
        "!mkdir \"/content/espnet/egs/telugu/asr1/wavdata/an4\"\n",
        "# !mkdir \"/content/espnet/egs/telugu/asr1/filterbank\"\n",
        "\n",
        "# Unzip all the files provided by maam\n",
        "!unzip \"$espnet_zip_path\" -d \"$dir_path\"\n",
        "# Unzip the audio(wav) dataset\n",
        "!unzip \"$telugu_test_zip\" -d \"$dir_path/wavdata/an4\"\n",
        "!unzip \"$telugu_train_zip\" -d \"$dir_path/wavdata/an4\""
      ],
      "execution_count": null,
      "outputs": []
    },
    {
      "cell_type": "code",
      "metadata": {
        "id": "nFgsvvOSHBh_",
        "colab_type": "code",
        "colab": {}
      },
      "source": [
        "!mkdir \"/content/espnet/egs/telugu/asr1/dump\""
      ],
      "execution_count": 4,
      "outputs": []
    },
    {
      "cell_type": "code",
      "metadata": {
        "id": "WCwKLmfQcsVK",
        "colab_type": "code",
        "colab": {}
      },
      "source": [
        "#Delete this afterwards\n",
        "\n",
        "# import os\n",
        "# os.chdir(\"/content/espnet/egs/telegu/asr1/wavdata/an4/\")\n",
        "\n",
        "# !pwd\n",
        "\n",
        "# !apt-get install p7zip-full\n",
        "\n",
        "#  !7z e \"$azuredataset_zip_path\" -o\"$dir_path/wavdata\"\n",
        "\n",
        "# !echo \"$azuredataset_zip_path\"\n",
        "\n",
        "# !unzip \"$azuredataset_zip_path\" -d \"$dir_path/wavdata\"\n",
        "\n",
        "# dir_path = \"/content/espnet/egs/telegu/as1/temp\"\n",
        "# espnet_zip_path = \"/content/drive/My Drive/telugu/telugu_espnet_data.zip\"\n",
        "# azuredataset_zip_path = \"/content/drive/My Drive/telugu/azuredataset.zip\"\n",
        "# # Unzip all the files provided by maam\n",
        "# !unzip \"$espnet_zip_path\" -d \"$dir_path\"\n",
        "\n",
        "# # Unzip the dataset\n",
        "# !unzip \"/content/drive/My Drive/telugu/azuredataset.zip\" -d \"/content/espnet/egs/telegu/as1/wavdata\"\n",
        "\n",
        "# !mkdir \"/content/espnet/egs/telegu/as1/wavdata\""
      ],
      "execution_count": null,
      "outputs": []
    },
    {
      "cell_type": "code",
      "metadata": {
        "id": "0rzwYvmhx-tw",
        "colab_type": "code",
        "colab": {}
      },
      "source": [
        "# def str_replace(str_1,str_2,filepath):\n",
        "# \tfp = open(filepath,'r')\n",
        "# \tfp_changed = open(\"wav1.scp\",'w')\n",
        "# \tfor i in fp:\n",
        "# \t\tx = i.split(str_1)\n",
        "# \t\ty = x[0] + str_2 + x[1]\n",
        "# \t\tfp_changed.write(y)\n",
        "\n",
        "# \tfp.close()\n",
        "# \tfp_changed.close()\n",
        "\n",
        "# dir_path = \"/content/espnet/egs/telegu/as1\"\n",
        "\t\t\n",
        "# str_replace(\"media/user/ProfSavitha\",dir_path+\"/wavdata/te-in-Train/Audios\",dir_path+\"/data/train/wav.scp\")"
      ],
      "execution_count": null,
      "outputs": []
    },
    {
      "cell_type": "markdown",
      "metadata": {
        "colab_type": "text",
        "id": "A_ATcz0jnCcF"
      },
      "source": [
        "## 3.1 Kaldi-style directory structure\n",
        "\n",
        "Always we organize each recipe as `egs/xxx/asr1/run.sh`\n",
        "\n",
        "The most important directories:\n",
        "- `run.sh`: Main script of the recipe.\n",
        "- `cmd.sh`: Command configuration script to control how-to-run each job.\n",
        "- `path.sh`: Path configuration script. Basically, we do not need to touch.\n",
        "- `conf/`: Directory containing configuration files e.g.g.\n",
        "- `local/`: Directory containing the recipe-specific scripts e.g. data preparation.\n",
        "- `steps/` and `utils/`: Directory containing kaldi tools.\n"
      ]
    },
    {
      "cell_type": "code",
      "metadata": {
        "colab_type": "code",
        "id": "gsVAFRyNmr_h",
        "colab": {
          "base_uri": "https://localhost:8080/",
          "height": 139
        },
        "outputId": "453df997-7219-45ac-a0ea-b9d30c6f6662"
      },
      "source": [
        "# move on the recipe directory\n",
        "import os\n",
        "os.chdir(\"/content/espnet/egs/telugu/asr1\")\n",
        "\n",
        "\n",
        "# check files\n",
        "!tree -L 1"
      ],
      "execution_count": 5,
      "outputs": [
        {
          "output_type": "stream",
          "text": [
            ".\n",
            "├── dump\n",
            "├── __MACOSX\n",
            "├── telugu_espnet_data\n",
            "└── wavdata\n",
            "\n",
            "4 directories, 0 files\n"
          ],
          "name": "stdout"
        }
      ]
    },
    {
      "cell_type": "code",
      "metadata": {
        "id": "4vXVLlu9AloS",
        "colab_type": "code",
        "colab": {}
      },
      "source": [
        "!mv telugu_espnet_data/* \"./\""
      ],
      "execution_count": 6,
      "outputs": []
    },
    {
      "cell_type": "markdown",
      "metadata": {
        "colab_type": "text",
        "id": "WkkVjeBM_PNo"
      },
      "source": [
        "\n",
        "## 3.2 Data preparation (Stage 0 - 2)\n",
        "\n",
        "For example, if you add `--stop-stage 2`, you can stop the script before neural network training.\n",
        "\n",
        "These stages perform FBANK speech feature extraction, normalization, and text formatting.\n",
        "\n",
        "![image.png](https://github.com/espnet/interspeech2019-tutorial/blob/master/notebooks/interspeech2019_asr/figs/stages_prep.png?raw=1)"
      ]
    },
    {
      "cell_type": "code",
      "metadata": {
        "id": "2og_WRwk72rs",
        "colab_type": "code",
        "colab": {}
      },
      "source": [
        "!chmod 755 run.sh"
      ],
      "execution_count": 7,
      "outputs": []
    },
    {
      "cell_type": "code",
      "metadata": {
        "id": "iSctkYJs8I4S",
        "colab_type": "code",
        "colab": {
          "base_uri": "https://localhost:8080/",
          "height": 52
        },
        "outputId": "3048a5de-991a-4b15-8190-f692fd67b918"
      },
      "source": [
        "!ls"
      ],
      "execution_count": 8,
      "outputs": [
        {
          "output_type": "stream",
          "text": [
            "cmd.sh\tdata  local\tpath.sh  telugu_espnet_data\n",
            "conf\tdump  __MACOSX\trun.sh\t wavdata\n"
          ],
          "name": "stdout"
        }
      ]
    },
    {
      "cell_type": "code",
      "metadata": {
        "id": "CeG0nTf688Rj",
        "colab_type": "code",
        "colab": {}
      },
      "source": [
        "!sed -i -e 's/\\r$//' run.sh"
      ],
      "execution_count": 9,
      "outputs": []
    },
    {
      "cell_type": "code",
      "metadata": {
        "id": "zkMgEzy9QKRK",
        "colab_type": "code",
        "colab": {}
      },
      "source": [
        "!ln -s ../../../tools/kaldi/egs/wsj/s5/steps steps\n",
        "!ln -s ../../../tools/kaldi/egs/wsj/s5/utils utils"
      ],
      "execution_count": 10,
      "outputs": []
    },
    {
      "cell_type": "code",
      "metadata": {
        "id": "c40PWi8wzY0N",
        "colab_type": "code",
        "colab": {
          "base_uri": "https://localhost:8080/",
          "height": 471
        },
        "outputId": "02723a71-9f79-4221-8f9e-0cdde3a70ba8"
      },
      "source": [
        "# run stage -1 and then stop\n",
        "# !./run.sh --stop_stage 2\n",
        "# !cp \"/content/espnet/tools/kaldi/egs/wsj/s5/utils/parse_options.sh\" \"/content/espnet/tools/kaldi/egs/wsj/s5/steps/\"\n",
        "\n",
        "!./run.sh --stage 1 --stop-stage 1"
      ],
      "execution_count": 11,
      "outputs": [
        {
          "output_type": "stream",
          "text": [
            "stage 1: Feature Generation\n",
            "../../../tools/kaldi/egs/wsj/s5/steps/make_fbank_pitch.sh --cmd run.pl --nj 8 --write_utt2num_frames true data/test exp/make_fbank/test fbank\n",
            "../../../tools/kaldi/egs/wsj/s5/steps/make_fbank_pitch.sh: moving data/test/feats.scp to data/test/.backup\n",
            "utils/validate_data_dir.sh: Successfully validated data-directory data/test\n",
            "../../../tools/kaldi/egs/wsj/s5/steps/make_fbank_pitch.sh: [info]: no segments file exists: assuming wav.scp indexed by utterance.\n",
            "../../../tools/kaldi/egs/wsj/s5/steps/make_fbank_pitch.sh: Succeeded creating filterbank and pitch features for test\n",
            "fix_data_dir.sh: kept all 3040 utterances.\n",
            "fix_data_dir.sh: old files are kept in data/test/.backup\n",
            "../../../tools/kaldi/egs/wsj/s5/steps/make_fbank_pitch.sh --cmd run.pl --nj 8 --write_utt2num_frames true data/train exp/make_fbank/train fbank\n",
            "../../../tools/kaldi/egs/wsj/s5/steps/make_fbank_pitch.sh: moving data/train/feats.scp to data/train/.backup\n",
            "utils/validate_data_dir.sh: Successfully validated data-directory data/train\n",
            "../../../tools/kaldi/egs/wsj/s5/steps/make_fbank_pitch.sh: [info]: no segments file exists: assuming wav.scp indexed by utterance.\n",
            "../../../tools/kaldi/egs/wsj/s5/steps/make_fbank_pitch.sh: Succeeded creating filterbank and pitch features for train\n",
            "fix_data_dir.sh: kept all 44882 utterances.\n",
            "fix_data_dir.sh: old files are kept in data/train/.backup\n",
            "../../../tools/kaldi/egs/wsj/s5/utils/subset_data_dir.sh: reducing #utt from 44882 to 100\n",
            "../../../tools/kaldi/egs/wsj/s5/utils/subset_data_dir.sh: reducing #utt from 44882 to 44782\n",
            "compute-cmvn-stats scp:data/train_nodev/feats.scp data/train_nodev/cmvn.ark \n",
            "LOG (compute-cmvn-stats[5.5.428~1-29b3]:main():compute-cmvn-stats.cc:168) Wrote global CMVN stats to data/train_nodev/cmvn.ark\n",
            "LOG (compute-cmvn-stats[5.5.428~1-29b3]:main():compute-cmvn-stats.cc:171) Done accumulating CMVN stats for 44782 utterances; 0 had errors.\n",
            "/content/espnet/egs/telugu/asr1/../../../utils/dump.sh --cmd run.pl --nj 8 --do_delta false data/train_nodev/feats.scp data/train_nodev/cmvn.ark exp/dump_feats/train /content/espnet/egs/telegu/filterbank/train_nodev/deltafalse\n",
            "/content/espnet/egs/telugu/asr1/../../../utils/dump.sh --cmd run.pl --nj 8 --do_delta false data/train_dev/feats.scp data/train_nodev/cmvn.ark exp/dump_feats/dev /content/espnet/egs/telegu/filterbank/train_dev/deltafalse\n",
            "/content/espnet/egs/telugu/asr1/../../../utils/dump.sh --cmd run.pl --nj 8 --do_delta false data/train/feats.scp data/train_nodev/cmvn.ark exp/dump_feats/recog/train /content/espnet/egs/telegu/filterbank/train/deltafalse\n",
            "dictionary: data/lang_1char/train_nodev_units.txt\n",
            "stage 4 completed\n"
          ],
          "name": "stdout"
        }
      ]
    },
    {
      "cell_type": "code",
      "metadata": {
        "id": "0nilEEevQT-l",
        "colab_type": "code",
        "colab": {}
      },
      "source": [
        "# !ls utils"
      ],
      "execution_count": 12,
      "outputs": []
    },
    {
      "cell_type": "code",
      "metadata": {
        "id": "xcZvstSw_hbw",
        "colab_type": "code",
        "colab": {
          "base_uri": "https://localhost:8080/",
          "height": 211
        },
        "outputId": "e3e13ba3-2935-429e-e7dd-0596ddaabdfb"
      },
      "source": [
        "!./run.sh --stage 2 --stop-stage 2"
      ],
      "execution_count": 13,
      "outputs": [
        {
          "output_type": "stream",
          "text": [
            "dictionary: data/lang_1char/train_nodev_units.txt\n",
            "stage 2: Dictionary and Json Data Preparation\n",
            "26 data/lang_1char/train_nodev_units.txt\n",
            "/content/espnet/egs/telugu/asr1/../../../utils/data2json.sh --feat /content/espnet/egs/telegu/filterbank/train_nodev/deltafalse/feats.scp data/train_nodev data/lang_1char/train_nodev_units.txt\n",
            "/content/espnet/egs/telugu/asr1/../../../utils/feat_to_shape.sh --cmd run.pl --nj 1 --filetype  --preprocess-conf  --verbose 0 /content/espnet/egs/telegu/filterbank/train_nodev/deltafalse/feats.scp data/train_nodev/tmp-9wJiq/input_1/shape.scp\n",
            "/content/espnet/egs/telugu/asr1/../../../utils/data2json.sh --feat /content/espnet/egs/telegu/filterbank/train_dev/deltafalse/feats.scp data/train_dev data/lang_1char/train_nodev_units.txt\n",
            "/content/espnet/egs/telugu/asr1/../../../utils/feat_to_shape.sh --cmd run.pl --nj 1 --filetype  --preprocess-conf  --verbose 0 /content/espnet/egs/telegu/filterbank/train_dev/deltafalse/feats.scp data/train_dev/tmp-jZZmz/input_1/shape.scp\n",
            "/content/espnet/egs/telugu/asr1/../../../utils/data2json.sh --feat /content/espnet/egs/telegu/filterbank/train/deltafalse/feats.scp data/train data/lang_1char/train_nodev_units.txt\n",
            "/content/espnet/egs/telugu/asr1/../../../utils/feat_to_shape.sh --cmd run.pl --nj 1 --filetype  --preprocess-conf  --verbose 0 /content/espnet/egs/telegu/filterbank/train/deltafalse/feats.scp data/train/tmp-NIT3Q/input_1/shape.scp\n",
            "stage 4 completed\n"
          ],
          "name": "stdout"
        }
      ]
    },
    {
      "cell_type": "markdown",
      "metadata": {
        "colab_type": "text",
        "id": "O88CpXHtHnZA"
      },
      "source": [
        "Now ready to start training!"
      ]
    },
    {
      "cell_type": "markdown",
      "metadata": {
        "colab_type": "text",
        "id": "xdguXokUwn7V"
      },
      "source": [
        "## 3.3 NN Training (Stage 3 - 4)\n",
        "\n",
        "You can configure NN training with `conf/train_xxx.yaml`\n",
        "\n",
        "![image.png](https://github.com/espnet/interspeech2019-tutorial/blob/master/notebooks/interspeech2019_asr/figs/stages_nn.png?raw=1)"
      ]
    },
    {
      "cell_type": "markdown",
      "metadata": {
        "id": "8JwHNT4fuS4e",
        "colab_type": "text"
      },
      "source": [
        "## 3.3.1 Run LM\n",
        "\n",
        "First, we train RNNLM for the AN4 data"
      ]
    },
    {
      "cell_type": "code",
      "metadata": {
        "colab_type": "code",
        "id": "-vNl2QcXwOGS",
        "colab": {
          "base_uri": "https://localhost:8080/",
          "height": 87
        },
        "outputId": "9c669114-21c9-4144-d7cc-b4046b96b371"
      },
      "source": [
        "# it takes 2 minutes\n",
        "!./run.sh  --ngpu 1 --stage 3 --stop-stage 3"
      ],
      "execution_count": 14,
      "outputs": [
        {
          "output_type": "stream",
          "text": [
            "dictionary: data/lang_1char/train_nodev_units.txt\n",
            "stage 3: LM Preparation\n",
            "WARNING:root:OOV rate = 75.40 %\n",
            "stage 4 completed\n"
          ],
          "name": "stdout"
        }
      ]
    },
    {
      "cell_type": "markdown",
      "metadata": {
        "id": "vvPSgyXU8XYJ",
        "colab_type": "text"
      },
      "source": [
        "After we finish the LM training, we can check the perplexity from the log file (`train.log`)"
      ]
    },
    {
      "cell_type": "code",
      "metadata": {
        "id": "FFwcNkc28n8C",
        "colab_type": "code",
        "colab": {
          "base_uri": "https://localhost:8080/",
          "height": 52
        },
        "outputId": "72b492e1-e468-494a-e8cb-a8744f8889a8"
      },
      "source": [
        "# check the LM perplexity\n",
        "!cat exp/train_rnnlm_chainer_false/train.log | grep perplexity"
      ],
      "execution_count": 15,
      "outputs": [
        {
          "output_type": "stream",
          "text": [
            "epoch       iteration   perplexity  val_perplexity  elapsed_time\n",
            "2020-06-25 12:39:57,293 (lm:486) INFO: test perplexity: 3.720916339950318\n"
          ],
          "name": "stdout"
        }
      ]
    },
    {
      "cell_type": "markdown",
      "metadata": {
        "id": "1dWeTSyq9g35",
        "colab_type": "text"
      },
      "source": [
        "Please check the `test perplexity` with the above command. The perplexity value should be around 14."
      ]
    },
    {
      "cell_type": "markdown",
      "metadata": {
        "id": "0xxUnqdH44s1",
        "colab_type": "text"
      },
      "source": [
        "## 3.3.2 ASR NN training\n",
        "\n",
        "We train ASR NN for the AN4 data"
      ]
    },
    {
      "cell_type": "markdown",
      "metadata": {
        "id": "elmKPNufuS4T",
        "colab_type": "text"
      },
      "source": [
        "## ASR training config: RNN with Attention\n",
        "\n",
        "- you can check the default config in the following command\n",
        "- (optional) complete list of common options https://espnet.github.io/espnet/apis/espnet_bin.html#asr-train-py\n",
        "- (optional) complete list of model-specific options https://espnet.github.io/espnet/_modules/espnet/nets/pytorch_backend/e2e_asr.html#E2E.add_arguments\n",
        "\n"
      ]
    },
    {
      "cell_type": "code",
      "metadata": {
        "colab_type": "code",
        "id": "Wmi7ggV4U_pv",
        "colab": {
          "base_uri": "https://localhost:8080/",
          "height": 644
        },
        "outputId": "51c492d4-db6d-4444-ce18-048842f15cc7"
      },
      "source": [
        "!cat /content/espnet/egs/telugu/asr1/conf/train_mtlalpha0.5.yaml"
      ],
      "execution_count": 16,
      "outputs": [
        {
          "output_type": "stream",
          "text": [
            "# minibatch related\n",
            "batch-size: 30\n",
            "maxlen-in: 800  # if input length  > maxlen_in, batchsize is automatically reduced\n",
            "maxlen-out: 150 # if output length > maxlen_out, batchsize is automatically reduced\n",
            "# optimization related\n",
            "sortagrad: 0 # Feed samples from shortest to longest ; -1: enabled for all epochs, 0: disabled, other: enabled for 'other' epochs\n",
            "opt: adadelta\n",
            "epochs: 100\n",
            "patience: 3\n",
            "\n",
            "# scheduled sampling option\n",
            "sampling-probability: 0.0\n",
            "\n",
            "# encoder related\n",
            "etype: blstmp     # encoder architecture type\n",
            "elayers: 4\n",
            "eunits: 320\n",
            "eprojs: 320\n",
            "subsample: \"1_2_2_1_1\" # skip every n frame from input to nth layers\n",
            "# decoder related\n",
            "dlayers: 1\n",
            "dunits: 300\n",
            "# attention related\n",
            "atype: location\n",
            "adim: 320\n",
            "aconv-chans: 10\n",
            "aconv-filts: 100\n",
            "\n",
            "# hybrid CTC/attention\n",
            "mtlalpha: 0.5\n",
            "\n",
            "\n",
            "# Report CER & WER\n",
            "report-cer: true\n",
            "report-wer: true\n"
          ],
          "name": "stdout"
        }
      ]
    },
    {
      "cell_type": "markdown",
      "metadata": {
        "id": "OTa5DlNK5L3j",
        "colab_type": "text"
      },
      "source": [
        "## Perform ASR NN training\n"
      ]
    },
    {
      "cell_type": "code",
      "metadata": {
        "id": "eIYwv4HAYYw_",
        "colab_type": "code",
        "colab": {
          "base_uri": "https://localhost:8080/",
          "height": 245
        },
        "outputId": "d328a544-d245-4fc4-a7aa-b2cc19f7f6a5"
      },
      "source": [
        "pip install numba==0.48.0"
      ],
      "execution_count": 17,
      "outputs": [
        {
          "output_type": "stream",
          "text": [
            "Collecting numba==0.48.0\n",
            "\u001b[?25l  Downloading https://files.pythonhosted.org/packages/ba/49/61522f34b1333aa4e9aa02005dc0774d25bd234400dff718b16615d6a744/numba-0.48.0-cp36-cp36m-manylinux1_x86_64.whl (2.5MB)\n",
            "\u001b[K     |████████████████████████████████| 2.5MB 2.7MB/s \n",
            "\u001b[?25hRequirement already satisfied: llvmlite<0.32.0,>=0.31.0dev0 in /usr/local/lib/python3.6/dist-packages (from numba==0.48.0) (0.31.0)\n",
            "Requirement already satisfied: numpy>=1.15 in /usr/local/lib/python3.6/dist-packages (from numba==0.48.0) (1.18.5)\n",
            "Requirement already satisfied: setuptools in /usr/local/lib/python3.6/dist-packages (from numba==0.48.0) (47.3.1)\n",
            "\u001b[31mERROR: espnet 0.8.0 has requirement numba==0.49, but you'll have numba 0.48.0 which is incompatible.\u001b[0m\n",
            "Installing collected packages: numba\n",
            "  Found existing installation: numba 0.49.0\n",
            "    Uninstalling numba-0.49.0:\n",
            "      Successfully uninstalled numba-0.49.0\n",
            "Successfully installed numba-0.48.0\n"
          ],
          "name": "stdout"
        }
      ]
    },
    {
      "cell_type": "code",
      "metadata": {
        "id": "wJvdDI1RZGls",
        "colab_type": "code",
        "colab": {
          "base_uri": "https://localhost:8080/",
          "height": 1000
        },
        "outputId": "88ea9a35-9471-4dff-980c-68be16e715d4"
      },
      "source": [
        "!/content/espnet/tools/install_chainer_ctc.sh"
      ],
      "execution_count": 18,
      "outputs": [
        {
          "output_type": "stream",
          "text": [
            "Cloning into 'chainer_ctc'...\n",
            "remote: Enumerating objects: 56, done.\u001b[K\n",
            "remote: Total 56 (delta 0), reused 0 (delta 0), pack-reused 56\u001b[K\n",
            "Unpacking objects: 100% (56/56), done.\n",
            "Requirement already satisfied: cython in /usr/local/lib/python3.6/dist-packages (0.29.20)\n",
            "Cloning into '.'...\n",
            "remote: Enumerating objects: 827, done.\u001b[K\n",
            "remote: Total 827 (delta 0), reused 0 (delta 0), pack-reused 827\u001b[K\n",
            "Receiving objects: 100% (827/827), 386.00 KiB | 541.00 KiB/s, done.\n",
            "Resolving deltas: 100% (424/424), done.\n",
            "-- The C compiler identification is GNU 7.5.0\n",
            "-- The CXX compiler identification is GNU 7.5.0\n",
            "-- Check for working C compiler: /usr/bin/cc\n",
            "-- Check for working C compiler: /usr/bin/cc -- works\n",
            "-- Detecting C compiler ABI info\n",
            "-- Detecting C compiler ABI info - done\n",
            "-- Detecting C compile features\n",
            "-- Detecting C compile features - done\n",
            "-- Check for working CXX compiler: /usr/bin/c++\n",
            "-- Check for working CXX compiler: /usr/bin/c++ -- works\n",
            "-- Detecting CXX compiler ABI info\n",
            "-- Detecting CXX compiler ABI info - done\n",
            "-- Detecting CXX compile features\n",
            "-- Detecting CXX compile features - done\n",
            "-- Looking for pthread.h\n",
            "-- Looking for pthread.h - found\n",
            "-- Looking for pthread_create\n",
            "-- Looking for pthread_create - not found\n",
            "-- Looking for pthread_create in pthreads\n",
            "-- Looking for pthread_create in pthreads - not found\n",
            "-- Looking for pthread_create in pthread\n",
            "-- Looking for pthread_create in pthread - found\n",
            "-- Found Threads: TRUE  \n",
            "-- Found CUDA: /usr/local/cuda (found suitable version \"10.1\", minimum required is \"6.5\") \n",
            "-- cuda found TRUE\n",
            "-- Building shared library with GPU support\n",
            "-- Configuring done\n",
            "-- Generating done\n",
            "-- Build files have been written to: /content/espnet/egs/telugu/asr1/chainer_ctc/ext/warp-ctc/build\n",
            "[ 11%] \u001b[34m\u001b[1mBuilding NVCC (Device) object CMakeFiles/warpctc.dir/src/warpctc_generated_reduce.cu.o\u001b[0m\n",
            "/content/espnet/egs/telugu/asr1/chainer_ctc/ext/warp-ctc/src/reduce.cu(44): warning: function \"__shfl_down(float, unsigned int, int)\"\n",
            "/usr/local/cuda/include/sm_30_intrinsics.hpp(207): here was declared deprecated (\"__shfl_down() is deprecated in favor of __shfl_down_sync() and may be removed in a future release (Use -Wno-deprecated-declarations to suppress this warning).\")\n",
            "          detected during:\n",
            "            instantiation of \"T CTAReduce<NT, T, Rop>::reduce(int, T, CTAReduce<NT, T, Rop>::Storage &, int, Rop) [with NT=128, T=float, Rop=ctc_helper::add<float, float>]\" \n",
            "(76): here\n",
            "            instantiation of \"void reduce_rows<NT,Iop,Rop,T>(Iop, Rop, const T *, T *, int, int) [with NT=128, Iop=ctc_helper::negate<float, float>, Rop=ctc_helper::add<float, float>, T=float]\" \n",
            "(124): here\n",
            "            instantiation of \"void ReduceHelper::impl(Iof, Rof, const T *, T *, int, int, __nv_bool, cudaStream_t) [with T=float, Iof=ctc_helper::negate<float, float>, Rof=ctc_helper::add<float, float>]\" \n",
            "(139): here\n",
            "            instantiation of \"ctcStatus_t reduce(Iof, Rof, const T *, T *, int, int, __nv_bool, cudaStream_t) [with T=float, Iof=ctc_helper::negate<float, float>, Rof=ctc_helper::add<float, float>]\" \n",
            "(149): here\n",
            "\n",
            "/content/espnet/egs/telugu/asr1/chainer_ctc/ext/warp-ctc/src/reduce.cu(44): warning: function \"__shfl_down(float, unsigned int, int)\"\n",
            "/usr/local/cuda/include/sm_30_intrinsics.hpp(207): here was declared deprecated (\"__shfl_down() is deprecated in favor of __shfl_down_sync() and may be removed in a future release (Use -Wno-deprecated-declarations to suppress this warning).\")\n",
            "          detected during:\n",
            "            instantiation of \"T CTAReduce<NT, T, Rop>::reduce(int, T, CTAReduce<NT, T, Rop>::Storage &, int, Rop) [with NT=128, T=float, Rop=ctc_helper::maximum<float, float>]\" \n",
            "(76): here\n",
            "            instantiation of \"void reduce_rows<NT,Iop,Rop,T>(Iop, Rop, const T *, T *, int, int) [with NT=128, Iop=ctc_helper::identity<float, float>, Rop=ctc_helper::maximum<float, float>, T=float]\" \n",
            "(124): here\n",
            "            instantiation of \"void ReduceHelper::impl(Iof, Rof, const T *, T *, int, int, __nv_bool, cudaStream_t) [with T=float, Iof=ctc_helper::identity<float, float>, Rof=ctc_helper::maximum<float, float>]\" \n",
            "(139): here\n",
            "            instantiation of \"ctcStatus_t reduce(Iof, Rof, const T *, T *, int, int, __nv_bool, cudaStream_t) [with T=float, Iof=ctc_helper::identity<float, float>, Rof=ctc_helper::maximum<float, float>]\" \n",
            "(157): here\n",
            "\n",
            "/content/espnet/egs/telugu/asr1/chainer_ctc/ext/warp-ctc/src/reduce.cu(44): warning: function \"__shfl_down(float, unsigned int, int)\"\n",
            "/usr/local/cuda/include/sm_30_intrinsics.hpp(207): here was declared deprecated (\"__shfl_down() is deprecated in favor of __shfl_down_sync() and may be removed in a future release (Use -Wno-deprecated-declarations to suppress this warning).\")\n",
            "          detected during:\n",
            "            instantiation of \"T CTAReduce<NT, T, Rop>::reduce(int, T, CTAReduce<NT, T, Rop>::Storage &, int, Rop) [with NT=128, T=float, Rop=ctc_helper::add<float, float>]\" \n",
            "(76): here\n",
            "            instantiation of \"void reduce_rows<NT,Iop,Rop,T>(Iop, Rop, const T *, T *, int, int) [with NT=128, Iop=ctc_helper::negate<float, float>, Rop=ctc_helper::add<float, float>, T=float]\" \n",
            "(124): here\n",
            "            instantiation of \"void ReduceHelper::impl(Iof, Rof, const T *, T *, int, int, __nv_bool, cudaStream_t) [with T=float, Iof=ctc_helper::negate<float, float>, Rof=ctc_helper::add<float, float>]\" \n",
            "(139): here\n",
            "            instantiation of \"ctcStatus_t reduce(Iof, Rof, const T *, T *, int, int, __nv_bool, cudaStream_t) [with T=float, Iof=ctc_helper::negate<float, float>, Rof=ctc_helper::add<float, float>]\" \n",
            "(149): here\n",
            "\n",
            "/content/espnet/egs/telugu/asr1/chainer_ctc/ext/warp-ctc/src/reduce.cu(44): warning: function \"__shfl_down(float, unsigned int, int)\"\n",
            "/usr/local/cuda/include/sm_30_intrinsics.hpp(207): here was declared deprecated (\"__shfl_down() is deprecated in favor of __shfl_down_sync() and may be removed in a future release (Use -Wno-deprecated-declarations to suppress this warning).\")\n",
            "          detected during:\n",
            "            instantiation of \"T CTAReduce<NT, T, Rop>::reduce(int, T, CTAReduce<NT, T, Rop>::Storage &, int, Rop) [with NT=128, T=float, Rop=ctc_helper::maximum<float, float>]\" \n",
            "(76): here\n",
            "            instantiation of \"void reduce_rows<NT,Iop,Rop,T>(Iop, Rop, const T *, T *, int, int) [with NT=128, Iop=ctc_helper::identity<float, float>, Rop=ctc_helper::maximum<float, float>, T=float]\" \n",
            "(124): here\n",
            "            instantiation of \"void ReduceHelper::impl(Iof, Rof, const T *, T *, int, int, __nv_bool, cudaStream_t) [with T=float, Iof=ctc_helper::identity<float, float>, Rof=ctc_helper::maximum<float, float>]\" \n",
            "(139): here\n",
            "            instantiation of \"ctcStatus_t reduce(Iof, Rof, const T *, T *, int, int, __nv_bool, cudaStream_t) [with T=float, Iof=ctc_helper::identity<float, float>, Rof=ctc_helper::maximum<float, float>]\" \n",
            "(157): here\n",
            "\n",
            "ptxas /tmp/tmpxft_00000f6a_00000000-11_reduce.compute_30.ptx, line 154; warning : Instruction 'shfl' without '.sync' is deprecated since PTX ISA version 6.0 and will be discontinued in a future PTX ISA version\n",
            "ptxas /tmp/tmpxft_00000f6a_00000000-11_reduce.compute_30.ptx, line 164; warning : Instruction 'shfl' without '.sync' is deprecated since PTX ISA version 6.0 and will be discontinued in a future PTX ISA version\n",
            "ptxas /tmp/tmpxft_00000f6a_00000000-11_reduce.compute_30.ptx, line 174; warning : Instruction 'shfl' without '.sync' is deprecated since PTX ISA version 6.0 and will be discontinued in a future PTX ISA version\n",
            "ptxas /tmp/tmpxft_00000f6a_00000000-11_reduce.compute_30.ptx, line 184; warning : Instruction 'shfl' without '.sync' is deprecated since PTX ISA version 6.0 and will be discontinued in a future PTX ISA version\n",
            "ptxas /tmp/tmpxft_00000f6a_00000000-11_reduce.compute_30.ptx, line 194; warning : Instruction 'shfl' without '.sync' is deprecated since PTX ISA version 6.0 and will be discontinued in a future PTX ISA version\n",
            "ptxas /tmp/tmpxft_00000f6a_00000000-11_reduce.compute_30.ptx, line 552; warning : Instruction 'shfl' without '.sync' is deprecated since PTX ISA version 6.0 and will be discontinued in a future PTX ISA version\n",
            "ptxas /tmp/tmpxft_00000f6a_00000000-11_reduce.compute_30.ptx, line 562; warning : Instruction 'shfl' without '.sync' is deprecated since PTX ISA version 6.0 and will be discontinued in a future PTX ISA version\n",
            "ptxas /tmp/tmpxft_00000f6a_00000000-11_reduce.compute_30.ptx, line 572; warning : Instruction 'shfl' without '.sync' is deprecated since PTX ISA version 6.0 and will be discontinued in a future PTX ISA version\n",
            "ptxas /tmp/tmpxft_00000f6a_00000000-11_reduce.compute_30.ptx, line 582; warning : Instruction 'shfl' without '.sync' is deprecated since PTX ISA version 6.0 and will be discontinued in a future PTX ISA version\n",
            "ptxas /tmp/tmpxft_00000f6a_00000000-11_reduce.compute_30.ptx, line 592; warning : Instruction 'shfl' without '.sync' is deprecated since PTX ISA version 6.0 and will be discontinued in a future PTX ISA version\n",
            "ptxas /tmp/tmpxft_00000f6a_00000000-11_reduce.compute_30.ptx, line 884; warning : Instruction 'shfl' without '.sync' is deprecated since PTX ISA version 6.0 and will be discontinued in a future PTX ISA version\n",
            "ptxas /tmp/tmpxft_00000f6a_00000000-11_reduce.compute_30.ptx, line 898; warning : Instruction 'shfl' without '.sync' is deprecated since PTX ISA version 6.0 and will be discontinued in a future PTX ISA version\n",
            "ptxas /tmp/tmpxft_00000f6a_00000000-11_reduce.compute_30.ptx, line 912; warning : Instruction 'shfl' without '.sync' is deprecated since PTX ISA version 6.0 and will be discontinued in a future PTX ISA version\n",
            "ptxas /tmp/tmpxft_00000f6a_00000000-11_reduce.compute_30.ptx, line 926; warning : Instruction 'shfl' without '.sync' is deprecated since PTX ISA version 6.0 and will be discontinued in a future PTX ISA version\n",
            "ptxas /tmp/tmpxft_00000f6a_00000000-11_reduce.compute_30.ptx, line 940; warning : Instruction 'shfl' without '.sync' is deprecated since PTX ISA version 6.0 and will be discontinued in a future PTX ISA version\n",
            "/content/espnet/egs/telugu/asr1/chainer_ctc/ext/warp-ctc/src/reduce.cu(44): warning: function \"__shfl_down(float, unsigned int, int)\"\n",
            "/usr/local/cuda/include/sm_30_intrinsics.hpp(207): here was declared deprecated (\"__shfl_down() is deprecated in favor of __shfl_down_sync() and may be removed in a future release (Use -Wno-deprecated-declarations to suppress this warning).\")\n",
            "          detected during:\n",
            "            instantiation of \"T CTAReduce<NT, T, Rop>::reduce(int, T, CTAReduce<NT, T, Rop>::Storage &, int, Rop) [with NT=128, T=float, Rop=ctc_helper::add<float, float>]\" \n",
            "(76): here\n",
            "            instantiation of \"void reduce_rows<NT,Iop,Rop,T>(Iop, Rop, const T *, T *, int, int) [with NT=128, Iop=ctc_helper::negate<float, float>, Rop=ctc_helper::add<float, float>, T=float]\" \n",
            "(124): here\n",
            "            instantiation of \"void ReduceHelper::impl(Iof, Rof, const T *, T *, int, int, __nv_bool, cudaStream_t) [with T=float, Iof=ctc_helper::negate<float, float>, Rof=ctc_helper::add<float, float>]\" \n",
            "(139): here\n",
            "            instantiation of \"ctcStatus_t reduce(Iof, Rof, const T *, T *, int, int, __nv_bool, cudaStream_t) [with T=float, Iof=ctc_helper::negate<float, float>, Rof=ctc_helper::add<float, float>]\" \n",
            "(149): here\n",
            "\n",
            "/content/espnet/egs/telugu/asr1/chainer_ctc/ext/warp-ctc/src/reduce.cu(44): warning: function \"__shfl_down(float, unsigned int, int)\"\n",
            "/usr/local/cuda/include/sm_30_intrinsics.hpp(207): here was declared deprecated (\"__shfl_down() is deprecated in favor of __shfl_down_sync() and may be removed in a future release (Use -Wno-deprecated-declarations to suppress this warning).\")\n",
            "          detected during:\n",
            "            instantiation of \"T CTAReduce<NT, T, Rop>::reduce(int, T, CTAReduce<NT, T, Rop>::Storage &, int, Rop) [with NT=128, T=float, Rop=ctc_helper::maximum<float, float>]\" \n",
            "(76): here\n",
            "            instantiation of \"void reduce_rows<NT,Iop,Rop,T>(Iop, Rop, const T *, T *, int, int) [with NT=128, Iop=ctc_helper::identity<float, float>, Rop=ctc_helper::maximum<float, float>, T=float]\" \n",
            "(124): here\n",
            "            instantiation of \"void ReduceHelper::impl(Iof, Rof, const T *, T *, int, int, __nv_bool, cudaStream_t) [with T=float, Iof=ctc_helper::identity<float, float>, Rof=ctc_helper::maximum<float, float>]\" \n",
            "(139): here\n",
            "            instantiation of \"ctcStatus_t reduce(Iof, Rof, const T *, T *, int, int, __nv_bool, cudaStream_t) [with T=float, Iof=ctc_helper::identity<float, float>, Rof=ctc_helper::maximum<float, float>]\" \n",
            "(157): here\n",
            "\n",
            "ptxas /tmp/tmpxft_00000f6a_00000000-10_reduce.compute_35.ptx, line 155; warning : Instruction 'shfl' without '.sync' is deprecated since PTX ISA version 6.0 and will be discontinued in a future PTX ISA version\n",
            "ptxas /tmp/tmpxft_00000f6a_00000000-10_reduce.compute_35.ptx, line 165; warning : Instruction 'shfl' without '.sync' is deprecated since PTX ISA version 6.0 and will be discontinued in a future PTX ISA version\n",
            "ptxas /tmp/tmpxft_00000f6a_00000000-10_reduce.compute_35.ptx, line 175; warning : Instruction 'shfl' without '.sync' is deprecated since PTX ISA version 6.0 and will be discontinued in a future PTX ISA version\n",
            "ptxas /tmp/tmpxft_00000f6a_00000000-10_reduce.compute_35.ptx, line 185; warning : Instruction 'shfl' without '.sync' is deprecated since PTX ISA version 6.0 and will be discontinued in a future PTX ISA version\n",
            "ptxas /tmp/tmpxft_00000f6a_00000000-10_reduce.compute_35.ptx, line 195; warning : Instruction 'shfl' without '.sync' is deprecated since PTX ISA version 6.0 and will be discontinued in a future PTX ISA version\n",
            "ptxas /tmp/tmpxft_00000f6a_00000000-10_reduce.compute_35.ptx, line 553; warning : Instruction 'shfl' without '.sync' is deprecated since PTX ISA version 6.0 and will be discontinued in a future PTX ISA version\n",
            "ptxas /tmp/tmpxft_00000f6a_00000000-10_reduce.compute_35.ptx, line 563; warning : Instruction 'shfl' without '.sync' is deprecated since PTX ISA version 6.0 and will be discontinued in a future PTX ISA version\n",
            "ptxas /tmp/tmpxft_00000f6a_00000000-10_reduce.compute_35.ptx, line 573; warning : Instruction 'shfl' without '.sync' is deprecated since PTX ISA version 6.0 and will be discontinued in a future PTX ISA version\n",
            "ptxas /tmp/tmpxft_00000f6a_00000000-10_reduce.compute_35.ptx, line 583; warning : Instruction 'shfl' without '.sync' is deprecated since PTX ISA version 6.0 and will be discontinued in a future PTX ISA version\n",
            "ptxas /tmp/tmpxft_00000f6a_00000000-10_reduce.compute_35.ptx, line 593; warning : Instruction 'shfl' without '.sync' is deprecated since PTX ISA version 6.0 and will be discontinued in a future PTX ISA version\n",
            "ptxas /tmp/tmpxft_00000f6a_00000000-10_reduce.compute_35.ptx, line 872; warning : Instruction 'shfl' without '.sync' is deprecated since PTX ISA version 6.0 and will be discontinued in a future PTX ISA version\n",
            "ptxas /tmp/tmpxft_00000f6a_00000000-10_reduce.compute_35.ptx, line 886; warning : Instruction 'shfl' without '.sync' is deprecated since PTX ISA version 6.0 and will be discontinued in a future PTX ISA version\n",
            "ptxas /tmp/tmpxft_00000f6a_00000000-10_reduce.compute_35.ptx, line 900; warning : Instruction 'shfl' without '.sync' is deprecated since PTX ISA version 6.0 and will be discontinued in a future PTX ISA version\n",
            "ptxas /tmp/tmpxft_00000f6a_00000000-10_reduce.compute_35.ptx, line 914; warning : Instruction 'shfl' without '.sync' is deprecated since PTX ISA version 6.0 and will be discontinued in a future PTX ISA version\n",
            "ptxas /tmp/tmpxft_00000f6a_00000000-10_reduce.compute_35.ptx, line 928; warning : Instruction 'shfl' without '.sync' is deprecated since PTX ISA version 6.0 and will be discontinued in a future PTX ISA version\n",
            "/content/espnet/egs/telugu/asr1/chainer_ctc/ext/warp-ctc/src/reduce.cu(44): warning: function \"__shfl_down(float, unsigned int, int)\"\n",
            "/usr/local/cuda/include/sm_30_intrinsics.hpp(207): here was declared deprecated (\"__shfl_down() is deprecated in favor of __shfl_down_sync() and may be removed in a future release (Use -Wno-deprecated-declarations to suppress this warning).\")\n",
            "          detected during:\n",
            "            instantiation of \"T CTAReduce<NT, T, Rop>::reduce(int, T, CTAReduce<NT, T, Rop>::Storage &, int, Rop) [with NT=128, T=float, Rop=ctc_helper::add<float, float>]\" \n",
            "(76): here\n",
            "            instantiation of \"void reduce_rows<NT,Iop,Rop,T>(Iop, Rop, const T *, T *, int, int) [with NT=128, Iop=ctc_helper::negate<float, float>, Rop=ctc_helper::add<float, float>, T=float]\" \n",
            "(124): here\n",
            "            instantiation of \"void ReduceHelper::impl(Iof, Rof, const T *, T *, int, int, __nv_bool, cudaStream_t) [with T=float, Iof=ctc_helper::negate<float, float>, Rof=ctc_helper::add<float, float>]\" \n",
            "(139): here\n",
            "            instantiation of \"ctcStatus_t reduce(Iof, Rof, const T *, T *, int, int, __nv_bool, cudaStream_t) [with T=float, Iof=ctc_helper::negate<float, float>, Rof=ctc_helper::add<float, float>]\" \n",
            "(149): here\n",
            "\n",
            "/content/espnet/egs/telugu/asr1/chainer_ctc/ext/warp-ctc/src/reduce.cu(44): warning: function \"__shfl_down(float, unsigned int, int)\"\n",
            "/usr/local/cuda/include/sm_30_intrinsics.hpp(207): here was declared deprecated (\"__shfl_down() is deprecated in favor of __shfl_down_sync() and may be removed in a future release (Use -Wno-deprecated-declarations to suppress this warning).\")\n",
            "          detected during:\n",
            "            instantiation of \"T CTAReduce<NT, T, Rop>::reduce(int, T, CTAReduce<NT, T, Rop>::Storage &, int, Rop) [with NT=128, T=float, Rop=ctc_helper::maximum<float, float>]\" \n",
            "(76): here\n",
            "            instantiation of \"void reduce_rows<NT,Iop,Rop,T>(Iop, Rop, const T *, T *, int, int) [with NT=128, Iop=ctc_helper::identity<float, float>, Rop=ctc_helper::maximum<float, float>, T=float]\" \n",
            "(124): here\n",
            "            instantiation of \"void ReduceHelper::impl(Iof, Rof, const T *, T *, int, int, __nv_bool, cudaStream_t) [with T=float, Iof=ctc_helper::identity<float, float>, Rof=ctc_helper::maximum<float, float>]\" \n",
            "(139): here\n",
            "            instantiation of \"ctcStatus_t reduce(Iof, Rof, const T *, T *, int, int, __nv_bool, cudaStream_t) [with T=float, Iof=ctc_helper::identity<float, float>, Rof=ctc_helper::maximum<float, float>]\" \n",
            "(157): here\n",
            "\n",
            "ptxas /tmp/tmpxft_00000f6a_00000000-9_reduce.compute_50.ptx, line 155; warning : Instruction 'shfl' without '.sync' is deprecated since PTX ISA version 6.0 and will be discontinued in a future PTX ISA version\n",
            "ptxas /tmp/tmpxft_00000f6a_00000000-9_reduce.compute_50.ptx, line 165; warning : Instruction 'shfl' without '.sync' is deprecated since PTX ISA version 6.0 and will be discontinued in a future PTX ISA version\n",
            "ptxas /tmp/tmpxft_00000f6a_00000000-9_reduce.compute_50.ptx, line 175; warning : Instruction 'shfl' without '.sync' is deprecated since PTX ISA version 6.0 and will be discontinued in a future PTX ISA version\n",
            "ptxas /tmp/tmpxft_00000f6a_00000000-9_reduce.compute_50.ptx, line 185; warning : Instruction 'shfl' without '.sync' is deprecated since PTX ISA version 6.0 and will be discontinued in a future PTX ISA version\n",
            "ptxas /tmp/tmpxft_00000f6a_00000000-9_reduce.compute_50.ptx, line 195; warning : Instruction 'shfl' without '.sync' is deprecated since PTX ISA version 6.0 and will be discontinued in a future PTX ISA version\n",
            "ptxas /tmp/tmpxft_00000f6a_00000000-9_reduce.compute_50.ptx, line 553; warning : Instruction 'shfl' without '.sync' is deprecated since PTX ISA version 6.0 and will be discontinued in a future PTX ISA version\n",
            "ptxas /tmp/tmpxft_00000f6a_00000000-9_reduce.compute_50.ptx, line 563; warning : Instruction 'shfl' without '.sync' is deprecated since PTX ISA version 6.0 and will be discontinued in a future PTX ISA version\n",
            "ptxas /tmp/tmpxft_00000f6a_00000000-9_reduce.compute_50.ptx, line 573; warning : Instruction 'shfl' without '.sync' is deprecated since PTX ISA version 6.0 and will be discontinued in a future PTX ISA version\n",
            "ptxas /tmp/tmpxft_00000f6a_00000000-9_reduce.compute_50.ptx, line 583; warning : Instruction 'shfl' without '.sync' is deprecated since PTX ISA version 6.0 and will be discontinued in a future PTX ISA version\n",
            "ptxas /tmp/tmpxft_00000f6a_00000000-9_reduce.compute_50.ptx, line 593; warning : Instruction 'shfl' without '.sync' is deprecated since PTX ISA version 6.0 and will be discontinued in a future PTX ISA version\n",
            "ptxas /tmp/tmpxft_00000f6a_00000000-9_reduce.compute_50.ptx, line 872; warning : Instruction 'shfl' without '.sync' is deprecated since PTX ISA version 6.0 and will be discontinued in a future PTX ISA version\n",
            "ptxas /tmp/tmpxft_00000f6a_00000000-9_reduce.compute_50.ptx, line 886; warning : Instruction 'shfl' without '.sync' is deprecated since PTX ISA version 6.0 and will be discontinued in a future PTX ISA version\n",
            "ptxas /tmp/tmpxft_00000f6a_00000000-9_reduce.compute_50.ptx, line 900; warning : Instruction 'shfl' without '.sync' is deprecated since PTX ISA version 6.0 and will be discontinued in a future PTX ISA version\n",
            "ptxas /tmp/tmpxft_00000f6a_00000000-9_reduce.compute_50.ptx, line 914; warning : Instruction 'shfl' without '.sync' is deprecated since PTX ISA version 6.0 and will be discontinued in a future PTX ISA version\n",
            "ptxas /tmp/tmpxft_00000f6a_00000000-9_reduce.compute_50.ptx, line 928; warning : Instruction 'shfl' without '.sync' is deprecated since PTX ISA version 6.0 and will be discontinued in a future PTX ISA version\n",
            "/content/espnet/egs/telugu/asr1/chainer_ctc/ext/warp-ctc/src/reduce.cu(44): warning: function \"__shfl_down(float, unsigned int, int)\"\n",
            "/usr/local/cuda/include/sm_30_intrinsics.hpp(207): here was declared deprecated (\"__shfl_down() is deprecated in favor of __shfl_down_sync() and may be removed in a future release (Use -Wno-deprecated-declarations to suppress this warning).\")\n",
            "          detected during:\n",
            "            instantiation of \"T CTAReduce<NT, T, Rop>::reduce(int, T, CTAReduce<NT, T, Rop>::Storage &, int, Rop) [with NT=128, T=float, Rop=ctc_helper::add<float, float>]\" \n",
            "(76): here\n",
            "            instantiation of \"void reduce_rows<NT,Iop,Rop,T>(Iop, Rop, const T *, T *, int, int) [with NT=128, Iop=ctc_helper::negate<float, float>, Rop=ctc_helper::add<float, float>, T=float]\" \n",
            "(124): here\n",
            "            instantiation of \"void ReduceHelper::impl(Iof, Rof, const T *, T *, int, int, __nv_bool, cudaStream_t) [with T=float, Iof=ctc_helper::negate<float, float>, Rof=ctc_helper::add<float, float>]\" \n",
            "(139): here\n",
            "            instantiation of \"ctcStatus_t reduce(Iof, Rof, const T *, T *, int, int, __nv_bool, cudaStream_t) [with T=float, Iof=ctc_helper::negate<float, float>, Rof=ctc_helper::add<float, float>]\" \n",
            "(149): here\n",
            "\n",
            "/content/espnet/egs/telugu/asr1/chainer_ctc/ext/warp-ctc/src/reduce.cu(44): warning: function \"__shfl_down(float, unsigned int, int)\"\n",
            "/usr/local/cuda/include/sm_30_intrinsics.hpp(207): here was declared deprecated (\"__shfl_down() is deprecated in favor of __shfl_down_sync() and may be removed in a future release (Use -Wno-deprecated-declarations to suppress this warning).\")\n",
            "          detected during:\n",
            "            instantiation of \"T CTAReduce<NT, T, Rop>::reduce(int, T, CTAReduce<NT, T, Rop>::Storage &, int, Rop) [with NT=128, T=float, Rop=ctc_helper::maximum<float, float>]\" \n",
            "(76): here\n",
            "            instantiation of \"void reduce_rows<NT,Iop,Rop,T>(Iop, Rop, const T *, T *, int, int) [with NT=128, Iop=ctc_helper::identity<float, float>, Rop=ctc_helper::maximum<float, float>, T=float]\" \n",
            "(124): here\n",
            "            instantiation of \"void ReduceHelper::impl(Iof, Rof, const T *, T *, int, int, __nv_bool, cudaStream_t) [with T=float, Iof=ctc_helper::identity<float, float>, Rof=ctc_helper::maximum<float, float>]\" \n",
            "(139): here\n",
            "            instantiation of \"ctcStatus_t reduce(Iof, Rof, const T *, T *, int, int, __nv_bool, cudaStream_t) [with T=float, Iof=ctc_helper::identity<float, float>, Rof=ctc_helper::maximum<float, float>]\" \n",
            "(157): here\n",
            "\n",
            "ptxas /tmp/tmpxft_00000f6a_00000000-8_reduce.compute_52.ptx, line 155; warning : Instruction 'shfl' without '.sync' is deprecated since PTX ISA version 6.0 and will be discontinued in a future PTX ISA version\n",
            "ptxas /tmp/tmpxft_00000f6a_00000000-8_reduce.compute_52.ptx, line 165; warning : Instruction 'shfl' without '.sync' is deprecated since PTX ISA version 6.0 and will be discontinued in a future PTX ISA version\n",
            "ptxas /tmp/tmpxft_00000f6a_00000000-8_reduce.compute_52.ptx, line 175; warning : Instruction 'shfl' without '.sync' is deprecated since PTX ISA version 6.0 and will be discontinued in a future PTX ISA version\n",
            "ptxas /tmp/tmpxft_00000f6a_00000000-8_reduce.compute_52.ptx, line 185; warning : Instruction 'shfl' without '.sync' is deprecated since PTX ISA version 6.0 and will be discontinued in a future PTX ISA version\n",
            "ptxas /tmp/tmpxft_00000f6a_00000000-8_reduce.compute_52.ptx, line 195; warning : Instruction 'shfl' without '.sync' is deprecated since PTX ISA version 6.0 and will be discontinued in a future PTX ISA version\n",
            "ptxas /tmp/tmpxft_00000f6a_00000000-8_reduce.compute_52.ptx, line 553; warning : Instruction 'shfl' without '.sync' is deprecated since PTX ISA version 6.0 and will be discontinued in a future PTX ISA version\n",
            "ptxas /tmp/tmpxft_00000f6a_00000000-8_reduce.compute_52.ptx, line 563; warning : Instruction 'shfl' without '.sync' is deprecated since PTX ISA version 6.0 and will be discontinued in a future PTX ISA version\n",
            "ptxas /tmp/tmpxft_00000f6a_00000000-8_reduce.compute_52.ptx, line 573; warning : Instruction 'shfl' without '.sync' is deprecated since PTX ISA version 6.0 and will be discontinued in a future PTX ISA version\n",
            "ptxas /tmp/tmpxft_00000f6a_00000000-8_reduce.compute_52.ptx, line 583; warning : Instruction 'shfl' without '.sync' is deprecated since PTX ISA version 6.0 and will be discontinued in a future PTX ISA version\n",
            "ptxas /tmp/tmpxft_00000f6a_00000000-8_reduce.compute_52.ptx, line 593; warning : Instruction 'shfl' without '.sync' is deprecated since PTX ISA version 6.0 and will be discontinued in a future PTX ISA version\n",
            "ptxas /tmp/tmpxft_00000f6a_00000000-8_reduce.compute_52.ptx, line 872; warning : Instruction 'shfl' without '.sync' is deprecated since PTX ISA version 6.0 and will be discontinued in a future PTX ISA version\n",
            "ptxas /tmp/tmpxft_00000f6a_00000000-8_reduce.compute_52.ptx, line 886; warning : Instruction 'shfl' without '.sync' is deprecated since PTX ISA version 6.0 and will be discontinued in a future PTX ISA version\n",
            "ptxas /tmp/tmpxft_00000f6a_00000000-8_reduce.compute_52.ptx, line 900; warning : Instruction 'shfl' without '.sync' is deprecated since PTX ISA version 6.0 and will be discontinued in a future PTX ISA version\n",
            "ptxas /tmp/tmpxft_00000f6a_00000000-8_reduce.compute_52.ptx, line 914; warning : Instruction 'shfl' without '.sync' is deprecated since PTX ISA version 6.0 and will be discontinued in a future PTX ISA version\n",
            "ptxas /tmp/tmpxft_00000f6a_00000000-8_reduce.compute_52.ptx, line 928; warning : Instruction 'shfl' without '.sync' is deprecated since PTX ISA version 6.0 and will be discontinued in a future PTX ISA version\n",
            "/content/espnet/egs/telugu/asr1/chainer_ctc/ext/warp-ctc/src/reduce.cu(44): warning: function \"__shfl_down(float, unsigned int, int)\"\n",
            "/usr/local/cuda/include/sm_30_intrinsics.hpp(207): here was declared deprecated (\"__shfl_down() is deprecated in favor of __shfl_down_sync() and may be removed in a future release (Use -Wno-deprecated-declarations to suppress this warning).\")\n",
            "          detected during:\n",
            "            instantiation of \"T CTAReduce<NT, T, Rop>::reduce(int, T, CTAReduce<NT, T, Rop>::Storage &, int, Rop) [with NT=128, T=float, Rop=ctc_helper::add<float, float>]\" \n",
            "(76): here\n",
            "            instantiation of \"void reduce_rows<NT,Iop,Rop,T>(Iop, Rop, const T *, T *, int, int) [with NT=128, Iop=ctc_helper::negate<float, float>, Rop=ctc_helper::add<float, float>, T=float]\" \n",
            "(124): here\n",
            "            instantiation of \"void ReduceHelper::impl(Iof, Rof, const T *, T *, int, int, __nv_bool, cudaStream_t) [with T=float, Iof=ctc_helper::negate<float, float>, Rof=ctc_helper::add<float, float>]\" \n",
            "(139): here\n",
            "            instantiation of \"ctcStatus_t reduce(Iof, Rof, const T *, T *, int, int, __nv_bool, cudaStream_t) [with T=float, Iof=ctc_helper::negate<float, float>, Rof=ctc_helper::add<float, float>]\" \n",
            "(149): here\n",
            "\n",
            "/content/espnet/egs/telugu/asr1/chainer_ctc/ext/warp-ctc/src/reduce.cu(44): warning: function \"__shfl_down(float, unsigned int, int)\"\n",
            "/usr/local/cuda/include/sm_30_intrinsics.hpp(207): here was declared deprecated (\"__shfl_down() is deprecated in favor of __shfl_down_sync() and may be removed in a future release (Use -Wno-deprecated-declarations to suppress this warning).\")\n",
            "          detected during:\n",
            "            instantiation of \"T CTAReduce<NT, T, Rop>::reduce(int, T, CTAReduce<NT, T, Rop>::Storage &, int, Rop) [with NT=128, T=float, Rop=ctc_helper::maximum<float, float>]\" \n",
            "(76): here\n",
            "            instantiation of \"void reduce_rows<NT,Iop,Rop,T>(Iop, Rop, const T *, T *, int, int) [with NT=128, Iop=ctc_helper::identity<float, float>, Rop=ctc_helper::maximum<float, float>, T=float]\" \n",
            "(124): here\n",
            "            instantiation of \"void ReduceHelper::impl(Iof, Rof, const T *, T *, int, int, __nv_bool, cudaStream_t) [with T=float, Iof=ctc_helper::identity<float, float>, Rof=ctc_helper::maximum<float, float>]\" \n",
            "(139): here\n",
            "            instantiation of \"ctcStatus_t reduce(Iof, Rof, const T *, T *, int, int, __nv_bool, cudaStream_t) [with T=float, Iof=ctc_helper::identity<float, float>, Rof=ctc_helper::maximum<float, float>]\" \n",
            "(157): here\n",
            "\n",
            "ptxas /tmp/tmpxft_00000f6a_00000000-7_reduce.compute_60.ptx, line 155; warning : Instruction 'shfl' without '.sync' may produce unpredictable results on sm_70 and later architectures\n",
            "ptxas /tmp/tmpxft_00000f6a_00000000-7_reduce.compute_60.ptx, line 155; warning : Instruction 'shfl' without '.sync' is deprecated since PTX ISA version 6.0 and will be discontinued in a future PTX ISA version\n",
            "ptxas /tmp/tmpxft_00000f6a_00000000-7_reduce.compute_60.ptx, line 165; warning : Instruction 'shfl' without '.sync' may produce unpredictable results on sm_70 and later architectures\n",
            "ptxas /tmp/tmpxft_00000f6a_00000000-7_reduce.compute_60.ptx, line 165; warning : Instruction 'shfl' without '.sync' is deprecated since PTX ISA version 6.0 and will be discontinued in a future PTX ISA version\n",
            "ptxas /tmp/tmpxft_00000f6a_00000000-7_reduce.compute_60.ptx, line 175; warning : Instruction 'shfl' without '.sync' may produce unpredictable results on sm_70 and later architectures\n",
            "ptxas /tmp/tmpxft_00000f6a_00000000-7_reduce.compute_60.ptx, line 175; warning : Instruction 'shfl' without '.sync' is deprecated since PTX ISA version 6.0 and will be discontinued in a future PTX ISA version\n",
            "ptxas /tmp/tmpxft_00000f6a_00000000-7_reduce.compute_60.ptx, line 185; warning : Instruction 'shfl' without '.sync' may produce unpredictable results on sm_70 and later architectures\n",
            "ptxas /tmp/tmpxft_00000f6a_00000000-7_reduce.compute_60.ptx, line 185; warning : Instruction 'shfl' without '.sync' is deprecated since PTX ISA version 6.0 and will be discontinued in a future PTX ISA version\n",
            "ptxas /tmp/tmpxft_00000f6a_00000000-7_reduce.compute_60.ptx, line 195; warning : Instruction 'shfl' without '.sync' may produce unpredictable results on sm_70 and later architectures\n",
            "ptxas /tmp/tmpxft_00000f6a_00000000-7_reduce.compute_60.ptx, line 195; warning : Instruction 'shfl' without '.sync' is deprecated since PTX ISA version 6.0 and will be discontinued in a future PTX ISA version\n",
            "ptxas /tmp/tmpxft_00000f6a_00000000-7_reduce.compute_60.ptx, line 553; warning : Instruction 'shfl' without '.sync' may produce unpredictable results on sm_70 and later architectures\n",
            "ptxas /tmp/tmpxft_00000f6a_00000000-7_reduce.compute_60.ptx, line 553; warning : Instruction 'shfl' without '.sync' is deprecated since PTX ISA version 6.0 and will be discontinued in a future PTX ISA version\n",
            "ptxas /tmp/tmpxft_00000f6a_00000000-7_reduce.compute_60.ptx, line 563; warning : Instruction 'shfl' without '.sync' may produce unpredictable results on sm_70 and later architectures\n",
            "ptxas /tmp/tmpxft_00000f6a_00000000-7_reduce.compute_60.ptx, line 563; warning : Instruction 'shfl' without '.sync' is deprecated since PTX ISA version 6.0 and will be discontinued in a future PTX ISA version\n",
            "ptxas /tmp/tmpxft_00000f6a_00000000-7_reduce.compute_60.ptx, line 573; warning : Instruction 'shfl' without '.sync' may produce unpredictable results on sm_70 and later architectures\n",
            "ptxas /tmp/tmpxft_00000f6a_00000000-7_reduce.compute_60.ptx, line 573; warning : Instruction 'shfl' without '.sync' is deprecated since PTX ISA version 6.0 and will be discontinued in a future PTX ISA version\n",
            "ptxas /tmp/tmpxft_00000f6a_00000000-7_reduce.compute_60.ptx, line 583; warning : Instruction 'shfl' without '.sync' may produce unpredictable results on sm_70 and later architectures\n",
            "ptxas /tmp/tmpxft_00000f6a_00000000-7_reduce.compute_60.ptx, line 583; warning : Instruction 'shfl' without '.sync' is deprecated since PTX ISA version 6.0 and will be discontinued in a future PTX ISA version\n",
            "ptxas /tmp/tmpxft_00000f6a_00000000-7_reduce.compute_60.ptx, line 593; warning : Instruction 'shfl' without '.sync' may produce unpredictable results on sm_70 and later architectures\n",
            "ptxas /tmp/tmpxft_00000f6a_00000000-7_reduce.compute_60.ptx, line 593; warning : Instruction 'shfl' without '.sync' is deprecated since PTX ISA version 6.0 and will be discontinued in a future PTX ISA version\n",
            "ptxas /tmp/tmpxft_00000f6a_00000000-7_reduce.compute_60.ptx, line 872; warning : Instruction 'shfl' without '.sync' may produce unpredictable results on sm_70 and later architectures\n",
            "ptxas /tmp/tmpxft_00000f6a_00000000-7_reduce.compute_60.ptx, line 872; warning : Instruction 'shfl' without '.sync' is deprecated since PTX ISA version 6.0 and will be discontinued in a future PTX ISA version\n",
            "ptxas /tmp/tmpxft_00000f6a_00000000-7_reduce.compute_60.ptx, line 886; warning : Instruction 'shfl' without '.sync' may produce unpredictable results on sm_70 and later architectures\n",
            "ptxas /tmp/tmpxft_00000f6a_00000000-7_reduce.compute_60.ptx, line 886; warning : Instruction 'shfl' without '.sync' is deprecated since PTX ISA version 6.0 and will be discontinued in a future PTX ISA version\n",
            "ptxas /tmp/tmpxft_00000f6a_00000000-7_reduce.compute_60.ptx, line 900; warning : Instruction 'shfl' without '.sync' may produce unpredictable results on sm_70 and later architectures\n",
            "ptxas /tmp/tmpxft_00000f6a_00000000-7_reduce.compute_60.ptx, line 900; warning : Instruction 'shfl' without '.sync' is deprecated since PTX ISA version 6.0 and will be discontinued in a future PTX ISA version\n",
            "ptxas /tmp/tmpxft_00000f6a_00000000-7_reduce.compute_60.ptx, line 914; warning : Instruction 'shfl' without '.sync' may produce unpredictable results on sm_70 and later architectures\n",
            "ptxas /tmp/tmpxft_00000f6a_00000000-7_reduce.compute_60.ptx, line 914; warning : Instruction 'shfl' without '.sync' is deprecated since PTX ISA version 6.0 and will be discontinued in a future PTX ISA version\n",
            "ptxas /tmp/tmpxft_00000f6a_00000000-7_reduce.compute_60.ptx, line 928; warning : Instruction 'shfl' without '.sync' may produce unpredictable results on sm_70 and later architectures\n",
            "ptxas /tmp/tmpxft_00000f6a_00000000-7_reduce.compute_60.ptx, line 928; warning : Instruction 'shfl' without '.sync' is deprecated since PTX ISA version 6.0 and will be discontinued in a future PTX ISA version\n",
            "ptxas /tmp/tmpxft_00000f6a_00000000-7_reduce.compute_60.ptx, line 155; warning : Instruction 'shfl' without '.sync' is deprecated since PTX ISA version 6.0 and will be discontinued in a future PTX ISA version\n",
            "ptxas /tmp/tmpxft_00000f6a_00000000-7_reduce.compute_60.ptx, line 165; warning : Instruction 'shfl' without '.sync' is deprecated since PTX ISA version 6.0 and will be discontinued in a future PTX ISA version\n",
            "ptxas /tmp/tmpxft_00000f6a_00000000-7_reduce.compute_60.ptx, line 175; warning : Instruction 'shfl' without '.sync' is deprecated since PTX ISA version 6.0 and will be discontinued in a future PTX ISA version\n",
            "ptxas /tmp/tmpxft_00000f6a_00000000-7_reduce.compute_60.ptx, line 185; warning : Instruction 'shfl' without '.sync' is deprecated since PTX ISA version 6.0 and will be discontinued in a future PTX ISA version\n",
            "ptxas /tmp/tmpxft_00000f6a_00000000-7_reduce.compute_60.ptx, line 195; warning : Instruction 'shfl' without '.sync' is deprecated since PTX ISA version 6.0 and will be discontinued in a future PTX ISA version\n",
            "ptxas /tmp/tmpxft_00000f6a_00000000-7_reduce.compute_60.ptx, line 553; warning : Instruction 'shfl' without '.sync' is deprecated since PTX ISA version 6.0 and will be discontinued in a future PTX ISA version\n",
            "ptxas /tmp/tmpxft_00000f6a_00000000-7_reduce.compute_60.ptx, line 563; warning : Instruction 'shfl' without '.sync' is deprecated since PTX ISA version 6.0 and will be discontinued in a future PTX ISA version\n",
            "ptxas /tmp/tmpxft_00000f6a_00000000-7_reduce.compute_60.ptx, line 573; warning : Instruction 'shfl' without '.sync' is deprecated since PTX ISA version 6.0 and will be discontinued in a future PTX ISA version\n",
            "ptxas /tmp/tmpxft_00000f6a_00000000-7_reduce.compute_60.ptx, line 583; warning : Instruction 'shfl' without '.sync' is deprecated since PTX ISA version 6.0 and will be discontinued in a future PTX ISA version\n",
            "ptxas /tmp/tmpxft_00000f6a_00000000-7_reduce.compute_60.ptx, line 593; warning : Instruction 'shfl' without '.sync' is deprecated since PTX ISA version 6.0 and will be discontinued in a future PTX ISA version\n",
            "ptxas /tmp/tmpxft_00000f6a_00000000-7_reduce.compute_60.ptx, line 872; warning : Instruction 'shfl' without '.sync' is deprecated since PTX ISA version 6.0 and will be discontinued in a future PTX ISA version\n",
            "ptxas /tmp/tmpxft_00000f6a_00000000-7_reduce.compute_60.ptx, line 886; warning : Instruction 'shfl' without '.sync' is deprecated since PTX ISA version 6.0 and will be discontinued in a future PTX ISA version\n",
            "ptxas /tmp/tmpxft_00000f6a_00000000-7_reduce.compute_60.ptx, line 900; warning : Instruction 'shfl' without '.sync' is deprecated since PTX ISA version 6.0 and will be discontinued in a future PTX ISA version\n",
            "ptxas /tmp/tmpxft_00000f6a_00000000-7_reduce.compute_60.ptx, line 914; warning : Instruction 'shfl' without '.sync' is deprecated since PTX ISA version 6.0 and will be discontinued in a future PTX ISA version\n",
            "ptxas /tmp/tmpxft_00000f6a_00000000-7_reduce.compute_60.ptx, line 928; warning : Instruction 'shfl' without '.sync' is deprecated since PTX ISA version 6.0 and will be discontinued in a future PTX ISA version\n",
            "/content/espnet/egs/telugu/asr1/chainer_ctc/ext/warp-ctc/src/reduce.cu(44): warning: function \"__shfl_down(float, unsigned int, int)\"\n",
            "/usr/local/cuda/include/sm_30_intrinsics.hpp(207): here was declared deprecated (\"__shfl_down() is deprecated in favor of __shfl_down_sync() and may be removed in a future release (Use -Wno-deprecated-declarations to suppress this warning).\")\n",
            "          detected during:\n",
            "            instantiation of \"T CTAReduce<NT, T, Rop>::reduce(int, T, CTAReduce<NT, T, Rop>::Storage &, int, Rop) [with NT=128, T=float, Rop=ctc_helper::add<float, float>]\" \n",
            "(76): here\n",
            "            instantiation of \"void reduce_rows<NT,Iop,Rop,T>(Iop, Rop, const T *, T *, int, int) [with NT=128, Iop=ctc_helper::negate<float, float>, Rop=ctc_helper::add<float, float>, T=float]\" \n",
            "(124): here\n",
            "            instantiation of \"void ReduceHelper::impl(Iof, Rof, const T *, T *, int, int, __nv_bool, cudaStream_t) [with T=float, Iof=ctc_helper::negate<float, float>, Rof=ctc_helper::add<float, float>]\" \n",
            "(139): here\n",
            "            instantiation of \"ctcStatus_t reduce(Iof, Rof, const T *, T *, int, int, __nv_bool, cudaStream_t) [with T=float, Iof=ctc_helper::negate<float, float>, Rof=ctc_helper::add<float, float>]\" \n",
            "(149): here\n",
            "\n",
            "/content/espnet/egs/telugu/asr1/chainer_ctc/ext/warp-ctc/src/reduce.cu(44): warning: function \"__shfl_down(float, unsigned int, int)\"\n",
            "/usr/local/cuda/include/sm_30_intrinsics.hpp(207): here was declared deprecated (\"__shfl_down() is deprecated in favor of __shfl_down_sync() and may be removed in a future release (Use -Wno-deprecated-declarations to suppress this warning).\")\n",
            "          detected during:\n",
            "            instantiation of \"T CTAReduce<NT, T, Rop>::reduce(int, T, CTAReduce<NT, T, Rop>::Storage &, int, Rop) [with NT=128, T=float, Rop=ctc_helper::maximum<float, float>]\" \n",
            "(76): here\n",
            "            instantiation of \"void reduce_rows<NT,Iop,Rop,T>(Iop, Rop, const T *, T *, int, int) [with NT=128, Iop=ctc_helper::identity<float, float>, Rop=ctc_helper::maximum<float, float>, T=float]\" \n",
            "(124): here\n",
            "            instantiation of \"void ReduceHelper::impl(Iof, Rof, const T *, T *, int, int, __nv_bool, cudaStream_t) [with T=float, Iof=ctc_helper::identity<float, float>, Rof=ctc_helper::maximum<float, float>]\" \n",
            "(139): here\n",
            "            instantiation of \"ctcStatus_t reduce(Iof, Rof, const T *, T *, int, int, __nv_bool, cudaStream_t) [with T=float, Iof=ctc_helper::identity<float, float>, Rof=ctc_helper::maximum<float, float>]\" \n",
            "(157): here\n",
            "\n",
            "ptxas /tmp/tmpxft_00000f6a_00000000-6_reduce.compute_61.ptx, line 155; warning : Instruction 'shfl' without '.sync' is deprecated since PTX ISA version 6.0 and will be discontinued in a future PTX ISA version\n",
            "ptxas /tmp/tmpxft_00000f6a_00000000-6_reduce.compute_61.ptx, line 165; warning : Instruction 'shfl' without '.sync' is deprecated since PTX ISA version 6.0 and will be discontinued in a future PTX ISA version\n",
            "ptxas /tmp/tmpxft_00000f6a_00000000-6_reduce.compute_61.ptx, line 175; warning : Instruction 'shfl' without '.sync' is deprecated since PTX ISA version 6.0 and will be discontinued in a future PTX ISA version\n",
            "ptxas /tmp/tmpxft_00000f6a_00000000-6_reduce.compute_61.ptx, line 185; warning : Instruction 'shfl' without '.sync' is deprecated since PTX ISA version 6.0 and will be discontinued in a future PTX ISA version\n",
            "ptxas /tmp/tmpxft_00000f6a_00000000-6_reduce.compute_61.ptx, line 195; warning : Instruction 'shfl' without '.sync' is deprecated since PTX ISA version 6.0 and will be discontinued in a future PTX ISA version\n",
            "ptxas /tmp/tmpxft_00000f6a_00000000-6_reduce.compute_61.ptx, line 553; warning : Instruction 'shfl' without '.sync' is deprecated since PTX ISA version 6.0 and will be discontinued in a future PTX ISA version\n",
            "ptxas /tmp/tmpxft_00000f6a_00000000-6_reduce.compute_61.ptx, line 563; warning : Instruction 'shfl' without '.sync' is deprecated since PTX ISA version 6.0 and will be discontinued in a future PTX ISA version\n",
            "ptxas /tmp/tmpxft_00000f6a_00000000-6_reduce.compute_61.ptx, line 573; warning : Instruction 'shfl' without '.sync' is deprecated since PTX ISA version 6.0 and will be discontinued in a future PTX ISA version\n",
            "ptxas /tmp/tmpxft_00000f6a_00000000-6_reduce.compute_61.ptx, line 583; warning : Instruction 'shfl' without '.sync' is deprecated since PTX ISA version 6.0 and will be discontinued in a future PTX ISA version\n",
            "ptxas /tmp/tmpxft_00000f6a_00000000-6_reduce.compute_61.ptx, line 593; warning : Instruction 'shfl' without '.sync' is deprecated since PTX ISA version 6.0 and will be discontinued in a future PTX ISA version\n",
            "ptxas /tmp/tmpxft_00000f6a_00000000-6_reduce.compute_61.ptx, line 872; warning : Instruction 'shfl' without '.sync' is deprecated since PTX ISA version 6.0 and will be discontinued in a future PTX ISA version\n",
            "ptxas /tmp/tmpxft_00000f6a_00000000-6_reduce.compute_61.ptx, line 886; warning : Instruction 'shfl' without '.sync' is deprecated since PTX ISA version 6.0 and will be discontinued in a future PTX ISA version\n",
            "ptxas /tmp/tmpxft_00000f6a_00000000-6_reduce.compute_61.ptx, line 900; warning : Instruction 'shfl' without '.sync' is deprecated since PTX ISA version 6.0 and will be discontinued in a future PTX ISA version\n",
            "ptxas /tmp/tmpxft_00000f6a_00000000-6_reduce.compute_61.ptx, line 914; warning : Instruction 'shfl' without '.sync' is deprecated since PTX ISA version 6.0 and will be discontinued in a future PTX ISA version\n",
            "ptxas /tmp/tmpxft_00000f6a_00000000-6_reduce.compute_61.ptx, line 928; warning : Instruction 'shfl' without '.sync' is deprecated since PTX ISA version 6.0 and will be discontinued in a future PTX ISA version\n",
            "ptxas /tmp/tmpxft_00000f6a_00000000-5_reduce.compute_62.ptx, line 155; warning : Instruction 'shfl' without '.sync' is deprecated since PTX ISA version 6.0 and will be discontinued in a future PTX ISA version\n",
            "ptxas /tmp/tmpxft_00000f6a_00000000-5_reduce.compute_62.ptx, line 165; warning : Instruction 'shfl' without '.sync' is deprecated since PTX ISA version 6.0 and will be discontinued in a future PTX ISA version\n",
            "ptxas /tmp/tmpxft_00000f6a_00000000-5_reduce.compute_62.ptx, line 175; warning : Instruction 'shfl' without '.sync' is deprecated since PTX ISA version 6.0 and will be discontinued in a future PTX ISA version\n",
            "ptxas /tmp/tmpxft_00000f6a_00000000-5_reduce.compute_62.ptx, line 185; warning : Instruction 'shfl' without '.sync' is deprecated since PTX ISA version 6.0 and will be discontinued in a future PTX ISA version\n",
            "ptxas /tmp/tmpxft_00000f6a_00000000-5_reduce.compute_62.ptx, line 195; warning : Instruction 'shfl' without '.sync' is deprecated since PTX ISA version 6.0 and will be discontinued in a future PTX ISA version\n",
            "ptxas /tmp/tmpxft_00000f6a_00000000-5_reduce.compute_62.ptx, line 553; warning : Instruction 'shfl' without '.sync' is deprecated since PTX ISA version 6.0 and will be discontinued in a future PTX ISA version\n",
            "ptxas /tmp/tmpxft_00000f6a_00000000-5_reduce.compute_62.ptx, line 563; warning : Instruction 'shfl' without '.sync' is deprecated since PTX ISA version 6.0 and will be discontinued in a future PTX ISA version\n",
            "ptxas /tmp/tmpxft_00000f6a_00000000-5_reduce.compute_62.ptx, line 573; warning : Instruction 'shfl' without '.sync' is deprecated since PTX ISA version 6.0 and will be discontinued in a future PTX ISA version\n",
            "ptxas /tmp/tmpxft_00000f6a_00000000-5_reduce.compute_62.ptx, line 583; warning : Instruction 'shfl' without '.sync' is deprecated since PTX ISA version 6.0 and will be discontinued in a future PTX ISA version\n",
            "ptxas /tmp/tmpxft_00000f6a_00000000-5_reduce.compute_62.ptx, line 593; warning : Instruction 'shfl' without '.sync' is deprecated since PTX ISA version 6.0 and will be discontinued in a future PTX ISA version\n",
            "ptxas /tmp/tmpxft_00000f6a_00000000-5_reduce.compute_62.ptx, line 872; warning : Instruction 'shfl' without '.sync' is deprecated since PTX ISA version 6.0 and will be discontinued in a future PTX ISA version\n",
            "ptxas /tmp/tmpxft_00000f6a_00000000-5_reduce.compute_62.ptx, line 886; warning : Instruction 'shfl' without '.sync' is deprecated since PTX ISA version 6.0 and will be discontinued in a future PTX ISA version\n",
            "ptxas /tmp/tmpxft_00000f6a_00000000-5_reduce.compute_62.ptx, line 900; warning : Instruction 'shfl' without '.sync' is deprecated since PTX ISA version 6.0 and will be discontinued in a future PTX ISA version\n",
            "ptxas /tmp/tmpxft_00000f6a_00000000-5_reduce.compute_62.ptx, line 914; warning : Instruction 'shfl' without '.sync' is deprecated since PTX ISA version 6.0 and will be discontinued in a future PTX ISA version\n",
            "ptxas /tmp/tmpxft_00000f6a_00000000-5_reduce.compute_62.ptx, line 928; warning : Instruction 'shfl' without '.sync' is deprecated since PTX ISA version 6.0 and will be discontinued in a future PTX ISA version\n",
            "[ 22%] \u001b[34m\u001b[1mBuilding NVCC (Device) object CMakeFiles/warpctc.dir/src/warpctc_generated_ctc_entrypoint.cu.o\u001b[0m\n",
            "/content/espnet/egs/telugu/asr1/chainer_ctc/ext/warp-ctc/include/contrib/moderngpu/include/device/intrinsics.cuh(115): warning: function \"__shfl_up(float, unsigned int, int)\"\n",
            "/usr/local/cuda/include/sm_30_intrinsics.hpp(199): here was declared deprecated (\"__shfl_up() is deprecated in favor of __shfl_up_sync() and may be removed in a future release (Use -Wno-deprecated-declarations to suppress this warning).\")\n",
            "\n",
            "/content/espnet/egs/telugu/asr1/chainer_ctc/ext/warp-ctc/include/contrib/moderngpu/include/device/intrinsics.cuh(125): warning: function \"__shfl_up(int, unsigned int, int)\"\n",
            "/usr/local/cuda/include/sm_30_intrinsics.hpp(158): here was declared deprecated (\"__shfl_up() is deprecated in favor of __shfl_up_sync() and may be removed in a future release (Use -Wno-deprecated-declarations to suppress this warning).\")\n",
            "\n",
            "/content/espnet/egs/telugu/asr1/chainer_ctc/ext/warp-ctc/include/contrib/moderngpu/include/device/intrinsics.cuh(126): warning: function \"__shfl_up(int, unsigned int, int)\"\n",
            "/usr/local/cuda/include/sm_30_intrinsics.hpp(158): here was declared deprecated (\"__shfl_up() is deprecated in favor of __shfl_up_sync() and may be removed in a future release (Use -Wno-deprecated-declarations to suppress this warning).\")\n",
            "\n",
            "/content/espnet/egs/telugu/asr1/chainer_ctc/ext/warp-ctc/include/contrib/moderngpu/include/device/intrinsics.cuh(115): warning: function \"__shfl_up(float, unsigned int, int)\"\n",
            "/usr/local/cuda/include/sm_30_intrinsics.hpp(199): here was declared deprecated (\"__shfl_up() is deprecated in favor of __shfl_up_sync() and may be removed in a future release (Use -Wno-deprecated-declarations to suppress this warning).\")\n",
            "\n",
            "/content/espnet/egs/telugu/asr1/chainer_ctc/ext/warp-ctc/include/contrib/moderngpu/include/device/intrinsics.cuh(125): warning: function \"__shfl_up(int, unsigned int, int)\"\n",
            "/usr/local/cuda/include/sm_30_intrinsics.hpp(158): here was declared deprecated (\"__shfl_up() is deprecated in favor of __shfl_up_sync() and may be removed in a future release (Use -Wno-deprecated-declarations to suppress this warning).\")\n",
            "\n",
            "/content/espnet/egs/telugu/asr1/chainer_ctc/ext/warp-ctc/include/contrib/moderngpu/include/device/intrinsics.cuh(126): warning: function \"__shfl_up(int, unsigned int, int)\"\n",
            "/usr/local/cuda/include/sm_30_intrinsics.hpp(158): here was declared deprecated (\"__shfl_up() is deprecated in favor of __shfl_up_sync() and may be removed in a future release (Use -Wno-deprecated-declarations to suppress this warning).\")\n",
            "\n",
            "ptxas /tmp/tmpxft_00000fd2_00000000-11_ctc_entrypoint.compute_30.ptx, line 1895; warning : Instruction 'shfl' without '.sync' is deprecated since PTX ISA version 6.0 and will be discontinued in a future PTX ISA version\n",
            "ptxas /tmp/tmpxft_00000fd2_00000000-11_ctc_entrypoint.compute_30.ptx, line 1899; warning : Instruction 'shfl' without '.sync' is deprecated since PTX ISA version 6.0 and will be discontinued in a future PTX ISA version\n",
            "ptxas /tmp/tmpxft_00000fd2_00000000-11_ctc_entrypoint.compute_30.ptx, line 1903; warning : Instruction 'shfl' without '.sync' is deprecated since PTX ISA version 6.0 and will be discontinued in a future PTX ISA version\n",
            "ptxas /tmp/tmpxft_00000fd2_00000000-11_ctc_entrypoint.compute_30.ptx, line 1907; warning : Instruction 'shfl' without '.sync' is deprecated since PTX ISA version 6.0 and will be discontinued in a future PTX ISA version\n",
            "ptxas /tmp/tmpxft_00000fd2_00000000-11_ctc_entrypoint.compute_30.ptx, line 1911; warning : Instruction 'shfl' without '.sync' is deprecated since PTX ISA version 6.0 and will be discontinued in a future PTX ISA version\n",
            "ptxas /tmp/tmpxft_00000fd2_00000000-11_ctc_entrypoint.compute_30.ptx, line 5678; warning : Instruction 'shfl' without '.sync' is deprecated since PTX ISA version 6.0 and will be discontinued in a future PTX ISA version\n",
            "ptxas /tmp/tmpxft_00000fd2_00000000-11_ctc_entrypoint.compute_30.ptx, line 5702; warning : Instruction 'shfl' without '.sync' is deprecated since PTX ISA version 6.0 and will be discontinued in a future PTX ISA version\n",
            "ptxas /tmp/tmpxft_00000fd2_00000000-11_ctc_entrypoint.compute_30.ptx, line 5706; warning : Instruction 'shfl' without '.sync' is deprecated since PTX ISA version 6.0 and will be discontinued in a future PTX ISA version\n",
            "ptxas /tmp/tmpxft_00000fd2_00000000-11_ctc_entrypoint.compute_30.ptx, line 5710; warning : Instruction 'shfl' without '.sync' is deprecated since PTX ISA version 6.0 and will be discontinued in a future PTX ISA version\n",
            "ptxas /tmp/tmpxft_00000fd2_00000000-11_ctc_entrypoint.compute_30.ptx, line 5714; warning : Instruction 'shfl' without '.sync' is deprecated since PTX ISA version 6.0 and will be discontinued in a future PTX ISA version\n",
            "ptxas /tmp/tmpxft_00000fd2_00000000-11_ctc_entrypoint.compute_30.ptx, line 5718; warning : Instruction 'shfl' without '.sync' is deprecated since PTX ISA version 6.0 and will be discontinued in a future PTX ISA version\n",
            "ptxas /tmp/tmpxft_00000fd2_00000000-11_ctc_entrypoint.compute_30.ptx, line 9550; warning : Instruction 'shfl' without '.sync' is deprecated since PTX ISA version 6.0 and will be discontinued in a future PTX ISA version\n",
            "ptxas /tmp/tmpxft_00000fd2_00000000-11_ctc_entrypoint.compute_30.ptx, line 9554; warning : Instruction 'shfl' without '.sync' is deprecated since PTX ISA version 6.0 and will be discontinued in a future PTX ISA version\n",
            "ptxas /tmp/tmpxft_00000fd2_00000000-11_ctc_entrypoint.compute_30.ptx, line 9576; warning : Instruction 'shfl' without '.sync' is deprecated since PTX ISA version 6.0 and will be discontinued in a future PTX ISA version\n",
            "ptxas /tmp/tmpxft_00000fd2_00000000-11_ctc_entrypoint.compute_30.ptx, line 9579; warning : Instruction 'shfl' without '.sync' is deprecated since PTX ISA version 6.0 and will be discontinued in a future PTX ISA version\n",
            "ptxas /tmp/tmpxft_00000fd2_00000000-11_ctc_entrypoint.compute_30.ptx, line 9583; warning : Instruction 'shfl' without '.sync' is deprecated since PTX ISA version 6.0 and will be discontinued in a future PTX ISA version\n",
            "ptxas /tmp/tmpxft_00000fd2_00000000-11_ctc_entrypoint.compute_30.ptx, line 9587; warning : Instruction 'shfl' without '.sync' is deprecated since PTX ISA version 6.0 and will be discontinued in a future PTX ISA version\n",
            "ptxas /tmp/tmpxft_00000fd2_00000000-11_ctc_entrypoint.compute_30.ptx, line 9591; warning : Instruction 'shfl' without '.sync' is deprecated since PTX ISA version 6.0 and will be discontinued in a future PTX ISA version\n",
            "ptxas /tmp/tmpxft_00000fd2_00000000-11_ctc_entrypoint.compute_30.ptx, line 13813; warning : Instruction 'shfl' without '.sync' is deprecated since PTX ISA version 6.0 and will be discontinued in a future PTX ISA version\n",
            "ptxas /tmp/tmpxft_00000fd2_00000000-11_ctc_entrypoint.compute_30.ptx, line 13838; warning : Instruction 'shfl' without '.sync' is deprecated since PTX ISA version 6.0 and will be discontinued in a future PTX ISA version\n",
            "ptxas /tmp/tmpxft_00000fd2_00000000-11_ctc_entrypoint.compute_30.ptx, line 13842; warning : Instruction 'shfl' without '.sync' is deprecated since PTX ISA version 6.0 and will be discontinued in a future PTX ISA version\n",
            "ptxas /tmp/tmpxft_00000fd2_00000000-11_ctc_entrypoint.compute_30.ptx, line 13846; warning : Instruction 'shfl' without '.sync' is deprecated since PTX ISA version 6.0 and will be discontinued in a future PTX ISA version\n",
            "ptxas /tmp/tmpxft_00000fd2_00000000-11_ctc_entrypoint.compute_30.ptx, line 13850; warning : Instruction 'shfl' without '.sync' is deprecated since PTX ISA version 6.0 and will be discontinued in a future PTX ISA version\n",
            "ptxas /tmp/tmpxft_00000fd2_00000000-11_ctc_entrypoint.compute_30.ptx, line 13854; warning : Instruction 'shfl' without '.sync' is deprecated since PTX ISA version 6.0 and will be discontinued in a future PTX ISA version\n",
            "ptxas /tmp/tmpxft_00000fd2_00000000-11_ctc_entrypoint.compute_30.ptx, line 17957; warning : Instruction 'shfl' without '.sync' is deprecated since PTX ISA version 6.0 and will be discontinued in a future PTX ISA version\n",
            "ptxas /tmp/tmpxft_00000fd2_00000000-11_ctc_entrypoint.compute_30.ptx, line 17961; warning : Instruction 'shfl' without '.sync' is deprecated since PTX ISA version 6.0 and will be discontinued in a future PTX ISA version\n",
            "ptxas /tmp/tmpxft_00000fd2_00000000-11_ctc_entrypoint.compute_30.ptx, line 17985; warning : Instruction 'shfl' without '.sync' is deprecated since PTX ISA version 6.0 and will be discontinued in a future PTX ISA version\n",
            "ptxas /tmp/tmpxft_00000fd2_00000000-11_ctc_entrypoint.compute_30.ptx, line 17988; warning : Instruction 'shfl' without '.sync' is deprecated since PTX ISA version 6.0 and will be discontinued in a future PTX ISA version\n",
            "ptxas /tmp/tmpxft_00000fd2_00000000-11_ctc_entrypoint.compute_30.ptx, line 17992; warning : Instruction 'shfl' without '.sync' is deprecated since PTX ISA version 6.0 and will be discontinued in a future PTX ISA version\n",
            "ptxas /tmp/tmpxft_00000fd2_00000000-11_ctc_entrypoint.compute_30.ptx, line 17996; warning : Instruction 'shfl' without '.sync' is deprecated since PTX ISA version 6.0 and will be discontinued in a future PTX ISA version\n",
            "ptxas /tmp/tmpxft_00000fd2_00000000-11_ctc_entrypoint.compute_30.ptx, line 18000; warning : Instruction 'shfl' without '.sync' is deprecated since PTX ISA version 6.0 and will be discontinued in a future PTX ISA version\n",
            "ptxas /tmp/tmpxft_00000fd2_00000000-11_ctc_entrypoint.compute_30.ptx, line 23510; warning : Instruction 'shfl' without '.sync' is deprecated since PTX ISA version 6.0 and will be discontinued in a future PTX ISA version\n",
            "ptxas /tmp/tmpxft_00000fd2_00000000-11_ctc_entrypoint.compute_30.ptx, line 23514; warning : Instruction 'shfl' without '.sync' is deprecated since PTX ISA version 6.0 and will be discontinued in a future PTX ISA version\n",
            "ptxas /tmp/tmpxft_00000fd2_00000000-11_ctc_entrypoint.compute_30.ptx, line 23518; warning : Instruction 'shfl' without '.sync' is deprecated since PTX ISA version 6.0 and will be discontinued in a future PTX ISA version\n",
            "ptxas /tmp/tmpxft_00000fd2_00000000-11_ctc_entrypoint.compute_30.ptx, line 23522; warning : Instruction 'shfl' without '.sync' is deprecated since PTX ISA version 6.0 and will be discontinued in a future PTX ISA version\n",
            "ptxas /tmp/tmpxft_00000fd2_00000000-11_ctc_entrypoint.compute_30.ptx, line 23526; warning : Instruction 'shfl' without '.sync' is deprecated since PTX ISA version 6.0 and will be discontinued in a future PTX ISA version\n",
            "ptxas /tmp/tmpxft_00000fd2_00000000-11_ctc_entrypoint.compute_30.ptx, line 28591; warning : Instruction 'shfl' without '.sync' is deprecated since PTX ISA version 6.0 and will be discontinued in a future PTX ISA version\n",
            "ptxas /tmp/tmpxft_00000fd2_00000000-11_ctc_entrypoint.compute_30.ptx, line 28616; warning : Instruction 'shfl' without '.sync' is deprecated since PTX ISA version 6.0 and will be discontinued in a future PTX ISA version\n",
            "ptxas /tmp/tmpxft_00000fd2_00000000-11_ctc_entrypoint.compute_30.ptx, line 28620; warning : Instruction 'shfl' without '.sync' is deprecated since PTX ISA version 6.0 and will be discontinued in a future PTX ISA version\n",
            "ptxas /tmp/tmpxft_00000fd2_00000000-11_ctc_entrypoint.compute_30.ptx, line 28624; warning : Instruction 'shfl' without '.sync' is deprecated since PTX ISA version 6.0 and will be discontinued in a future PTX ISA version\n",
            "ptxas /tmp/tmpxft_00000fd2_00000000-11_ctc_entrypoint.compute_30.ptx, line 28628; warning : Instruction 'shfl' without '.sync' is deprecated since PTX ISA version 6.0 and will be discontinued in a future PTX ISA version\n",
            "ptxas /tmp/tmpxft_00000fd2_00000000-11_ctc_entrypoint.compute_30.ptx, line 28632; warning : Instruction 'shfl' without '.sync' is deprecated since PTX ISA version 6.0 and will be discontinued in a future PTX ISA version\n",
            "ptxas /tmp/tmpxft_00000fd2_00000000-11_ctc_entrypoint.compute_30.ptx, line 33314; warning : Instruction 'shfl' without '.sync' is deprecated since PTX ISA version 6.0 and will be discontinued in a future PTX ISA version\n",
            "ptxas /tmp/tmpxft_00000fd2_00000000-11_ctc_entrypoint.compute_30.ptx, line 33318; warning : Instruction 'shfl' without '.sync' is deprecated since PTX ISA version 6.0 and will be discontinued in a future PTX ISA version\n",
            "ptxas /tmp/tmpxft_00000fd2_00000000-11_ctc_entrypoint.compute_30.ptx, line 33341; warning : Instruction 'shfl' without '.sync' is deprecated since PTX ISA version 6.0 and will be discontinued in a future PTX ISA version\n",
            "ptxas /tmp/tmpxft_00000fd2_00000000-11_ctc_entrypoint.compute_30.ptx, line 33344; warning : Instruction 'shfl' without '.sync' is deprecated since PTX ISA version 6.0 and will be discontinued in a future PTX ISA version\n",
            "ptxas /tmp/tmpxft_00000fd2_00000000-11_ctc_entrypoint.compute_30.ptx, line 33348; warning : Instruction 'shfl' without '.sync' is deprecated since PTX ISA version 6.0 and will be discontinued in a future PTX ISA version\n",
            "ptxas /tmp/tmpxft_00000fd2_00000000-11_ctc_entrypoint.compute_30.ptx, line 33352; warning : Instruction 'shfl' without '.sync' is deprecated since PTX ISA version 6.0 and will be discontinued in a future PTX ISA version\n",
            "ptxas /tmp/tmpxft_00000fd2_00000000-11_ctc_entrypoint.compute_30.ptx, line 33356; warning : Instruction 'shfl' without '.sync' is deprecated since PTX ISA version 6.0 and will be discontinued in a future PTX ISA version\n",
            "ptxas /tmp/tmpxft_00000fd2_00000000-11_ctc_entrypoint.compute_30.ptx, line 39238; warning : Instruction 'shfl' without '.sync' is deprecated since PTX ISA version 6.0 and will be discontinued in a future PTX ISA version\n",
            "ptxas /tmp/tmpxft_00000fd2_00000000-11_ctc_entrypoint.compute_30.ptx, line 39263; warning : Instruction 'shfl' without '.sync' is deprecated since PTX ISA version 6.0 and will be discontinued in a future PTX ISA version\n",
            "ptxas /tmp/tmpxft_00000fd2_00000000-11_ctc_entrypoint.compute_30.ptx, line 39267; warning : Instruction 'shfl' without '.sync' is deprecated since PTX ISA version 6.0 and will be discontinued in a future PTX ISA version\n",
            "ptxas /tmp/tmpxft_00000fd2_00000000-11_ctc_entrypoint.compute_30.ptx, line 39271; warning : Instruction 'shfl' without '.sync' is deprecated since PTX ISA version 6.0 and will be discontinued in a future PTX ISA version\n",
            "ptxas /tmp/tmpxft_00000fd2_00000000-11_ctc_entrypoint.compute_30.ptx, line 39275; warning : Instruction 'shfl' without '.sync' is deprecated since PTX ISA version 6.0 and will be discontinued in a future PTX ISA version\n",
            "ptxas /tmp/tmpxft_00000fd2_00000000-11_ctc_entrypoint.compute_30.ptx, line 39279; warning : Instruction 'shfl' without '.sync' is deprecated since PTX ISA version 6.0 and will be discontinued in a future PTX ISA version\n",
            "ptxas /tmp/tmpxft_00000fd2_00000000-11_ctc_entrypoint.compute_30.ptx, line 44573; warning : Instruction 'shfl' without '.sync' is deprecated since PTX ISA version 6.0 and will be discontinued in a future PTX ISA version\n",
            "ptxas /tmp/tmpxft_00000fd2_00000000-11_ctc_entrypoint.compute_30.ptx, line 44577; warning : Instruction 'shfl' without '.sync' is deprecated since PTX ISA version 6.0 and will be discontinued in a future PTX ISA version\n",
            "ptxas /tmp/tmpxft_00000fd2_00000000-11_ctc_entrypoint.compute_30.ptx, line 44600; warning : Instruction 'shfl' without '.sync' is deprecated since PTX ISA version 6.0 and will be discontinued in a future PTX ISA version\n",
            "ptxas /tmp/tmpxft_00000fd2_00000000-11_ctc_entrypoint.compute_30.ptx, line 44603; warning : Instruction 'shfl' without '.sync' is deprecated since PTX ISA version 6.0 and will be discontinued in a future PTX ISA version\n",
            "ptxas /tmp/tmpxft_00000fd2_00000000-11_ctc_entrypoint.compute_30.ptx, line 44607; warning : Instruction 'shfl' without '.sync' is deprecated since PTX ISA version 6.0 and will be discontinued in a future PTX ISA version\n",
            "ptxas /tmp/tmpxft_00000fd2_00000000-11_ctc_entrypoint.compute_30.ptx, line 44611; warning : Instruction 'shfl' without '.sync' is deprecated since PTX ISA version 6.0 and will be discontinued in a future PTX ISA version\n",
            "ptxas /tmp/tmpxft_00000fd2_00000000-11_ctc_entrypoint.compute_30.ptx, line 44615; warning : Instruction 'shfl' without '.sync' is deprecated since PTX ISA version 6.0 and will be discontinued in a future PTX ISA version\n",
            "ptxas /tmp/tmpxft_00000fd2_00000000-11_ctc_entrypoint.compute_30.ptx, line 50867; warning : Instruction 'shfl' without '.sync' is deprecated since PTX ISA version 6.0 and will be discontinued in a future PTX ISA version\n",
            "ptxas /tmp/tmpxft_00000fd2_00000000-11_ctc_entrypoint.compute_30.ptx, line 50871; warning : Instruction 'shfl' without '.sync' is deprecated since PTX ISA version 6.0 and will be discontinued in a future PTX ISA version\n",
            "ptxas /tmp/tmpxft_00000fd2_00000000-11_ctc_entrypoint.compute_30.ptx, line 50894; warning : Instruction 'shfl' without '.sync' is deprecated since PTX ISA version 6.0 and will be discontinued in a future PTX ISA version\n",
            "ptxas /tmp/tmpxft_00000fd2_00000000-11_ctc_entrypoint.compute_30.ptx, line 50897; warning : Instruction 'shfl' without '.sync' is deprecated since PTX ISA version 6.0 and will be discontinued in a future PTX ISA version\n",
            "ptxas /tmp/tmpxft_00000fd2_00000000-11_ctc_entrypoint.compute_30.ptx, line 50901; warning : Instruction 'shfl' without '.sync' is deprecated since PTX ISA version 6.0 and will be discontinued in a future PTX ISA version\n",
            "ptxas /tmp/tmpxft_00000fd2_00000000-11_ctc_entrypoint.compute_30.ptx, line 50905; warning : Instruction 'shfl' without '.sync' is deprecated since PTX ISA version 6.0 and will be discontinued in a future PTX ISA version\n",
            "ptxas /tmp/tmpxft_00000fd2_00000000-11_ctc_entrypoint.compute_30.ptx, line 50909; warning : Instruction 'shfl' without '.sync' is deprecated since PTX ISA version 6.0 and will be discontinued in a future PTX ISA version\n",
            "ptxas /tmp/tmpxft_00000fd2_00000000-11_ctc_entrypoint.compute_30.ptx, line 57557; warning : Instruction 'shfl' without '.sync' is deprecated since PTX ISA version 6.0 and will be discontinued in a future PTX ISA version\n",
            "ptxas /tmp/tmpxft_00000fd2_00000000-11_ctc_entrypoint.compute_30.ptx, line 57561; warning : Instruction 'shfl' without '.sync' is deprecated since PTX ISA version 6.0 and will be discontinued in a future PTX ISA version\n",
            "ptxas /tmp/tmpxft_00000fd2_00000000-11_ctc_entrypoint.compute_30.ptx, line 57584; warning : Instruction 'shfl' without '.sync' is deprecated since PTX ISA version 6.0 and will be discontinued in a future PTX ISA version\n",
            "ptxas /tmp/tmpxft_00000fd2_00000000-11_ctc_entrypoint.compute_30.ptx, line 57587; warning : Instruction 'shfl' without '.sync' is deprecated since PTX ISA version 6.0 and will be discontinued in a future PTX ISA version\n",
            "ptxas /tmp/tmpxft_00000fd2_00000000-11_ctc_entrypoint.compute_30.ptx, line 57591; warning : Instruction 'shfl' without '.sync' is deprecated since PTX ISA version 6.0 and will be discontinued in a future PTX ISA version\n",
            "ptxas /tmp/tmpxft_00000fd2_00000000-11_ctc_entrypoint.compute_30.ptx, line 57595; warning : Instruction 'shfl' without '.sync' is deprecated since PTX ISA version 6.0 and will be discontinued in a future PTX ISA version\n",
            "ptxas /tmp/tmpxft_00000fd2_00000000-11_ctc_entrypoint.compute_30.ptx, line 57599; warning : Instruction 'shfl' without '.sync' is deprecated since PTX ISA version 6.0 and will be discontinued in a future PTX ISA version\n",
            "/content/espnet/egs/telugu/asr1/chainer_ctc/ext/warp-ctc/include/contrib/moderngpu/include/device/intrinsics.cuh(115): warning: function \"__shfl_up(float, unsigned int, int)\"\n",
            "/usr/local/cuda/include/sm_30_intrinsics.hpp(199): here was declared deprecated (\"__shfl_up() is deprecated in favor of __shfl_up_sync() and may be removed in a future release (Use -Wno-deprecated-declarations to suppress this warning).\")\n",
            "\n",
            "/content/espnet/egs/telugu/asr1/chainer_ctc/ext/warp-ctc/include/contrib/moderngpu/include/device/intrinsics.cuh(125): warning: function \"__shfl_up(int, unsigned int, int)\"\n",
            "/usr/local/cuda/include/sm_30_intrinsics.hpp(158): here was declared deprecated (\"__shfl_up() is deprecated in favor of __shfl_up_sync() and may be removed in a future release (Use -Wno-deprecated-declarations to suppress this warning).\")\n",
            "\n",
            "/content/espnet/egs/telugu/asr1/chainer_ctc/ext/warp-ctc/include/contrib/moderngpu/include/device/intrinsics.cuh(126): warning: function \"__shfl_up(int, unsigned int, int)\"\n",
            "/usr/local/cuda/include/sm_30_intrinsics.hpp(158): here was declared deprecated (\"__shfl_up() is deprecated in favor of __shfl_up_sync() and may be removed in a future release (Use -Wno-deprecated-declarations to suppress this warning).\")\n",
            "\n",
            "ptxas /tmp/tmpxft_00000fd2_00000000-10_ctc_entrypoint.compute_35.ptx, line 1871; warning : Instruction 'shfl' without '.sync' is deprecated since PTX ISA version 6.0 and will be discontinued in a future PTX ISA version\n",
            "ptxas /tmp/tmpxft_00000fd2_00000000-10_ctc_entrypoint.compute_35.ptx, line 1875; warning : Instruction 'shfl' without '.sync' is deprecated since PTX ISA version 6.0 and will be discontinued in a future PTX ISA version\n",
            "ptxas /tmp/tmpxft_00000fd2_00000000-10_ctc_entrypoint.compute_35.ptx, line 1879; warning : Instruction 'shfl' without '.sync' is deprecated since PTX ISA version 6.0 and will be discontinued in a future PTX ISA version\n",
            "ptxas /tmp/tmpxft_00000fd2_00000000-10_ctc_entrypoint.compute_35.ptx, line 1883; warning : Instruction 'shfl' without '.sync' is deprecated since PTX ISA version 6.0 and will be discontinued in a future PTX ISA version\n",
            "ptxas /tmp/tmpxft_00000fd2_00000000-10_ctc_entrypoint.compute_35.ptx, line 1887; warning : Instruction 'shfl' without '.sync' is deprecated since PTX ISA version 6.0 and will be discontinued in a future PTX ISA version\n",
            "ptxas /tmp/tmpxft_00000fd2_00000000-10_ctc_entrypoint.compute_35.ptx, line 5592; warning : Instruction 'shfl' without '.sync' is deprecated since PTX ISA version 6.0 and will be discontinued in a future PTX ISA version\n",
            "ptxas /tmp/tmpxft_00000fd2_00000000-10_ctc_entrypoint.compute_35.ptx, line 5614; warning : Instruction 'shfl' without '.sync' is deprecated since PTX ISA version 6.0 and will be discontinued in a future PTX ISA version\n",
            "ptxas /tmp/tmpxft_00000fd2_00000000-10_ctc_entrypoint.compute_35.ptx, line 5618; warning : Instruction 'shfl' without '.sync' is deprecated since PTX ISA version 6.0 and will be discontinued in a future PTX ISA version\n",
            "ptxas /tmp/tmpxft_00000fd2_00000000-10_ctc_entrypoint.compute_35.ptx, line 5622; warning : Instruction 'shfl' without '.sync' is deprecated since PTX ISA version 6.0 and will be discontinued in a future PTX ISA version\n",
            "ptxas /tmp/tmpxft_00000fd2_00000000-10_ctc_entrypoint.compute_35.ptx, line 5626; warning : Instruction 'shfl' without '.sync' is deprecated since PTX ISA version 6.0 and will be discontinued in a future PTX ISA version\n",
            "ptxas /tmp/tmpxft_00000fd2_00000000-10_ctc_entrypoint.compute_35.ptx, line 5630; warning : Instruction 'shfl' without '.sync' is deprecated since PTX ISA version 6.0 and will be discontinued in a future PTX ISA version\n",
            "ptxas /tmp/tmpxft_00000fd2_00000000-10_ctc_entrypoint.compute_35.ptx, line 9400; warning : Instruction 'shfl' without '.sync' is deprecated since PTX ISA version 6.0 and will be discontinued in a future PTX ISA version\n",
            "ptxas /tmp/tmpxft_00000fd2_00000000-10_ctc_entrypoint.compute_35.ptx, line 9404; warning : Instruction 'shfl' without '.sync' is deprecated since PTX ISA version 6.0 and will be discontinued in a future PTX ISA version\n",
            "ptxas /tmp/tmpxft_00000fd2_00000000-10_ctc_entrypoint.compute_35.ptx, line 9426; warning : Instruction 'shfl' without '.sync' is deprecated since PTX ISA version 6.0 and will be discontinued in a future PTX ISA version\n",
            "ptxas /tmp/tmpxft_00000fd2_00000000-10_ctc_entrypoint.compute_35.ptx, line 9429; warning : Instruction 'shfl' without '.sync' is deprecated since PTX ISA version 6.0 and will be discontinued in a future PTX ISA version\n",
            "ptxas /tmp/tmpxft_00000fd2_00000000-10_ctc_entrypoint.compute_35.ptx, line 9433; warning : Instruction 'shfl' without '.sync' is deprecated since PTX ISA version 6.0 and will be discontinued in a future PTX ISA version\n",
            "ptxas /tmp/tmpxft_00000fd2_00000000-10_ctc_entrypoint.compute_35.ptx, line 9437; warning : Instruction 'shfl' without '.sync' is deprecated since PTX ISA version 6.0 and will be discontinued in a future PTX ISA version\n",
            "ptxas /tmp/tmpxft_00000fd2_00000000-10_ctc_entrypoint.compute_35.ptx, line 9441; warning : Instruction 'shfl' without '.sync' is deprecated since PTX ISA version 6.0 and will be discontinued in a future PTX ISA version\n",
            "ptxas /tmp/tmpxft_00000fd2_00000000-10_ctc_entrypoint.compute_35.ptx, line 13596; warning : Instruction 'shfl' without '.sync' is deprecated since PTX ISA version 6.0 and will be discontinued in a future PTX ISA version\n",
            "ptxas /tmp/tmpxft_00000fd2_00000000-10_ctc_entrypoint.compute_35.ptx, line 13619; warning : Instruction 'shfl' without '.sync' is deprecated since PTX ISA version 6.0 and will be discontinued in a future PTX ISA version\n",
            "ptxas /tmp/tmpxft_00000fd2_00000000-10_ctc_entrypoint.compute_35.ptx, line 13623; warning : Instruction 'shfl' without '.sync' is deprecated since PTX ISA version 6.0 and will be discontinued in a future PTX ISA version\n",
            "ptxas /tmp/tmpxft_00000fd2_00000000-10_ctc_entrypoint.compute_35.ptx, line 13627; warning : Instruction 'shfl' without '.sync' is deprecated since PTX ISA version 6.0 and will be discontinued in a future PTX ISA version\n",
            "ptxas /tmp/tmpxft_00000fd2_00000000-10_ctc_entrypoint.compute_35.ptx, line 13631; warning : Instruction 'shfl' without '.sync' is deprecated since PTX ISA version 6.0 and will be discontinued in a future PTX ISA version\n",
            "ptxas /tmp/tmpxft_00000fd2_00000000-10_ctc_entrypoint.compute_35.ptx, line 13635; warning : Instruction 'shfl' without '.sync' is deprecated since PTX ISA version 6.0 and will be discontinued in a future PTX ISA version\n",
            "ptxas /tmp/tmpxft_00000fd2_00000000-10_ctc_entrypoint.compute_35.ptx, line 17676; warning : Instruction 'shfl' without '.sync' is deprecated since PTX ISA version 6.0 and will be discontinued in a future PTX ISA version\n",
            "ptxas /tmp/tmpxft_00000fd2_00000000-10_ctc_entrypoint.compute_35.ptx, line 17680; warning : Instruction 'shfl' without '.sync' is deprecated since PTX ISA version 6.0 and will be discontinued in a future PTX ISA version\n",
            "ptxas /tmp/tmpxft_00000fd2_00000000-10_ctc_entrypoint.compute_35.ptx, line 17703; warning : Instruction 'shfl' without '.sync' is deprecated since PTX ISA version 6.0 and will be discontinued in a future PTX ISA version\n",
            "ptxas /tmp/tmpxft_00000fd2_00000000-10_ctc_entrypoint.compute_35.ptx, line 17706; warning : Instruction 'shfl' without '.sync' is deprecated since PTX ISA version 6.0 and will be discontinued in a future PTX ISA version\n",
            "ptxas /tmp/tmpxft_00000fd2_00000000-10_ctc_entrypoint.compute_35.ptx, line 17710; warning : Instruction 'shfl' without '.sync' is deprecated since PTX ISA version 6.0 and will be discontinued in a future PTX ISA version\n",
            "ptxas /tmp/tmpxft_00000fd2_00000000-10_ctc_entrypoint.compute_35.ptx, line 17714; warning : Instruction 'shfl' without '.sync' is deprecated since PTX ISA version 6.0 and will be discontinued in a future PTX ISA version\n",
            "ptxas /tmp/tmpxft_00000fd2_00000000-10_ctc_entrypoint.compute_35.ptx, line 17718; warning : Instruction 'shfl' without '.sync' is deprecated since PTX ISA version 6.0 and will be discontinued in a future PTX ISA version\n",
            "ptxas /tmp/tmpxft_00000fd2_00000000-10_ctc_entrypoint.compute_35.ptx, line 23144; warning : Instruction 'shfl' without '.sync' is deprecated since PTX ISA version 6.0 and will be discontinued in a future PTX ISA version\n",
            "ptxas /tmp/tmpxft_00000fd2_00000000-10_ctc_entrypoint.compute_35.ptx, line 23148; warning : Instruction 'shfl' without '.sync' is deprecated since PTX ISA version 6.0 and will be discontinued in a future PTX ISA version\n",
            "ptxas /tmp/tmpxft_00000fd2_00000000-10_ctc_entrypoint.compute_35.ptx, line 23152; warning : Instruction 'shfl' without '.sync' is deprecated since PTX ISA version 6.0 and will be discontinued in a future PTX ISA version\n",
            "ptxas /tmp/tmpxft_00000fd2_00000000-10_ctc_entrypoint.compute_35.ptx, line 23156; warning : Instruction 'shfl' without '.sync' is deprecated since PTX ISA version 6.0 and will be discontinued in a future PTX ISA version\n",
            "ptxas /tmp/tmpxft_00000fd2_00000000-10_ctc_entrypoint.compute_35.ptx, line 23160; warning : Instruction 'shfl' without '.sync' is deprecated since PTX ISA version 6.0 and will be discontinued in a future PTX ISA version\n",
            "ptxas /tmp/tmpxft_00000fd2_00000000-10_ctc_entrypoint.compute_35.ptx, line 28191; warning : Instruction 'shfl' without '.sync' is deprecated since PTX ISA version 6.0 and will be discontinued in a future PTX ISA version\n",
            "ptxas /tmp/tmpxft_00000fd2_00000000-10_ctc_entrypoint.compute_35.ptx, line 28214; warning : Instruction 'shfl' without '.sync' is deprecated since PTX ISA version 6.0 and will be discontinued in a future PTX ISA version\n",
            "ptxas /tmp/tmpxft_00000fd2_00000000-10_ctc_entrypoint.compute_35.ptx, line 28218; warning : Instruction 'shfl' without '.sync' is deprecated since PTX ISA version 6.0 and will be discontinued in a future PTX ISA version\n",
            "ptxas /tmp/tmpxft_00000fd2_00000000-10_ctc_entrypoint.compute_35.ptx, line 28222; warning : Instruction 'shfl' without '.sync' is deprecated since PTX ISA version 6.0 and will be discontinued in a future PTX ISA version\n",
            "ptxas /tmp/tmpxft_00000fd2_00000000-10_ctc_entrypoint.compute_35.ptx, line 28226; warning : Instruction 'shfl' without '.sync' is deprecated since PTX ISA version 6.0 and will be discontinued in a future PTX ISA version\n",
            "ptxas /tmp/tmpxft_00000fd2_00000000-10_ctc_entrypoint.compute_35.ptx, line 28230; warning : Instruction 'shfl' without '.sync' is deprecated since PTX ISA version 6.0 and will be discontinued in a future PTX ISA version\n",
            "ptxas /tmp/tmpxft_00000fd2_00000000-10_ctc_entrypoint.compute_35.ptx, line 32865; warning : Instruction 'shfl' without '.sync' is deprecated since PTX ISA version 6.0 and will be discontinued in a future PTX ISA version\n",
            "ptxas /tmp/tmpxft_00000fd2_00000000-10_ctc_entrypoint.compute_35.ptx, line 32869; warning : Instruction 'shfl' without '.sync' is deprecated since PTX ISA version 6.0 and will be discontinued in a future PTX ISA version\n",
            "ptxas /tmp/tmpxft_00000fd2_00000000-10_ctc_entrypoint.compute_35.ptx, line 32891; warning : Instruction 'shfl' without '.sync' is deprecated since PTX ISA version 6.0 and will be discontinued in a future PTX ISA version\n",
            "ptxas /tmp/tmpxft_00000fd2_00000000-10_ctc_entrypoint.compute_35.ptx, line 32894; warning : Instruction 'shfl' without '.sync' is deprecated since PTX ISA version 6.0 and will be discontinued in a future PTX ISA version\n",
            "ptxas /tmp/tmpxft_00000fd2_00000000-10_ctc_entrypoint.compute_35.ptx, line 32898; warning : Instruction 'shfl' without '.sync' is deprecated since PTX ISA version 6.0 and will be discontinued in a future PTX ISA version\n",
            "ptxas /tmp/tmpxft_00000fd2_00000000-10_ctc_entrypoint.compute_35.ptx, line 32902; warning : Instruction 'shfl' without '.sync' is deprecated since PTX ISA version 6.0 and will be discontinued in a future PTX ISA version\n",
            "ptxas /tmp/tmpxft_00000fd2_00000000-10_ctc_entrypoint.compute_35.ptx, line 32906; warning : Instruction 'shfl' without '.sync' is deprecated since PTX ISA version 6.0 and will be discontinued in a future PTX ISA version\n",
            "ptxas /tmp/tmpxft_00000fd2_00000000-10_ctc_entrypoint.compute_35.ptx, line 38703; warning : Instruction 'shfl' without '.sync' is deprecated since PTX ISA version 6.0 and will be discontinued in a future PTX ISA version\n",
            "ptxas /tmp/tmpxft_00000fd2_00000000-10_ctc_entrypoint.compute_35.ptx, line 38726; warning : Instruction 'shfl' without '.sync' is deprecated since PTX ISA version 6.0 and will be discontinued in a future PTX ISA version\n",
            "ptxas /tmp/tmpxft_00000fd2_00000000-10_ctc_entrypoint.compute_35.ptx, line 38730; warning : Instruction 'shfl' without '.sync' is deprecated since PTX ISA version 6.0 and will be discontinued in a future PTX ISA version\n",
            "ptxas /tmp/tmpxft_00000fd2_00000000-10_ctc_entrypoint.compute_35.ptx, line 38734; warning : Instruction 'shfl' without '.sync' is deprecated since PTX ISA version 6.0 and will be discontinued in a future PTX ISA version\n",
            "ptxas /tmp/tmpxft_00000fd2_00000000-10_ctc_entrypoint.compute_35.ptx, line 38738; warning : Instruction 'shfl' without '.sync' is deprecated since PTX ISA version 6.0 and will be discontinued in a future PTX ISA version\n",
            "ptxas /tmp/tmpxft_00000fd2_00000000-10_ctc_entrypoint.compute_35.ptx, line 38742; warning : Instruction 'shfl' without '.sync' is deprecated since PTX ISA version 6.0 and will be discontinued in a future PTX ISA version\n",
            "ptxas /tmp/tmpxft_00000fd2_00000000-10_ctc_entrypoint.compute_35.ptx, line 44001; warning : Instruction 'shfl' without '.sync' is deprecated since PTX ISA version 6.0 and will be discontinued in a future PTX ISA version\n",
            "ptxas /tmp/tmpxft_00000fd2_00000000-10_ctc_entrypoint.compute_35.ptx, line 44005; warning : Instruction 'shfl' without '.sync' is deprecated since PTX ISA version 6.0 and will be discontinued in a future PTX ISA version\n",
            "ptxas /tmp/tmpxft_00000fd2_00000000-10_ctc_entrypoint.compute_35.ptx, line 44028; warning : Instruction 'shfl' without '.sync' is deprecated since PTX ISA version 6.0 and will be discontinued in a future PTX ISA version\n",
            "ptxas /tmp/tmpxft_00000fd2_00000000-10_ctc_entrypoint.compute_35.ptx, line 44031; warning : Instruction 'shfl' without '.sync' is deprecated since PTX ISA version 6.0 and will be discontinued in a future PTX ISA version\n",
            "ptxas /tmp/tmpxft_00000fd2_00000000-10_ctc_entrypoint.compute_35.ptx, line 44035; warning : Instruction 'shfl' without '.sync' is deprecated since PTX ISA version 6.0 and will be discontinued in a future PTX ISA version\n",
            "ptxas /tmp/tmpxft_00000fd2_00000000-10_ctc_entrypoint.compute_35.ptx, line 44039; warning : Instruction 'shfl' without '.sync' is deprecated since PTX ISA version 6.0 and will be discontinued in a future PTX ISA version\n",
            "ptxas /tmp/tmpxft_00000fd2_00000000-10_ctc_entrypoint.compute_35.ptx, line 44043; warning : Instruction 'shfl' without '.sync' is deprecated since PTX ISA version 6.0 and will be discontinued in a future PTX ISA version\n",
            "ptxas /tmp/tmpxft_00000fd2_00000000-10_ctc_entrypoint.compute_35.ptx, line 50224; warning : Instruction 'shfl' without '.sync' is deprecated since PTX ISA version 6.0 and will be discontinued in a future PTX ISA version\n",
            "ptxas /tmp/tmpxft_00000fd2_00000000-10_ctc_entrypoint.compute_35.ptx, line 50228; warning : Instruction 'shfl' without '.sync' is deprecated since PTX ISA version 6.0 and will be discontinued in a future PTX ISA version\n",
            "ptxas /tmp/tmpxft_00000fd2_00000000-10_ctc_entrypoint.compute_35.ptx, line 50251; warning : Instruction 'shfl' without '.sync' is deprecated since PTX ISA version 6.0 and will be discontinued in a future PTX ISA version\n",
            "ptxas /tmp/tmpxft_00000fd2_00000000-10_ctc_entrypoint.compute_35.ptx, line 50254; warning : Instruction 'shfl' without '.sync' is deprecated since PTX ISA version 6.0 and will be discontinued in a future PTX ISA version\n",
            "ptxas /tmp/tmpxft_00000fd2_00000000-10_ctc_entrypoint.compute_35.ptx, line 50258; warning : Instruction 'shfl' without '.sync' is deprecated since PTX ISA version 6.0 and will be discontinued in a future PTX ISA version\n",
            "ptxas /tmp/tmpxft_00000fd2_00000000-10_ctc_entrypoint.compute_35.ptx, line 50262; warning : Instruction 'shfl' without '.sync' is deprecated since PTX ISA version 6.0 and will be discontinued in a future PTX ISA version\n",
            "ptxas /tmp/tmpxft_00000fd2_00000000-10_ctc_entrypoint.compute_35.ptx, line 50266; warning : Instruction 'shfl' without '.sync' is deprecated since PTX ISA version 6.0 and will be discontinued in a future PTX ISA version\n",
            "ptxas /tmp/tmpxft_00000fd2_00000000-10_ctc_entrypoint.compute_35.ptx, line 56816; warning : Instruction 'shfl' without '.sync' is deprecated since PTX ISA version 6.0 and will be discontinued in a future PTX ISA version\n",
            "ptxas /tmp/tmpxft_00000fd2_00000000-10_ctc_entrypoint.compute_35.ptx, line 56820; warning : Instruction 'shfl' without '.sync' is deprecated since PTX ISA version 6.0 and will be discontinued in a future PTX ISA version\n",
            "ptxas /tmp/tmpxft_00000fd2_00000000-10_ctc_entrypoint.compute_35.ptx, line 56843; warning : Instruction 'shfl' without '.sync' is deprecated since PTX ISA version 6.0 and will be discontinued in a future PTX ISA version\n",
            "ptxas /tmp/tmpxft_00000fd2_00000000-10_ctc_entrypoint.compute_35.ptx, line 56846; warning : Instruction 'shfl' without '.sync' is deprecated since PTX ISA version 6.0 and will be discontinued in a future PTX ISA version\n",
            "ptxas /tmp/tmpxft_00000fd2_00000000-10_ctc_entrypoint.compute_35.ptx, line 56850; warning : Instruction 'shfl' without '.sync' is deprecated since PTX ISA version 6.0 and will be discontinued in a future PTX ISA version\n",
            "ptxas /tmp/tmpxft_00000fd2_00000000-10_ctc_entrypoint.compute_35.ptx, line 56854; warning : Instruction 'shfl' without '.sync' is deprecated since PTX ISA version 6.0 and will be discontinued in a future PTX ISA version\n",
            "ptxas /tmp/tmpxft_00000fd2_00000000-10_ctc_entrypoint.compute_35.ptx, line 56858; warning : Instruction 'shfl' without '.sync' is deprecated since PTX ISA version 6.0 and will be discontinued in a future PTX ISA version\n",
            "/content/espnet/egs/telugu/asr1/chainer_ctc/ext/warp-ctc/include/contrib/moderngpu/include/device/intrinsics.cuh(115): warning: function \"__shfl_up(float, unsigned int, int)\"\n",
            "/usr/local/cuda/include/sm_30_intrinsics.hpp(199): here was declared deprecated (\"__shfl_up() is deprecated in favor of __shfl_up_sync() and may be removed in a future release (Use -Wno-deprecated-declarations to suppress this warning).\")\n",
            "\n",
            "/content/espnet/egs/telugu/asr1/chainer_ctc/ext/warp-ctc/include/contrib/moderngpu/include/device/intrinsics.cuh(125): warning: function \"__shfl_up(int, unsigned int, int)\"\n",
            "/usr/local/cuda/include/sm_30_intrinsics.hpp(158): here was declared deprecated (\"__shfl_up() is deprecated in favor of __shfl_up_sync() and may be removed in a future release (Use -Wno-deprecated-declarations to suppress this warning).\")\n",
            "\n",
            "/content/espnet/egs/telugu/asr1/chainer_ctc/ext/warp-ctc/include/contrib/moderngpu/include/device/intrinsics.cuh(126): warning: function \"__shfl_up(int, unsigned int, int)\"\n",
            "/usr/local/cuda/include/sm_30_intrinsics.hpp(158): here was declared deprecated (\"__shfl_up() is deprecated in favor of __shfl_up_sync() and may be removed in a future release (Use -Wno-deprecated-declarations to suppress this warning).\")\n",
            "\n",
            "ptxas /tmp/tmpxft_00000fd2_00000000-9_ctc_entrypoint.compute_50.ptx, line 1871; warning : Instruction 'shfl' without '.sync' is deprecated since PTX ISA version 6.0 and will be discontinued in a future PTX ISA version\n",
            "ptxas /tmp/tmpxft_00000fd2_00000000-9_ctc_entrypoint.compute_50.ptx, line 1875; warning : Instruction 'shfl' without '.sync' is deprecated since PTX ISA version 6.0 and will be discontinued in a future PTX ISA version\n",
            "ptxas /tmp/tmpxft_00000fd2_00000000-9_ctc_entrypoint.compute_50.ptx, line 1879; warning : Instruction 'shfl' without '.sync' is deprecated since PTX ISA version 6.0 and will be discontinued in a future PTX ISA version\n",
            "ptxas /tmp/tmpxft_00000fd2_00000000-9_ctc_entrypoint.compute_50.ptx, line 1883; warning : Instruction 'shfl' without '.sync' is deprecated since PTX ISA version 6.0 and will be discontinued in a future PTX ISA version\n",
            "ptxas /tmp/tmpxft_00000fd2_00000000-9_ctc_entrypoint.compute_50.ptx, line 1887; warning : Instruction 'shfl' without '.sync' is deprecated since PTX ISA version 6.0 and will be discontinued in a future PTX ISA version\n",
            "ptxas /tmp/tmpxft_00000fd2_00000000-9_ctc_entrypoint.compute_50.ptx, line 5592; warning : Instruction 'shfl' without '.sync' is deprecated since PTX ISA version 6.0 and will be discontinued in a future PTX ISA version\n",
            "ptxas /tmp/tmpxft_00000fd2_00000000-9_ctc_entrypoint.compute_50.ptx, line 5614; warning : Instruction 'shfl' without '.sync' is deprecated since PTX ISA version 6.0 and will be discontinued in a future PTX ISA version\n",
            "ptxas /tmp/tmpxft_00000fd2_00000000-9_ctc_entrypoint.compute_50.ptx, line 5618; warning : Instruction 'shfl' without '.sync' is deprecated since PTX ISA version 6.0 and will be discontinued in a future PTX ISA version\n",
            "ptxas /tmp/tmpxft_00000fd2_00000000-9_ctc_entrypoint.compute_50.ptx, line 5622; warning : Instruction 'shfl' without '.sync' is deprecated since PTX ISA version 6.0 and will be discontinued in a future PTX ISA version\n",
            "ptxas /tmp/tmpxft_00000fd2_00000000-9_ctc_entrypoint.compute_50.ptx, line 5626; warning : Instruction 'shfl' without '.sync' is deprecated since PTX ISA version 6.0 and will be discontinued in a future PTX ISA version\n",
            "ptxas /tmp/tmpxft_00000fd2_00000000-9_ctc_entrypoint.compute_50.ptx, line 5630; warning : Instruction 'shfl' without '.sync' is deprecated since PTX ISA version 6.0 and will be discontinued in a future PTX ISA version\n",
            "ptxas /tmp/tmpxft_00000fd2_00000000-9_ctc_entrypoint.compute_50.ptx, line 9400; warning : Instruction 'shfl' without '.sync' is deprecated since PTX ISA version 6.0 and will be discontinued in a future PTX ISA version\n",
            "ptxas /tmp/tmpxft_00000fd2_00000000-9_ctc_entrypoint.compute_50.ptx, line 9404; warning : Instruction 'shfl' without '.sync' is deprecated since PTX ISA version 6.0 and will be discontinued in a future PTX ISA version\n",
            "ptxas /tmp/tmpxft_00000fd2_00000000-9_ctc_entrypoint.compute_50.ptx, line 9426; warning : Instruction 'shfl' without '.sync' is deprecated since PTX ISA version 6.0 and will be discontinued in a future PTX ISA version\n",
            "ptxas /tmp/tmpxft_00000fd2_00000000-9_ctc_entrypoint.compute_50.ptx, line 9429; warning : Instruction 'shfl' without '.sync' is deprecated since PTX ISA version 6.0 and will be discontinued in a future PTX ISA version\n",
            "ptxas /tmp/tmpxft_00000fd2_00000000-9_ctc_entrypoint.compute_50.ptx, line 9433; warning : Instruction 'shfl' without '.sync' is deprecated since PTX ISA version 6.0 and will be discontinued in a future PTX ISA version\n",
            "ptxas /tmp/tmpxft_00000fd2_00000000-9_ctc_entrypoint.compute_50.ptx, line 9437; warning : Instruction 'shfl' without '.sync' is deprecated since PTX ISA version 6.0 and will be discontinued in a future PTX ISA version\n",
            "ptxas /tmp/tmpxft_00000fd2_00000000-9_ctc_entrypoint.compute_50.ptx, line 9441; warning : Instruction 'shfl' without '.sync' is deprecated since PTX ISA version 6.0 and will be discontinued in a future PTX ISA version\n",
            "ptxas /tmp/tmpxft_00000fd2_00000000-9_ctc_entrypoint.compute_50.ptx, line 13596; warning : Instruction 'shfl' without '.sync' is deprecated since PTX ISA version 6.0 and will be discontinued in a future PTX ISA version\n",
            "ptxas /tmp/tmpxft_00000fd2_00000000-9_ctc_entrypoint.compute_50.ptx, line 13619; warning : Instruction 'shfl' without '.sync' is deprecated since PTX ISA version 6.0 and will be discontinued in a future PTX ISA version\n",
            "ptxas /tmp/tmpxft_00000fd2_00000000-9_ctc_entrypoint.compute_50.ptx, line 13623; warning : Instruction 'shfl' without '.sync' is deprecated since PTX ISA version 6.0 and will be discontinued in a future PTX ISA version\n",
            "ptxas /tmp/tmpxft_00000fd2_00000000-9_ctc_entrypoint.compute_50.ptx, line 13627; warning : Instruction 'shfl' without '.sync' is deprecated since PTX ISA version 6.0 and will be discontinued in a future PTX ISA version\n",
            "ptxas /tmp/tmpxft_00000fd2_00000000-9_ctc_entrypoint.compute_50.ptx, line 13631; warning : Instruction 'shfl' without '.sync' is deprecated since PTX ISA version 6.0 and will be discontinued in a future PTX ISA version\n",
            "ptxas /tmp/tmpxft_00000fd2_00000000-9_ctc_entrypoint.compute_50.ptx, line 13635; warning : Instruction 'shfl' without '.sync' is deprecated since PTX ISA version 6.0 and will be discontinued in a future PTX ISA version\n",
            "ptxas /tmp/tmpxft_00000fd2_00000000-9_ctc_entrypoint.compute_50.ptx, line 17676; warning : Instruction 'shfl' without '.sync' is deprecated since PTX ISA version 6.0 and will be discontinued in a future PTX ISA version\n",
            "ptxas /tmp/tmpxft_00000fd2_00000000-9_ctc_entrypoint.compute_50.ptx, line 17680; warning : Instruction 'shfl' without '.sync' is deprecated since PTX ISA version 6.0 and will be discontinued in a future PTX ISA version\n",
            "ptxas /tmp/tmpxft_00000fd2_00000000-9_ctc_entrypoint.compute_50.ptx, line 17703; warning : Instruction 'shfl' without '.sync' is deprecated since PTX ISA version 6.0 and will be discontinued in a future PTX ISA version\n",
            "ptxas /tmp/tmpxft_00000fd2_00000000-9_ctc_entrypoint.compute_50.ptx, line 17706; warning : Instruction 'shfl' without '.sync' is deprecated since PTX ISA version 6.0 and will be discontinued in a future PTX ISA version\n",
            "ptxas /tmp/tmpxft_00000fd2_00000000-9_ctc_entrypoint.compute_50.ptx, line 17710; warning : Instruction 'shfl' without '.sync' is deprecated since PTX ISA version 6.0 and will be discontinued in a future PTX ISA version\n",
            "ptxas /tmp/tmpxft_00000fd2_00000000-9_ctc_entrypoint.compute_50.ptx, line 17714; warning : Instruction 'shfl' without '.sync' is deprecated since PTX ISA version 6.0 and will be discontinued in a future PTX ISA version\n",
            "ptxas /tmp/tmpxft_00000fd2_00000000-9_ctc_entrypoint.compute_50.ptx, line 17718; warning : Instruction 'shfl' without '.sync' is deprecated since PTX ISA version 6.0 and will be discontinued in a future PTX ISA version\n",
            "ptxas /tmp/tmpxft_00000fd2_00000000-9_ctc_entrypoint.compute_50.ptx, line 23144; warning : Instruction 'shfl' without '.sync' is deprecated since PTX ISA version 6.0 and will be discontinued in a future PTX ISA version\n",
            "ptxas /tmp/tmpxft_00000fd2_00000000-9_ctc_entrypoint.compute_50.ptx, line 23148; warning : Instruction 'shfl' without '.sync' is deprecated since PTX ISA version 6.0 and will be discontinued in a future PTX ISA version\n",
            "ptxas /tmp/tmpxft_00000fd2_00000000-9_ctc_entrypoint.compute_50.ptx, line 23152; warning : Instruction 'shfl' without '.sync' is deprecated since PTX ISA version 6.0 and will be discontinued in a future PTX ISA version\n",
            "ptxas /tmp/tmpxft_00000fd2_00000000-9_ctc_entrypoint.compute_50.ptx, line 23156; warning : Instruction 'shfl' without '.sync' is deprecated since PTX ISA version 6.0 and will be discontinued in a future PTX ISA version\n",
            "ptxas /tmp/tmpxft_00000fd2_00000000-9_ctc_entrypoint.compute_50.ptx, line 23160; warning : Instruction 'shfl' without '.sync' is deprecated since PTX ISA version 6.0 and will be discontinued in a future PTX ISA version\n",
            "ptxas /tmp/tmpxft_00000fd2_00000000-9_ctc_entrypoint.compute_50.ptx, line 28191; warning : Instruction 'shfl' without '.sync' is deprecated since PTX ISA version 6.0 and will be discontinued in a future PTX ISA version\n",
            "ptxas /tmp/tmpxft_00000fd2_00000000-9_ctc_entrypoint.compute_50.ptx, line 28214; warning : Instruction 'shfl' without '.sync' is deprecated since PTX ISA version 6.0 and will be discontinued in a future PTX ISA version\n",
            "ptxas /tmp/tmpxft_00000fd2_00000000-9_ctc_entrypoint.compute_50.ptx, line 28218; warning : Instruction 'shfl' without '.sync' is deprecated since PTX ISA version 6.0 and will be discontinued in a future PTX ISA version\n",
            "ptxas /tmp/tmpxft_00000fd2_00000000-9_ctc_entrypoint.compute_50.ptx, line 28222; warning : Instruction 'shfl' without '.sync' is deprecated since PTX ISA version 6.0 and will be discontinued in a future PTX ISA version\n",
            "ptxas /tmp/tmpxft_00000fd2_00000000-9_ctc_entrypoint.compute_50.ptx, line 28226; warning : Instruction 'shfl' without '.sync' is deprecated since PTX ISA version 6.0 and will be discontinued in a future PTX ISA version\n",
            "ptxas /tmp/tmpxft_00000fd2_00000000-9_ctc_entrypoint.compute_50.ptx, line 28230; warning : Instruction 'shfl' without '.sync' is deprecated since PTX ISA version 6.0 and will be discontinued in a future PTX ISA version\n",
            "ptxas /tmp/tmpxft_00000fd2_00000000-9_ctc_entrypoint.compute_50.ptx, line 32865; warning : Instruction 'shfl' without '.sync' is deprecated since PTX ISA version 6.0 and will be discontinued in a future PTX ISA version\n",
            "ptxas /tmp/tmpxft_00000fd2_00000000-9_ctc_entrypoint.compute_50.ptx, line 32869; warning : Instruction 'shfl' without '.sync' is deprecated since PTX ISA version 6.0 and will be discontinued in a future PTX ISA version\n",
            "ptxas /tmp/tmpxft_00000fd2_00000000-9_ctc_entrypoint.compute_50.ptx, line 32891; warning : Instruction 'shfl' without '.sync' is deprecated since PTX ISA version 6.0 and will be discontinued in a future PTX ISA version\n",
            "ptxas /tmp/tmpxft_00000fd2_00000000-9_ctc_entrypoint.compute_50.ptx, line 32894; warning : Instruction 'shfl' without '.sync' is deprecated since PTX ISA version 6.0 and will be discontinued in a future PTX ISA version\n",
            "ptxas /tmp/tmpxft_00000fd2_00000000-9_ctc_entrypoint.compute_50.ptx, line 32898; warning : Instruction 'shfl' without '.sync' is deprecated since PTX ISA version 6.0 and will be discontinued in a future PTX ISA version\n",
            "ptxas /tmp/tmpxft_00000fd2_00000000-9_ctc_entrypoint.compute_50.ptx, line 32902; warning : Instruction 'shfl' without '.sync' is deprecated since PTX ISA version 6.0 and will be discontinued in a future PTX ISA version\n",
            "ptxas /tmp/tmpxft_00000fd2_00000000-9_ctc_entrypoint.compute_50.ptx, line 32906; warning : Instruction 'shfl' without '.sync' is deprecated since PTX ISA version 6.0 and will be discontinued in a future PTX ISA version\n",
            "ptxas /tmp/tmpxft_00000fd2_00000000-9_ctc_entrypoint.compute_50.ptx, line 38703; warning : Instruction 'shfl' without '.sync' is deprecated since PTX ISA version 6.0 and will be discontinued in a future PTX ISA version\n",
            "ptxas /tmp/tmpxft_00000fd2_00000000-9_ctc_entrypoint.compute_50.ptx, line 38726; warning : Instruction 'shfl' without '.sync' is deprecated since PTX ISA version 6.0 and will be discontinued in a future PTX ISA version\n",
            "ptxas /tmp/tmpxft_00000fd2_00000000-9_ctc_entrypoint.compute_50.ptx, line 38730; warning : Instruction 'shfl' without '.sync' is deprecated since PTX ISA version 6.0 and will be discontinued in a future PTX ISA version\n",
            "ptxas /tmp/tmpxft_00000fd2_00000000-9_ctc_entrypoint.compute_50.ptx, line 38734; warning : Instruction 'shfl' without '.sync' is deprecated since PTX ISA version 6.0 and will be discontinued in a future PTX ISA version\n",
            "ptxas /tmp/tmpxft_00000fd2_00000000-9_ctc_entrypoint.compute_50.ptx, line 38738; warning : Instruction 'shfl' without '.sync' is deprecated since PTX ISA version 6.0 and will be discontinued in a future PTX ISA version\n",
            "ptxas /tmp/tmpxft_00000fd2_00000000-9_ctc_entrypoint.compute_50.ptx, line 38742; warning : Instruction 'shfl' without '.sync' is deprecated since PTX ISA version 6.0 and will be discontinued in a future PTX ISA version\n",
            "ptxas /tmp/tmpxft_00000fd2_00000000-9_ctc_entrypoint.compute_50.ptx, line 44001; warning : Instruction 'shfl' without '.sync' is deprecated since PTX ISA version 6.0 and will be discontinued in a future PTX ISA version\n",
            "ptxas /tmp/tmpxft_00000fd2_00000000-9_ctc_entrypoint.compute_50.ptx, line 44005; warning : Instruction 'shfl' without '.sync' is deprecated since PTX ISA version 6.0 and will be discontinued in a future PTX ISA version\n",
            "ptxas /tmp/tmpxft_00000fd2_00000000-9_ctc_entrypoint.compute_50.ptx, line 44028; warning : Instruction 'shfl' without '.sync' is deprecated since PTX ISA version 6.0 and will be discontinued in a future PTX ISA version\n",
            "ptxas /tmp/tmpxft_00000fd2_00000000-9_ctc_entrypoint.compute_50.ptx, line 44031; warning : Instruction 'shfl' without '.sync' is deprecated since PTX ISA version 6.0 and will be discontinued in a future PTX ISA version\n",
            "ptxas /tmp/tmpxft_00000fd2_00000000-9_ctc_entrypoint.compute_50.ptx, line 44035; warning : Instruction 'shfl' without '.sync' is deprecated since PTX ISA version 6.0 and will be discontinued in a future PTX ISA version\n",
            "ptxas /tmp/tmpxft_00000fd2_00000000-9_ctc_entrypoint.compute_50.ptx, line 44039; warning : Instruction 'shfl' without '.sync' is deprecated since PTX ISA version 6.0 and will be discontinued in a future PTX ISA version\n",
            "ptxas /tmp/tmpxft_00000fd2_00000000-9_ctc_entrypoint.compute_50.ptx, line 44043; warning : Instruction 'shfl' without '.sync' is deprecated since PTX ISA version 6.0 and will be discontinued in a future PTX ISA version\n",
            "ptxas /tmp/tmpxft_00000fd2_00000000-9_ctc_entrypoint.compute_50.ptx, line 50224; warning : Instruction 'shfl' without '.sync' is deprecated since PTX ISA version 6.0 and will be discontinued in a future PTX ISA version\n",
            "ptxas /tmp/tmpxft_00000fd2_00000000-9_ctc_entrypoint.compute_50.ptx, line 50228; warning : Instruction 'shfl' without '.sync' is deprecated since PTX ISA version 6.0 and will be discontinued in a future PTX ISA version\n",
            "ptxas /tmp/tmpxft_00000fd2_00000000-9_ctc_entrypoint.compute_50.ptx, line 50251; warning : Instruction 'shfl' without '.sync' is deprecated since PTX ISA version 6.0 and will be discontinued in a future PTX ISA version\n",
            "ptxas /tmp/tmpxft_00000fd2_00000000-9_ctc_entrypoint.compute_50.ptx, line 50254; warning : Instruction 'shfl' without '.sync' is deprecated since PTX ISA version 6.0 and will be discontinued in a future PTX ISA version\n",
            "ptxas /tmp/tmpxft_00000fd2_00000000-9_ctc_entrypoint.compute_50.ptx, line 50258; warning : Instruction 'shfl' without '.sync' is deprecated since PTX ISA version 6.0 and will be discontinued in a future PTX ISA version\n",
            "ptxas /tmp/tmpxft_00000fd2_00000000-9_ctc_entrypoint.compute_50.ptx, line 50262; warning : Instruction 'shfl' without '.sync' is deprecated since PTX ISA version 6.0 and will be discontinued in a future PTX ISA version\n",
            "ptxas /tmp/tmpxft_00000fd2_00000000-9_ctc_entrypoint.compute_50.ptx, line 50266; warning : Instruction 'shfl' without '.sync' is deprecated since PTX ISA version 6.0 and will be discontinued in a future PTX ISA version\n",
            "ptxas /tmp/tmpxft_00000fd2_00000000-9_ctc_entrypoint.compute_50.ptx, line 56816; warning : Instruction 'shfl' without '.sync' is deprecated since PTX ISA version 6.0 and will be discontinued in a future PTX ISA version\n",
            "ptxas /tmp/tmpxft_00000fd2_00000000-9_ctc_entrypoint.compute_50.ptx, line 56820; warning : Instruction 'shfl' without '.sync' is deprecated since PTX ISA version 6.0 and will be discontinued in a future PTX ISA version\n",
            "ptxas /tmp/tmpxft_00000fd2_00000000-9_ctc_entrypoint.compute_50.ptx, line 56843; warning : Instruction 'shfl' without '.sync' is deprecated since PTX ISA version 6.0 and will be discontinued in a future PTX ISA version\n",
            "ptxas /tmp/tmpxft_00000fd2_00000000-9_ctc_entrypoint.compute_50.ptx, line 56846; warning : Instruction 'shfl' without '.sync' is deprecated since PTX ISA version 6.0 and will be discontinued in a future PTX ISA version\n",
            "ptxas /tmp/tmpxft_00000fd2_00000000-9_ctc_entrypoint.compute_50.ptx, line 56850; warning : Instruction 'shfl' without '.sync' is deprecated since PTX ISA version 6.0 and will be discontinued in a future PTX ISA version\n",
            "ptxas /tmp/tmpxft_00000fd2_00000000-9_ctc_entrypoint.compute_50.ptx, line 56854; warning : Instruction 'shfl' without '.sync' is deprecated since PTX ISA version 6.0 and will be discontinued in a future PTX ISA version\n",
            "ptxas /tmp/tmpxft_00000fd2_00000000-9_ctc_entrypoint.compute_50.ptx, line 56858; warning : Instruction 'shfl' without '.sync' is deprecated since PTX ISA version 6.0 and will be discontinued in a future PTX ISA version\n",
            "/content/espnet/egs/telugu/asr1/chainer_ctc/ext/warp-ctc/include/contrib/moderngpu/include/device/intrinsics.cuh(115): warning: function \"__shfl_up(float, unsigned int, int)\"\n",
            "/usr/local/cuda/include/sm_30_intrinsics.hpp(199): here was declared deprecated (\"__shfl_up() is deprecated in favor of __shfl_up_sync() and may be removed in a future release (Use -Wno-deprecated-declarations to suppress this warning).\")\n",
            "\n",
            "/content/espnet/egs/telugu/asr1/chainer_ctc/ext/warp-ctc/include/contrib/moderngpu/include/device/intrinsics.cuh(125): warning: function \"__shfl_up(int, unsigned int, int)\"\n",
            "/usr/local/cuda/include/sm_30_intrinsics.hpp(158): here was declared deprecated (\"__shfl_up() is deprecated in favor of __shfl_up_sync() and may be removed in a future release (Use -Wno-deprecated-declarations to suppress this warning).\")\n",
            "\n",
            "/content/espnet/egs/telugu/asr1/chainer_ctc/ext/warp-ctc/include/contrib/moderngpu/include/device/intrinsics.cuh(126): warning: function \"__shfl_up(int, unsigned int, int)\"\n",
            "/usr/local/cuda/include/sm_30_intrinsics.hpp(158): here was declared deprecated (\"__shfl_up() is deprecated in favor of __shfl_up_sync() and may be removed in a future release (Use -Wno-deprecated-declarations to suppress this warning).\")\n",
            "\n",
            "ptxas /tmp/tmpxft_00000fd2_00000000-8_ctc_entrypoint.compute_52.ptx, line 1871; warning : Instruction 'shfl' without '.sync' is deprecated since PTX ISA version 6.0 and will be discontinued in a future PTX ISA version\n",
            "ptxas /tmp/tmpxft_00000fd2_00000000-8_ctc_entrypoint.compute_52.ptx, line 1875; warning : Instruction 'shfl' without '.sync' is deprecated since PTX ISA version 6.0 and will be discontinued in a future PTX ISA version\n",
            "ptxas /tmp/tmpxft_00000fd2_00000000-8_ctc_entrypoint.compute_52.ptx, line 1879; warning : Instruction 'shfl' without '.sync' is deprecated since PTX ISA version 6.0 and will be discontinued in a future PTX ISA version\n",
            "ptxas /tmp/tmpxft_00000fd2_00000000-8_ctc_entrypoint.compute_52.ptx, line 1883; warning : Instruction 'shfl' without '.sync' is deprecated since PTX ISA version 6.0 and will be discontinued in a future PTX ISA version\n",
            "ptxas /tmp/tmpxft_00000fd2_00000000-8_ctc_entrypoint.compute_52.ptx, line 1887; warning : Instruction 'shfl' without '.sync' is deprecated since PTX ISA version 6.0 and will be discontinued in a future PTX ISA version\n",
            "ptxas /tmp/tmpxft_00000fd2_00000000-8_ctc_entrypoint.compute_52.ptx, line 5592; warning : Instruction 'shfl' without '.sync' is deprecated since PTX ISA version 6.0 and will be discontinued in a future PTX ISA version\n",
            "ptxas /tmp/tmpxft_00000fd2_00000000-8_ctc_entrypoint.compute_52.ptx, line 5614; warning : Instruction 'shfl' without '.sync' is deprecated since PTX ISA version 6.0 and will be discontinued in a future PTX ISA version\n",
            "ptxas /tmp/tmpxft_00000fd2_00000000-8_ctc_entrypoint.compute_52.ptx, line 5618; warning : Instruction 'shfl' without '.sync' is deprecated since PTX ISA version 6.0 and will be discontinued in a future PTX ISA version\n",
            "ptxas /tmp/tmpxft_00000fd2_00000000-8_ctc_entrypoint.compute_52.ptx, line 5622; warning : Instruction 'shfl' without '.sync' is deprecated since PTX ISA version 6.0 and will be discontinued in a future PTX ISA version\n",
            "ptxas /tmp/tmpxft_00000fd2_00000000-8_ctc_entrypoint.compute_52.ptx, line 5626; warning : Instruction 'shfl' without '.sync' is deprecated since PTX ISA version 6.0 and will be discontinued in a future PTX ISA version\n",
            "ptxas /tmp/tmpxft_00000fd2_00000000-8_ctc_entrypoint.compute_52.ptx, line 5630; warning : Instruction 'shfl' without '.sync' is deprecated since PTX ISA version 6.0 and will be discontinued in a future PTX ISA version\n",
            "ptxas /tmp/tmpxft_00000fd2_00000000-8_ctc_entrypoint.compute_52.ptx, line 9400; warning : Instruction 'shfl' without '.sync' is deprecated since PTX ISA version 6.0 and will be discontinued in a future PTX ISA version\n",
            "ptxas /tmp/tmpxft_00000fd2_00000000-8_ctc_entrypoint.compute_52.ptx, line 9404; warning : Instruction 'shfl' without '.sync' is deprecated since PTX ISA version 6.0 and will be discontinued in a future PTX ISA version\n",
            "ptxas /tmp/tmpxft_00000fd2_00000000-8_ctc_entrypoint.compute_52.ptx, line 9426; warning : Instruction 'shfl' without '.sync' is deprecated since PTX ISA version 6.0 and will be discontinued in a future PTX ISA version\n",
            "ptxas /tmp/tmpxft_00000fd2_00000000-8_ctc_entrypoint.compute_52.ptx, line 9429; warning : Instruction 'shfl' without '.sync' is deprecated since PTX ISA version 6.0 and will be discontinued in a future PTX ISA version\n",
            "ptxas /tmp/tmpxft_00000fd2_00000000-8_ctc_entrypoint.compute_52.ptx, line 9433; warning : Instruction 'shfl' without '.sync' is deprecated since PTX ISA version 6.0 and will be discontinued in a future PTX ISA version\n",
            "ptxas /tmp/tmpxft_00000fd2_00000000-8_ctc_entrypoint.compute_52.ptx, line 9437; warning : Instruction 'shfl' without '.sync' is deprecated since PTX ISA version 6.0 and will be discontinued in a future PTX ISA version\n",
            "ptxas /tmp/tmpxft_00000fd2_00000000-8_ctc_entrypoint.compute_52.ptx, line 9441; warning : Instruction 'shfl' without '.sync' is deprecated since PTX ISA version 6.0 and will be discontinued in a future PTX ISA version\n",
            "ptxas /tmp/tmpxft_00000fd2_00000000-8_ctc_entrypoint.compute_52.ptx, line 13596; warning : Instruction 'shfl' without '.sync' is deprecated since PTX ISA version 6.0 and will be discontinued in a future PTX ISA version\n",
            "ptxas /tmp/tmpxft_00000fd2_00000000-8_ctc_entrypoint.compute_52.ptx, line 13619; warning : Instruction 'shfl' without '.sync' is deprecated since PTX ISA version 6.0 and will be discontinued in a future PTX ISA version\n",
            "ptxas /tmp/tmpxft_00000fd2_00000000-8_ctc_entrypoint.compute_52.ptx, line 13623; warning : Instruction 'shfl' without '.sync' is deprecated since PTX ISA version 6.0 and will be discontinued in a future PTX ISA version\n",
            "ptxas /tmp/tmpxft_00000fd2_00000000-8_ctc_entrypoint.compute_52.ptx, line 13627; warning : Instruction 'shfl' without '.sync' is deprecated since PTX ISA version 6.0 and will be discontinued in a future PTX ISA version\n",
            "ptxas /tmp/tmpxft_00000fd2_00000000-8_ctc_entrypoint.compute_52.ptx, line 13631; warning : Instruction 'shfl' without '.sync' is deprecated since PTX ISA version 6.0 and will be discontinued in a future PTX ISA version\n",
            "ptxas /tmp/tmpxft_00000fd2_00000000-8_ctc_entrypoint.compute_52.ptx, line 13635; warning : Instruction 'shfl' without '.sync' is deprecated since PTX ISA version 6.0 and will be discontinued in a future PTX ISA version\n",
            "ptxas /tmp/tmpxft_00000fd2_00000000-8_ctc_entrypoint.compute_52.ptx, line 17676; warning : Instruction 'shfl' without '.sync' is deprecated since PTX ISA version 6.0 and will be discontinued in a future PTX ISA version\n",
            "ptxas /tmp/tmpxft_00000fd2_00000000-8_ctc_entrypoint.compute_52.ptx, line 17680; warning : Instruction 'shfl' without '.sync' is deprecated since PTX ISA version 6.0 and will be discontinued in a future PTX ISA version\n",
            "ptxas /tmp/tmpxft_00000fd2_00000000-8_ctc_entrypoint.compute_52.ptx, line 17703; warning : Instruction 'shfl' without '.sync' is deprecated since PTX ISA version 6.0 and will be discontinued in a future PTX ISA version\n",
            "ptxas /tmp/tmpxft_00000fd2_00000000-8_ctc_entrypoint.compute_52.ptx, line 17706; warning : Instruction 'shfl' without '.sync' is deprecated since PTX ISA version 6.0 and will be discontinued in a future PTX ISA version\n",
            "ptxas /tmp/tmpxft_00000fd2_00000000-8_ctc_entrypoint.compute_52.ptx, line 17710; warning : Instruction 'shfl' without '.sync' is deprecated since PTX ISA version 6.0 and will be discontinued in a future PTX ISA version\n",
            "ptxas /tmp/tmpxft_00000fd2_00000000-8_ctc_entrypoint.compute_52.ptx, line 17714; warning : Instruction 'shfl' without '.sync' is deprecated since PTX ISA version 6.0 and will be discontinued in a future PTX ISA version\n",
            "ptxas /tmp/tmpxft_00000fd2_00000000-8_ctc_entrypoint.compute_52.ptx, line 17718; warning : Instruction 'shfl' without '.sync' is deprecated since PTX ISA version 6.0 and will be discontinued in a future PTX ISA version\n",
            "ptxas /tmp/tmpxft_00000fd2_00000000-8_ctc_entrypoint.compute_52.ptx, line 23144; warning : Instruction 'shfl' without '.sync' is deprecated since PTX ISA version 6.0 and will be discontinued in a future PTX ISA version\n",
            "ptxas /tmp/tmpxft_00000fd2_00000000-8_ctc_entrypoint.compute_52.ptx, line 23148; warning : Instruction 'shfl' without '.sync' is deprecated since PTX ISA version 6.0 and will be discontinued in a future PTX ISA version\n",
            "ptxas /tmp/tmpxft_00000fd2_00000000-8_ctc_entrypoint.compute_52.ptx, line 23152; warning : Instruction 'shfl' without '.sync' is deprecated since PTX ISA version 6.0 and will be discontinued in a future PTX ISA version\n",
            "ptxas /tmp/tmpxft_00000fd2_00000000-8_ctc_entrypoint.compute_52.ptx, line 23156; warning : Instruction 'shfl' without '.sync' is deprecated since PTX ISA version 6.0 and will be discontinued in a future PTX ISA version\n",
            "ptxas /tmp/tmpxft_00000fd2_00000000-8_ctc_entrypoint.compute_52.ptx, line 23160; warning : Instruction 'shfl' without '.sync' is deprecated since PTX ISA version 6.0 and will be discontinued in a future PTX ISA version\n",
            "ptxas /tmp/tmpxft_00000fd2_00000000-8_ctc_entrypoint.compute_52.ptx, line 28191; warning : Instruction 'shfl' without '.sync' is deprecated since PTX ISA version 6.0 and will be discontinued in a future PTX ISA version\n",
            "ptxas /tmp/tmpxft_00000fd2_00000000-8_ctc_entrypoint.compute_52.ptx, line 28214; warning : Instruction 'shfl' without '.sync' is deprecated since PTX ISA version 6.0 and will be discontinued in a future PTX ISA version\n",
            "ptxas /tmp/tmpxft_00000fd2_00000000-8_ctc_entrypoint.compute_52.ptx, line 28218; warning : Instruction 'shfl' without '.sync' is deprecated since PTX ISA version 6.0 and will be discontinued in a future PTX ISA version\n",
            "ptxas /tmp/tmpxft_00000fd2_00000000-8_ctc_entrypoint.compute_52.ptx, line 28222; warning : Instruction 'shfl' without '.sync' is deprecated since PTX ISA version 6.0 and will be discontinued in a future PTX ISA version\n",
            "ptxas /tmp/tmpxft_00000fd2_00000000-8_ctc_entrypoint.compute_52.ptx, line 28226; warning : Instruction 'shfl' without '.sync' is deprecated since PTX ISA version 6.0 and will be discontinued in a future PTX ISA version\n",
            "ptxas /tmp/tmpxft_00000fd2_00000000-8_ctc_entrypoint.compute_52.ptx, line 28230; warning : Instruction 'shfl' without '.sync' is deprecated since PTX ISA version 6.0 and will be discontinued in a future PTX ISA version\n",
            "ptxas /tmp/tmpxft_00000fd2_00000000-8_ctc_entrypoint.compute_52.ptx, line 32865; warning : Instruction 'shfl' without '.sync' is deprecated since PTX ISA version 6.0 and will be discontinued in a future PTX ISA version\n",
            "ptxas /tmp/tmpxft_00000fd2_00000000-8_ctc_entrypoint.compute_52.ptx, line 32869; warning : Instruction 'shfl' without '.sync' is deprecated since PTX ISA version 6.0 and will be discontinued in a future PTX ISA version\n",
            "ptxas /tmp/tmpxft_00000fd2_00000000-8_ctc_entrypoint.compute_52.ptx, line 32891; warning : Instruction 'shfl' without '.sync' is deprecated since PTX ISA version 6.0 and will be discontinued in a future PTX ISA version\n",
            "ptxas /tmp/tmpxft_00000fd2_00000000-8_ctc_entrypoint.compute_52.ptx, line 32894; warning : Instruction 'shfl' without '.sync' is deprecated since PTX ISA version 6.0 and will be discontinued in a future PTX ISA version\n",
            "ptxas /tmp/tmpxft_00000fd2_00000000-8_ctc_entrypoint.compute_52.ptx, line 32898; warning : Instruction 'shfl' without '.sync' is deprecated since PTX ISA version 6.0 and will be discontinued in a future PTX ISA version\n",
            "ptxas /tmp/tmpxft_00000fd2_00000000-8_ctc_entrypoint.compute_52.ptx, line 32902; warning : Instruction 'shfl' without '.sync' is deprecated since PTX ISA version 6.0 and will be discontinued in a future PTX ISA version\n",
            "ptxas /tmp/tmpxft_00000fd2_00000000-8_ctc_entrypoint.compute_52.ptx, line 32906; warning : Instruction 'shfl' without '.sync' is deprecated since PTX ISA version 6.0 and will be discontinued in a future PTX ISA version\n",
            "ptxas /tmp/tmpxft_00000fd2_00000000-8_ctc_entrypoint.compute_52.ptx, line 38703; warning : Instruction 'shfl' without '.sync' is deprecated since PTX ISA version 6.0 and will be discontinued in a future PTX ISA version\n",
            "ptxas /tmp/tmpxft_00000fd2_00000000-8_ctc_entrypoint.compute_52.ptx, line 38726; warning : Instruction 'shfl' without '.sync' is deprecated since PTX ISA version 6.0 and will be discontinued in a future PTX ISA version\n",
            "ptxas /tmp/tmpxft_00000fd2_00000000-8_ctc_entrypoint.compute_52.ptx, line 38730; warning : Instruction 'shfl' without '.sync' is deprecated since PTX ISA version 6.0 and will be discontinued in a future PTX ISA version\n",
            "ptxas /tmp/tmpxft_00000fd2_00000000-8_ctc_entrypoint.compute_52.ptx, line 38734; warning : Instruction 'shfl' without '.sync' is deprecated since PTX ISA version 6.0 and will be discontinued in a future PTX ISA version\n",
            "ptxas /tmp/tmpxft_00000fd2_00000000-8_ctc_entrypoint.compute_52.ptx, line 38738; warning : Instruction 'shfl' without '.sync' is deprecated since PTX ISA version 6.0 and will be discontinued in a future PTX ISA version\n",
            "ptxas /tmp/tmpxft_00000fd2_00000000-8_ctc_entrypoint.compute_52.ptx, line 38742; warning : Instruction 'shfl' without '.sync' is deprecated since PTX ISA version 6.0 and will be discontinued in a future PTX ISA version\n",
            "ptxas /tmp/tmpxft_00000fd2_00000000-8_ctc_entrypoint.compute_52.ptx, line 44001; warning : Instruction 'shfl' without '.sync' is deprecated since PTX ISA version 6.0 and will be discontinued in a future PTX ISA version\n",
            "ptxas /tmp/tmpxft_00000fd2_00000000-8_ctc_entrypoint.compute_52.ptx, line 44005; warning : Instruction 'shfl' without '.sync' is deprecated since PTX ISA version 6.0 and will be discontinued in a future PTX ISA version\n",
            "ptxas /tmp/tmpxft_00000fd2_00000000-8_ctc_entrypoint.compute_52.ptx, line 44028; warning : Instruction 'shfl' without '.sync' is deprecated since PTX ISA version 6.0 and will be discontinued in a future PTX ISA version\n",
            "ptxas /tmp/tmpxft_00000fd2_00000000-8_ctc_entrypoint.compute_52.ptx, line 44031; warning : Instruction 'shfl' without '.sync' is deprecated since PTX ISA version 6.0 and will be discontinued in a future PTX ISA version\n",
            "ptxas /tmp/tmpxft_00000fd2_00000000-8_ctc_entrypoint.compute_52.ptx, line 44035; warning : Instruction 'shfl' without '.sync' is deprecated since PTX ISA version 6.0 and will be discontinued in a future PTX ISA version\n",
            "ptxas /tmp/tmpxft_00000fd2_00000000-8_ctc_entrypoint.compute_52.ptx, line 44039; warning : Instruction 'shfl' without '.sync' is deprecated since PTX ISA version 6.0 and will be discontinued in a future PTX ISA version\n",
            "ptxas /tmp/tmpxft_00000fd2_00000000-8_ctc_entrypoint.compute_52.ptx, line 44043; warning : Instruction 'shfl' without '.sync' is deprecated since PTX ISA version 6.0 and will be discontinued in a future PTX ISA version\n",
            "ptxas /tmp/tmpxft_00000fd2_00000000-8_ctc_entrypoint.compute_52.ptx, line 50224; warning : Instruction 'shfl' without '.sync' is deprecated since PTX ISA version 6.0 and will be discontinued in a future PTX ISA version\n",
            "ptxas /tmp/tmpxft_00000fd2_00000000-8_ctc_entrypoint.compute_52.ptx, line 50228; warning : Instruction 'shfl' without '.sync' is deprecated since PTX ISA version 6.0 and will be discontinued in a future PTX ISA version\n",
            "ptxas /tmp/tmpxft_00000fd2_00000000-8_ctc_entrypoint.compute_52.ptx, line 50251; warning : Instruction 'shfl' without '.sync' is deprecated since PTX ISA version 6.0 and will be discontinued in a future PTX ISA version\n",
            "ptxas /tmp/tmpxft_00000fd2_00000000-8_ctc_entrypoint.compute_52.ptx, line 50254; warning : Instruction 'shfl' without '.sync' is deprecated since PTX ISA version 6.0 and will be discontinued in a future PTX ISA version\n",
            "ptxas /tmp/tmpxft_00000fd2_00000000-8_ctc_entrypoint.compute_52.ptx, line 50258; warning : Instruction 'shfl' without '.sync' is deprecated since PTX ISA version 6.0 and will be discontinued in a future PTX ISA version\n",
            "ptxas /tmp/tmpxft_00000fd2_00000000-8_ctc_entrypoint.compute_52.ptx, line 50262; warning : Instruction 'shfl' without '.sync' is deprecated since PTX ISA version 6.0 and will be discontinued in a future PTX ISA version\n",
            "ptxas /tmp/tmpxft_00000fd2_00000000-8_ctc_entrypoint.compute_52.ptx, line 50266; warning : Instruction 'shfl' without '.sync' is deprecated since PTX ISA version 6.0 and will be discontinued in a future PTX ISA version\n",
            "ptxas /tmp/tmpxft_00000fd2_00000000-8_ctc_entrypoint.compute_52.ptx, line 56816; warning : Instruction 'shfl' without '.sync' is deprecated since PTX ISA version 6.0 and will be discontinued in a future PTX ISA version\n",
            "ptxas /tmp/tmpxft_00000fd2_00000000-8_ctc_entrypoint.compute_52.ptx, line 56820; warning : Instruction 'shfl' without '.sync' is deprecated since PTX ISA version 6.0 and will be discontinued in a future PTX ISA version\n",
            "ptxas /tmp/tmpxft_00000fd2_00000000-8_ctc_entrypoint.compute_52.ptx, line 56843; warning : Instruction 'shfl' without '.sync' is deprecated since PTX ISA version 6.0 and will be discontinued in a future PTX ISA version\n",
            "ptxas /tmp/tmpxft_00000fd2_00000000-8_ctc_entrypoint.compute_52.ptx, line 56846; warning : Instruction 'shfl' without '.sync' is deprecated since PTX ISA version 6.0 and will be discontinued in a future PTX ISA version\n",
            "ptxas /tmp/tmpxft_00000fd2_00000000-8_ctc_entrypoint.compute_52.ptx, line 56850; warning : Instruction 'shfl' without '.sync' is deprecated since PTX ISA version 6.0 and will be discontinued in a future PTX ISA version\n",
            "ptxas /tmp/tmpxft_00000fd2_00000000-8_ctc_entrypoint.compute_52.ptx, line 56854; warning : Instruction 'shfl' without '.sync' is deprecated since PTX ISA version 6.0 and will be discontinued in a future PTX ISA version\n",
            "ptxas /tmp/tmpxft_00000fd2_00000000-8_ctc_entrypoint.compute_52.ptx, line 56858; warning : Instruction 'shfl' without '.sync' is deprecated since PTX ISA version 6.0 and will be discontinued in a future PTX ISA version\n",
            "/content/espnet/egs/telugu/asr1/chainer_ctc/ext/warp-ctc/include/contrib/moderngpu/include/device/intrinsics.cuh(115): warning: function \"__shfl_up(float, unsigned int, int)\"\n",
            "/usr/local/cuda/include/sm_30_intrinsics.hpp(199): here was declared deprecated (\"__shfl_up() is deprecated in favor of __shfl_up_sync() and may be removed in a future release (Use -Wno-deprecated-declarations to suppress this warning).\")\n",
            "\n",
            "/content/espnet/egs/telugu/asr1/chainer_ctc/ext/warp-ctc/include/contrib/moderngpu/include/device/intrinsics.cuh(125): warning: function \"__shfl_up(int, unsigned int, int)\"\n",
            "/usr/local/cuda/include/sm_30_intrinsics.hpp(158): here was declared deprecated (\"__shfl_up() is deprecated in favor of __shfl_up_sync() and may be removed in a future release (Use -Wno-deprecated-declarations to suppress this warning).\")\n",
            "\n",
            "/content/espnet/egs/telugu/asr1/chainer_ctc/ext/warp-ctc/include/contrib/moderngpu/include/device/intrinsics.cuh(126): warning: function \"__shfl_up(int, unsigned int, int)\"\n",
            "/usr/local/cuda/include/sm_30_intrinsics.hpp(158): here was declared deprecated (\"__shfl_up() is deprecated in favor of __shfl_up_sync() and may be removed in a future release (Use -Wno-deprecated-declarations to suppress this warning).\")\n",
            "\n",
            "ptxas /tmp/tmpxft_00000fd2_00000000-7_ctc_entrypoint.compute_60.ptx, line 1871; warning : Instruction 'shfl' without '.sync' may produce unpredictable results on sm_70 and later architectures\n",
            "ptxas /tmp/tmpxft_00000fd2_00000000-7_ctc_entrypoint.compute_60.ptx, line 1871; warning : Instruction 'shfl' without '.sync' is deprecated since PTX ISA version 6.0 and will be discontinued in a future PTX ISA version\n",
            "ptxas /tmp/tmpxft_00000fd2_00000000-7_ctc_entrypoint.compute_60.ptx, line 1875; warning : Instruction 'shfl' without '.sync' may produce unpredictable results on sm_70 and later architectures\n",
            "ptxas /tmp/tmpxft_00000fd2_00000000-7_ctc_entrypoint.compute_60.ptx, line 1875; warning : Instruction 'shfl' without '.sync' is deprecated since PTX ISA version 6.0 and will be discontinued in a future PTX ISA version\n",
            "ptxas /tmp/tmpxft_00000fd2_00000000-7_ctc_entrypoint.compute_60.ptx, line 1879; warning : Instruction 'shfl' without '.sync' may produce unpredictable results on sm_70 and later architectures\n",
            "ptxas /tmp/tmpxft_00000fd2_00000000-7_ctc_entrypoint.compute_60.ptx, line 1879; warning : Instruction 'shfl' without '.sync' is deprecated since PTX ISA version 6.0 and will be discontinued in a future PTX ISA version\n",
            "ptxas /tmp/tmpxft_00000fd2_00000000-7_ctc_entrypoint.compute_60.ptx, line 1883; warning : Instruction 'shfl' without '.sync' may produce unpredictable results on sm_70 and later architectures\n",
            "ptxas /tmp/tmpxft_00000fd2_00000000-7_ctc_entrypoint.compute_60.ptx, line 1883; warning : Instruction 'shfl' without '.sync' is deprecated since PTX ISA version 6.0 and will be discontinued in a future PTX ISA version\n",
            "ptxas /tmp/tmpxft_00000fd2_00000000-7_ctc_entrypoint.compute_60.ptx, line 1887; warning : Instruction 'shfl' without '.sync' may produce unpredictable results on sm_70 and later architectures\n",
            "ptxas /tmp/tmpxft_00000fd2_00000000-7_ctc_entrypoint.compute_60.ptx, line 1887; warning : Instruction 'shfl' without '.sync' is deprecated since PTX ISA version 6.0 and will be discontinued in a future PTX ISA version\n",
            "ptxas /tmp/tmpxft_00000fd2_00000000-7_ctc_entrypoint.compute_60.ptx, line 5592; warning : Instruction 'shfl' without '.sync' may produce unpredictable results on sm_70 and later architectures\n",
            "ptxas /tmp/tmpxft_00000fd2_00000000-7_ctc_entrypoint.compute_60.ptx, line 5592; warning : Instruction 'shfl' without '.sync' is deprecated since PTX ISA version 6.0 and will be discontinued in a future PTX ISA version\n",
            "ptxas /tmp/tmpxft_00000fd2_00000000-7_ctc_entrypoint.compute_60.ptx, line 5614; warning : Instruction 'shfl' without '.sync' may produce unpredictable results on sm_70 and later architectures\n",
            "ptxas /tmp/tmpxft_00000fd2_00000000-7_ctc_entrypoint.compute_60.ptx, line 5614; warning : Instruction 'shfl' without '.sync' is deprecated since PTX ISA version 6.0 and will be discontinued in a future PTX ISA version\n",
            "ptxas /tmp/tmpxft_00000fd2_00000000-7_ctc_entrypoint.compute_60.ptx, line 5618; warning : Instruction 'shfl' without '.sync' may produce unpredictable results on sm_70 and later architectures\n",
            "ptxas /tmp/tmpxft_00000fd2_00000000-7_ctc_entrypoint.compute_60.ptx, line 5618; warning : Instruction 'shfl' without '.sync' is deprecated since PTX ISA version 6.0 and will be discontinued in a future PTX ISA version\n",
            "ptxas /tmp/tmpxft_00000fd2_00000000-7_ctc_entrypoint.compute_60.ptx, line 5622; warning : Instruction 'shfl' without '.sync' may produce unpredictable results on sm_70 and later architectures\n",
            "ptxas /tmp/tmpxft_00000fd2_00000000-7_ctc_entrypoint.compute_60.ptx, line 5622; warning : Instruction 'shfl' without '.sync' is deprecated since PTX ISA version 6.0 and will be discontinued in a future PTX ISA version\n",
            "ptxas /tmp/tmpxft_00000fd2_00000000-7_ctc_entrypoint.compute_60.ptx, line 5626; warning : Instruction 'shfl' without '.sync' may produce unpredictable results on sm_70 and later architectures\n",
            "ptxas /tmp/tmpxft_00000fd2_00000000-7_ctc_entrypoint.compute_60.ptx, line 5626; warning : Instruction 'shfl' without '.sync' is deprecated since PTX ISA version 6.0 and will be discontinued in a future PTX ISA version\n",
            "ptxas /tmp/tmpxft_00000fd2_00000000-7_ctc_entrypoint.compute_60.ptx, line 5630; warning : Instruction 'shfl' without '.sync' may produce unpredictable results on sm_70 and later architectures\n",
            "ptxas /tmp/tmpxft_00000fd2_00000000-7_ctc_entrypoint.compute_60.ptx, line 5630; warning : Instruction 'shfl' without '.sync' is deprecated since PTX ISA version 6.0 and will be discontinued in a future PTX ISA version\n",
            "ptxas /tmp/tmpxft_00000fd2_00000000-7_ctc_entrypoint.compute_60.ptx, line 9400; warning : Instruction 'shfl' without '.sync' may produce unpredictable results on sm_70 and later architectures\n",
            "ptxas /tmp/tmpxft_00000fd2_00000000-7_ctc_entrypoint.compute_60.ptx, line 9400; warning : Instruction 'shfl' without '.sync' is deprecated since PTX ISA version 6.0 and will be discontinued in a future PTX ISA version\n",
            "ptxas /tmp/tmpxft_00000fd2_00000000-7_ctc_entrypoint.compute_60.ptx, line 9404; warning : Instruction 'shfl' without '.sync' may produce unpredictable results on sm_70 and later architectures\n",
            "ptxas /tmp/tmpxft_00000fd2_00000000-7_ctc_entrypoint.compute_60.ptx, line 9404; warning : Instruction 'shfl' without '.sync' is deprecated since PTX ISA version 6.0 and will be discontinued in a future PTX ISA version\n",
            "ptxas /tmp/tmpxft_00000fd2_00000000-7_ctc_entrypoint.compute_60.ptx, line 9426; warning : Instruction 'shfl' without '.sync' may produce unpredictable results on sm_70 and later architectures\n",
            "ptxas /tmp/tmpxft_00000fd2_00000000-7_ctc_entrypoint.compute_60.ptx, line 9426; warning : Instruction 'shfl' without '.sync' is deprecated since PTX ISA version 6.0 and will be discontinued in a future PTX ISA version\n",
            "ptxas /tmp/tmpxft_00000fd2_00000000-7_ctc_entrypoint.compute_60.ptx, line 9429; warning : Instruction 'shfl' without '.sync' may produce unpredictable results on sm_70 and later architectures\n",
            "ptxas /tmp/tmpxft_00000fd2_00000000-7_ctc_entrypoint.compute_60.ptx, line 9429; warning : Instruction 'shfl' without '.sync' is deprecated since PTX ISA version 6.0 and will be discontinued in a future PTX ISA version\n",
            "ptxas /tmp/tmpxft_00000fd2_00000000-7_ctc_entrypoint.compute_60.ptx, line 9433; warning : Instruction 'shfl' without '.sync' may produce unpredictable results on sm_70 and later architectures\n",
            "ptxas /tmp/tmpxft_00000fd2_00000000-7_ctc_entrypoint.compute_60.ptx, line 9433; warning : Instruction 'shfl' without '.sync' is deprecated since PTX ISA version 6.0 and will be discontinued in a future PTX ISA version\n",
            "ptxas /tmp/tmpxft_00000fd2_00000000-7_ctc_entrypoint.compute_60.ptx, line 9437; warning : Instruction 'shfl' without '.sync' may produce unpredictable results on sm_70 and later architectures\n",
            "ptxas /tmp/tmpxft_00000fd2_00000000-7_ctc_entrypoint.compute_60.ptx, line 9437; warning : Instruction 'shfl' without '.sync' is deprecated since PTX ISA version 6.0 and will be discontinued in a future PTX ISA version\n",
            "ptxas /tmp/tmpxft_00000fd2_00000000-7_ctc_entrypoint.compute_60.ptx, line 9441; warning : Instruction 'shfl' without '.sync' may produce unpredictable results on sm_70 and later architectures\n",
            "ptxas /tmp/tmpxft_00000fd2_00000000-7_ctc_entrypoint.compute_60.ptx, line 9441; warning : Instruction 'shfl' without '.sync' is deprecated since PTX ISA version 6.0 and will be discontinued in a future PTX ISA version\n",
            "ptxas /tmp/tmpxft_00000fd2_00000000-7_ctc_entrypoint.compute_60.ptx, line 13596; warning : Instruction 'shfl' without '.sync' may produce unpredictable results on sm_70 and later architectures\n",
            "ptxas /tmp/tmpxft_00000fd2_00000000-7_ctc_entrypoint.compute_60.ptx, line 13596; warning : Instruction 'shfl' without '.sync' is deprecated since PTX ISA version 6.0 and will be discontinued in a future PTX ISA version\n",
            "ptxas /tmp/tmpxft_00000fd2_00000000-7_ctc_entrypoint.compute_60.ptx, line 13619; warning : Instruction 'shfl' without '.sync' may produce unpredictable results on sm_70 and later architectures\n",
            "ptxas /tmp/tmpxft_00000fd2_00000000-7_ctc_entrypoint.compute_60.ptx, line 13619; warning : Instruction 'shfl' without '.sync' is deprecated since PTX ISA version 6.0 and will be discontinued in a future PTX ISA version\n",
            "ptxas /tmp/tmpxft_00000fd2_00000000-7_ctc_entrypoint.compute_60.ptx, line 13623; warning : Instruction 'shfl' without '.sync' may produce unpredictable results on sm_70 and later architectures\n",
            "ptxas /tmp/tmpxft_00000fd2_00000000-7_ctc_entrypoint.compute_60.ptx, line 13623; warning : Instruction 'shfl' without '.sync' is deprecated since PTX ISA version 6.0 and will be discontinued in a future PTX ISA version\n",
            "ptxas /tmp/tmpxft_00000fd2_00000000-7_ctc_entrypoint.compute_60.ptx, line 13627; warning : Instruction 'shfl' without '.sync' may produce unpredictable results on sm_70 and later architectures\n",
            "ptxas /tmp/tmpxft_00000fd2_00000000-7_ctc_entrypoint.compute_60.ptx, line 13627; warning : Instruction 'shfl' without '.sync' is deprecated since PTX ISA version 6.0 and will be discontinued in a future PTX ISA version\n",
            "ptxas /tmp/tmpxft_00000fd2_00000000-7_ctc_entrypoint.compute_60.ptx, line 13631; warning : Instruction 'shfl' without '.sync' may produce unpredictable results on sm_70 and later architectures\n",
            "ptxas /tmp/tmpxft_00000fd2_00000000-7_ctc_entrypoint.compute_60.ptx, line 13631; warning : Instruction 'shfl' without '.sync' is deprecated since PTX ISA version 6.0 and will be discontinued in a future PTX ISA version\n",
            "ptxas /tmp/tmpxft_00000fd2_00000000-7_ctc_entrypoint.compute_60.ptx, line 13635; warning : Instruction 'shfl' without '.sync' may produce unpredictable results on sm_70 and later architectures\n",
            "ptxas /tmp/tmpxft_00000fd2_00000000-7_ctc_entrypoint.compute_60.ptx, line 13635; warning : Instruction 'shfl' without '.sync' is deprecated since PTX ISA version 6.0 and will be discontinued in a future PTX ISA version\n",
            "ptxas /tmp/tmpxft_00000fd2_00000000-7_ctc_entrypoint.compute_60.ptx, line 17676; warning : Instruction 'shfl' without '.sync' may produce unpredictable results on sm_70 and later architectures\n",
            "ptxas /tmp/tmpxft_00000fd2_00000000-7_ctc_entrypoint.compute_60.ptx, line 17676; warning : Instruction 'shfl' without '.sync' is deprecated since PTX ISA version 6.0 and will be discontinued in a future PTX ISA version\n",
            "ptxas /tmp/tmpxft_00000fd2_00000000-7_ctc_entrypoint.compute_60.ptx, line 17680; warning : Instruction 'shfl' without '.sync' may produce unpredictable results on sm_70 and later architectures\n",
            "ptxas /tmp/tmpxft_00000fd2_00000000-7_ctc_entrypoint.compute_60.ptx, line 17680; warning : Instruction 'shfl' without '.sync' is deprecated since PTX ISA version 6.0 and will be discontinued in a future PTX ISA version\n",
            "ptxas /tmp/tmpxft_00000fd2_00000000-7_ctc_entrypoint.compute_60.ptx, line 17703; warning : Instruction 'shfl' without '.sync' may produce unpredictable results on sm_70 and later architectures\n",
            "ptxas /tmp/tmpxft_00000fd2_00000000-7_ctc_entrypoint.compute_60.ptx, line 17703; warning : Instruction 'shfl' without '.sync' is deprecated since PTX ISA version 6.0 and will be discontinued in a future PTX ISA version\n",
            "ptxas /tmp/tmpxft_00000fd2_00000000-7_ctc_entrypoint.compute_60.ptx, line 17706; warning : Instruction 'shfl' without '.sync' may produce unpredictable results on sm_70 and later architectures\n",
            "ptxas /tmp/tmpxft_00000fd2_00000000-7_ctc_entrypoint.compute_60.ptx, line 17706; warning : Instruction 'shfl' without '.sync' is deprecated since PTX ISA version 6.0 and will be discontinued in a future PTX ISA version\n",
            "ptxas /tmp/tmpxft_00000fd2_00000000-7_ctc_entrypoint.compute_60.ptx, line 17710; warning : Instruction 'shfl' without '.sync' may produce unpredictable results on sm_70 and later architectures\n",
            "ptxas /tmp/tmpxft_00000fd2_00000000-7_ctc_entrypoint.compute_60.ptx, line 17710; warning : Instruction 'shfl' without '.sync' is deprecated since PTX ISA version 6.0 and will be discontinued in a future PTX ISA version\n",
            "ptxas /tmp/tmpxft_00000fd2_00000000-7_ctc_entrypoint.compute_60.ptx, line 17714; warning : Instruction 'shfl' without '.sync' may produce unpredictable results on sm_70 and later architectures\n",
            "ptxas /tmp/tmpxft_00000fd2_00000000-7_ctc_entrypoint.compute_60.ptx, line 17714; warning : Instruction 'shfl' without '.sync' is deprecated since PTX ISA version 6.0 and will be discontinued in a future PTX ISA version\n",
            "ptxas /tmp/tmpxft_00000fd2_00000000-7_ctc_entrypoint.compute_60.ptx, line 17718; warning : Instruction 'shfl' without '.sync' may produce unpredictable results on sm_70 and later architectures\n",
            "ptxas /tmp/tmpxft_00000fd2_00000000-7_ctc_entrypoint.compute_60.ptx, line 17718; warning : Instruction 'shfl' without '.sync' is deprecated since PTX ISA version 6.0 and will be discontinued in a future PTX ISA version\n",
            "ptxas /tmp/tmpxft_00000fd2_00000000-7_ctc_entrypoint.compute_60.ptx, line 23144; warning : Instruction 'shfl' without '.sync' may produce unpredictable results on sm_70 and later architectures\n",
            "ptxas /tmp/tmpxft_00000fd2_00000000-7_ctc_entrypoint.compute_60.ptx, line 23144; warning : Instruction 'shfl' without '.sync' is deprecated since PTX ISA version 6.0 and will be discontinued in a future PTX ISA version\n",
            "ptxas /tmp/tmpxft_00000fd2_00000000-7_ctc_entrypoint.compute_60.ptx, line 23148; warning : Instruction 'shfl' without '.sync' may produce unpredictable results on sm_70 and later architectures\n",
            "ptxas /tmp/tmpxft_00000fd2_00000000-7_ctc_entrypoint.compute_60.ptx, line 23148; warning : Instruction 'shfl' without '.sync' is deprecated since PTX ISA version 6.0 and will be discontinued in a future PTX ISA version\n",
            "ptxas /tmp/tmpxft_00000fd2_00000000-7_ctc_entrypoint.compute_60.ptx, line 23152; warning : Instruction 'shfl' without '.sync' may produce unpredictable results on sm_70 and later architectures\n",
            "ptxas /tmp/tmpxft_00000fd2_00000000-7_ctc_entrypoint.compute_60.ptx, line 23152; warning : Instruction 'shfl' without '.sync' is deprecated since PTX ISA version 6.0 and will be discontinued in a future PTX ISA version\n",
            "ptxas /tmp/tmpxft_00000fd2_00000000-7_ctc_entrypoint.compute_60.ptx, line 23156; warning : Instruction 'shfl' without '.sync' may produce unpredictable results on sm_70 and later architectures\n",
            "ptxas /tmp/tmpxft_00000fd2_00000000-7_ctc_entrypoint.compute_60.ptx, line 23156; warning : Instruction 'shfl' without '.sync' is deprecated since PTX ISA version 6.0 and will be discontinued in a future PTX ISA version\n",
            "ptxas /tmp/tmpxft_00000fd2_00000000-7_ctc_entrypoint.compute_60.ptx, line 23160; warning : Instruction 'shfl' without '.sync' may produce unpredictable results on sm_70 and later architectures\n",
            "ptxas /tmp/tmpxft_00000fd2_00000000-7_ctc_entrypoint.compute_60.ptx, line 23160; warning : Instruction 'shfl' without '.sync' is deprecated since PTX ISA version 6.0 and will be discontinued in a future PTX ISA version\n",
            "ptxas /tmp/tmpxft_00000fd2_00000000-7_ctc_entrypoint.compute_60.ptx, line 28191; warning : Instruction 'shfl' without '.sync' may produce unpredictable results on sm_70 and later architectures\n",
            "ptxas /tmp/tmpxft_00000fd2_00000000-7_ctc_entrypoint.compute_60.ptx, line 28191; warning : Instruction 'shfl' without '.sync' is deprecated since PTX ISA version 6.0 and will be discontinued in a future PTX ISA version\n",
            "ptxas /tmp/tmpxft_00000fd2_00000000-7_ctc_entrypoint.compute_60.ptx, line 28214; warning : Instruction 'shfl' without '.sync' may produce unpredictable results on sm_70 and later architectures\n",
            "ptxas /tmp/tmpxft_00000fd2_00000000-7_ctc_entrypoint.compute_60.ptx, line 28214; warning : Instruction 'shfl' without '.sync' is deprecated since PTX ISA version 6.0 and will be discontinued in a future PTX ISA version\n",
            "ptxas /tmp/tmpxft_00000fd2_00000000-7_ctc_entrypoint.compute_60.ptx, line 28218; warning : Instruction 'shfl' without '.sync' may produce unpredictable results on sm_70 and later architectures\n",
            "ptxas /tmp/tmpxft_00000fd2_00000000-7_ctc_entrypoint.compute_60.ptx, line 28218; warning : Instruction 'shfl' without '.sync' is deprecated since PTX ISA version 6.0 and will be discontinued in a future PTX ISA version\n",
            "ptxas /tmp/tmpxft_00000fd2_00000000-7_ctc_entrypoint.compute_60.ptx, line 28222; warning : Instruction 'shfl' without '.sync' may produce unpredictable results on sm_70 and later architectures\n",
            "ptxas /tmp/tmpxft_00000fd2_00000000-7_ctc_entrypoint.compute_60.ptx, line 28222; warning : Instruction 'shfl' without '.sync' is deprecated since PTX ISA version 6.0 and will be discontinued in a future PTX ISA version\n",
            "ptxas /tmp/tmpxft_00000fd2_00000000-7_ctc_entrypoint.compute_60.ptx, line 28226; warning : Instruction 'shfl' without '.sync' may produce unpredictable results on sm_70 and later architectures\n",
            "ptxas /tmp/tmpxft_00000fd2_00000000-7_ctc_entrypoint.compute_60.ptx, line 28226; warning : Instruction 'shfl' without '.sync' is deprecated since PTX ISA version 6.0 and will be discontinued in a future PTX ISA version\n",
            "ptxas /tmp/tmpxft_00000fd2_00000000-7_ctc_entrypoint.compute_60.ptx, line 28230; warning : Instruction 'shfl' without '.sync' may produce unpredictable results on sm_70 and later architectures\n",
            "ptxas /tmp/tmpxft_00000fd2_00000000-7_ctc_entrypoint.compute_60.ptx, line 28230; warning : Instruction 'shfl' without '.sync' is deprecated since PTX ISA version 6.0 and will be discontinued in a future PTX ISA version\n",
            "ptxas /tmp/tmpxft_00000fd2_00000000-7_ctc_entrypoint.compute_60.ptx, line 32865; warning : Instruction 'shfl' without '.sync' may produce unpredictable results on sm_70 and later architectures\n",
            "ptxas /tmp/tmpxft_00000fd2_00000000-7_ctc_entrypoint.compute_60.ptx, line 32865; warning : Instruction 'shfl' without '.sync' is deprecated since PTX ISA version 6.0 and will be discontinued in a future PTX ISA version\n",
            "ptxas /tmp/tmpxft_00000fd2_00000000-7_ctc_entrypoint.compute_60.ptx, line 32869; warning : Instruction 'shfl' without '.sync' may produce unpredictable results on sm_70 and later architectures\n",
            "ptxas /tmp/tmpxft_00000fd2_00000000-7_ctc_entrypoint.compute_60.ptx, line 32869; warning : Instruction 'shfl' without '.sync' is deprecated since PTX ISA version 6.0 and will be discontinued in a future PTX ISA version\n",
            "ptxas /tmp/tmpxft_00000fd2_00000000-7_ctc_entrypoint.compute_60.ptx, line 32891; warning : Instruction 'shfl' without '.sync' may produce unpredictable results on sm_70 and later architectures\n",
            "ptxas /tmp/tmpxft_00000fd2_00000000-7_ctc_entrypoint.compute_60.ptx, line 32891; warning : Instruction 'shfl' without '.sync' is deprecated since PTX ISA version 6.0 and will be discontinued in a future PTX ISA version\n",
            "ptxas /tmp/tmpxft_00000fd2_00000000-7_ctc_entrypoint.compute_60.ptx, line 32894; warning : Instruction 'shfl' without '.sync' may produce unpredictable results on sm_70 and later architectures\n",
            "ptxas /tmp/tmpxft_00000fd2_00000000-7_ctc_entrypoint.compute_60.ptx, line 32894; warning : Instruction 'shfl' without '.sync' is deprecated since PTX ISA version 6.0 and will be discontinued in a future PTX ISA version\n",
            "ptxas /tmp/tmpxft_00000fd2_00000000-7_ctc_entrypoint.compute_60.ptx, line 32898; warning : Instruction 'shfl' without '.sync' may produce unpredictable results on sm_70 and later architectures\n",
            "ptxas /tmp/tmpxft_00000fd2_00000000-7_ctc_entrypoint.compute_60.ptx, line 32898; warning : Instruction 'shfl' without '.sync' is deprecated since PTX ISA version 6.0 and will be discontinued in a future PTX ISA version\n",
            "ptxas /tmp/tmpxft_00000fd2_00000000-7_ctc_entrypoint.compute_60.ptx, line 32902; warning : Instruction 'shfl' without '.sync' may produce unpredictable results on sm_70 and later architectures\n",
            "ptxas /tmp/tmpxft_00000fd2_00000000-7_ctc_entrypoint.compute_60.ptx, line 32902; warning : Instruction 'shfl' without '.sync' is deprecated since PTX ISA version 6.0 and will be discontinued in a future PTX ISA version\n",
            "ptxas /tmp/tmpxft_00000fd2_00000000-7_ctc_entrypoint.compute_60.ptx, line 32906; warning : Instruction 'shfl' without '.sync' may produce unpredictable results on sm_70 and later architectures\n",
            "ptxas /tmp/tmpxft_00000fd2_00000000-7_ctc_entrypoint.compute_60.ptx, line 32906; warning : Instruction 'shfl' without '.sync' is deprecated since PTX ISA version 6.0 and will be discontinued in a future PTX ISA version\n",
            "ptxas /tmp/tmpxft_00000fd2_00000000-7_ctc_entrypoint.compute_60.ptx, line 38703; warning : Instruction 'shfl' without '.sync' may produce unpredictable results on sm_70 and later architectures\n",
            "ptxas /tmp/tmpxft_00000fd2_00000000-7_ctc_entrypoint.compute_60.ptx, line 38703; warning : Instruction 'shfl' without '.sync' is deprecated since PTX ISA version 6.0 and will be discontinued in a future PTX ISA version\n",
            "ptxas /tmp/tmpxft_00000fd2_00000000-7_ctc_entrypoint.compute_60.ptx, line 38726; warning : Instruction 'shfl' without '.sync' may produce unpredictable results on sm_70 and later architectures\n",
            "ptxas /tmp/tmpxft_00000fd2_00000000-7_ctc_entrypoint.compute_60.ptx, line 38726; warning : Instruction 'shfl' without '.sync' is deprecated since PTX ISA version 6.0 and will be discontinued in a future PTX ISA version\n",
            "ptxas /tmp/tmpxft_00000fd2_00000000-7_ctc_entrypoint.compute_60.ptx, line 38730; warning : Instruction 'shfl' without '.sync' may produce unpredictable results on sm_70 and later architectures\n",
            "ptxas /tmp/tmpxft_00000fd2_00000000-7_ctc_entrypoint.compute_60.ptx, line 38730; warning : Instruction 'shfl' without '.sync' is deprecated since PTX ISA version 6.0 and will be discontinued in a future PTX ISA version\n",
            "ptxas /tmp/tmpxft_00000fd2_00000000-7_ctc_entrypoint.compute_60.ptx, line 38734; warning : Instruction 'shfl' without '.sync' may produce unpredictable results on sm_70 and later architectures\n",
            "ptxas /tmp/tmpxft_00000fd2_00000000-7_ctc_entrypoint.compute_60.ptx, line 38734; warning : Instruction 'shfl' without '.sync' is deprecated since PTX ISA version 6.0 and will be discontinued in a future PTX ISA version\n",
            "ptxas /tmp/tmpxft_00000fd2_00000000-7_ctc_entrypoint.compute_60.ptx, line 38738; warning : Instruction 'shfl' without '.sync' may produce unpredictable results on sm_70 and later architectures\n",
            "ptxas /tmp/tmpxft_00000fd2_00000000-7_ctc_entrypoint.compute_60.ptx, line 38738; warning : Instruction 'shfl' without '.sync' is deprecated since PTX ISA version 6.0 and will be discontinued in a future PTX ISA version\n",
            "ptxas /tmp/tmpxft_00000fd2_00000000-7_ctc_entrypoint.compute_60.ptx, line 38742; warning : Instruction 'shfl' without '.sync' may produce unpredictable results on sm_70 and later architectures\n",
            "ptxas /tmp/tmpxft_00000fd2_00000000-7_ctc_entrypoint.compute_60.ptx, line 38742; warning : Instruction 'shfl' without '.sync' is deprecated since PTX ISA version 6.0 and will be discontinued in a future PTX ISA version\n",
            "ptxas /tmp/tmpxft_00000fd2_00000000-7_ctc_entrypoint.compute_60.ptx, line 44001; warning : Instruction 'shfl' without '.sync' may produce unpredictable results on sm_70 and later architectures\n",
            "ptxas /tmp/tmpxft_00000fd2_00000000-7_ctc_entrypoint.compute_60.ptx, line 44001; warning : Instruction 'shfl' without '.sync' is deprecated since PTX ISA version 6.0 and will be discontinued in a future PTX ISA version\n",
            "ptxas /tmp/tmpxft_00000fd2_00000000-7_ctc_entrypoint.compute_60.ptx, line 44005; warning : Instruction 'shfl' without '.sync' may produce unpredictable results on sm_70 and later architectures\n",
            "ptxas /tmp/tmpxft_00000fd2_00000000-7_ctc_entrypoint.compute_60.ptx, line 44005; warning : Instruction 'shfl' without '.sync' is deprecated since PTX ISA version 6.0 and will be discontinued in a future PTX ISA version\n",
            "ptxas /tmp/tmpxft_00000fd2_00000000-7_ctc_entrypoint.compute_60.ptx, line 44028; warning : Instruction 'shfl' without '.sync' may produce unpredictable results on sm_70 and later architectures\n",
            "ptxas /tmp/tmpxft_00000fd2_00000000-7_ctc_entrypoint.compute_60.ptx, line 44028; warning : Instruction 'shfl' without '.sync' is deprecated since PTX ISA version 6.0 and will be discontinued in a future PTX ISA version\n",
            "ptxas /tmp/tmpxft_00000fd2_00000000-7_ctc_entrypoint.compute_60.ptx, line 44031; warning : Instruction 'shfl' without '.sync' may produce unpredictable results on sm_70 and later architectures\n",
            "ptxas /tmp/tmpxft_00000fd2_00000000-7_ctc_entrypoint.compute_60.ptx, line 44031; warning : Instruction 'shfl' without '.sync' is deprecated since PTX ISA version 6.0 and will be discontinued in a future PTX ISA version\n",
            "ptxas /tmp/tmpxft_00000fd2_00000000-7_ctc_entrypoint.compute_60.ptx, line 44035; warning : Instruction 'shfl' without '.sync' may produce unpredictable results on sm_70 and later architectures\n",
            "ptxas /tmp/tmpxft_00000fd2_00000000-7_ctc_entrypoint.compute_60.ptx, line 44035; warning : Instruction 'shfl' without '.sync' is deprecated since PTX ISA version 6.0 and will be discontinued in a future PTX ISA version\n",
            "ptxas /tmp/tmpxft_00000fd2_00000000-7_ctc_entrypoint.compute_60.ptx, line 44039; warning : Instruction 'shfl' without '.sync' may produce unpredictable results on sm_70 and later architectures\n",
            "ptxas /tmp/tmpxft_00000fd2_00000000-7_ctc_entrypoint.compute_60.ptx, line 44039; warning : Instruction 'shfl' without '.sync' is deprecated since PTX ISA version 6.0 and will be discontinued in a future PTX ISA version\n",
            "ptxas /tmp/tmpxft_00000fd2_00000000-7_ctc_entrypoint.compute_60.ptx, line 44043; warning : Instruction 'shfl' without '.sync' may produce unpredictable results on sm_70 and later architectures\n",
            "ptxas /tmp/tmpxft_00000fd2_00000000-7_ctc_entrypoint.compute_60.ptx, line 44043; warning : Instruction 'shfl' without '.sync' is deprecated since PTX ISA version 6.0 and will be discontinued in a future PTX ISA version\n",
            "ptxas /tmp/tmpxft_00000fd2_00000000-7_ctc_entrypoint.compute_60.ptx, line 50224; warning : Instruction 'shfl' without '.sync' may produce unpredictable results on sm_70 and later architectures\n",
            "ptxas /tmp/tmpxft_00000fd2_00000000-7_ctc_entrypoint.compute_60.ptx, line 50224; warning : Instruction 'shfl' without '.sync' is deprecated since PTX ISA version 6.0 and will be discontinued in a future PTX ISA version\n",
            "ptxas /tmp/tmpxft_00000fd2_00000000-7_ctc_entrypoint.compute_60.ptx, line 50228; warning : Instruction 'shfl' without '.sync' may produce unpredictable results on sm_70 and later architectures\n",
            "ptxas /tmp/tmpxft_00000fd2_00000000-7_ctc_entrypoint.compute_60.ptx, line 50228; warning : Instruction 'shfl' without '.sync' is deprecated since PTX ISA version 6.0 and will be discontinued in a future PTX ISA version\n",
            "ptxas /tmp/tmpxft_00000fd2_00000000-7_ctc_entrypoint.compute_60.ptx, line 50251; warning : Instruction 'shfl' without '.sync' may produce unpredictable results on sm_70 and later architectures\n",
            "ptxas /tmp/tmpxft_00000fd2_00000000-7_ctc_entrypoint.compute_60.ptx, line 50251; warning : Instruction 'shfl' without '.sync' is deprecated since PTX ISA version 6.0 and will be discontinued in a future PTX ISA version\n",
            "ptxas /tmp/tmpxft_00000fd2_00000000-7_ctc_entrypoint.compute_60.ptx, line 50254; warning : Instruction 'shfl' without '.sync' may produce unpredictable results on sm_70 and later architectures\n",
            "ptxas /tmp/tmpxft_00000fd2_00000000-7_ctc_entrypoint.compute_60.ptx, line 50254; warning : Instruction 'shfl' without '.sync' is deprecated since PTX ISA version 6.0 and will be discontinued in a future PTX ISA version\n",
            "ptxas /tmp/tmpxft_00000fd2_00000000-7_ctc_entrypoint.compute_60.ptx, line 50258; warning : Instruction 'shfl' without '.sync' may produce unpredictable results on sm_70 and later architectures\n",
            "ptxas /tmp/tmpxft_00000fd2_00000000-7_ctc_entrypoint.compute_60.ptx, line 50258; warning : Instruction 'shfl' without '.sync' is deprecated since PTX ISA version 6.0 and will be discontinued in a future PTX ISA version\n",
            "ptxas /tmp/tmpxft_00000fd2_00000000-7_ctc_entrypoint.compute_60.ptx, line 50262; warning : Instruction 'shfl' without '.sync' may produce unpredictable results on sm_70 and later architectures\n",
            "ptxas /tmp/tmpxft_00000fd2_00000000-7_ctc_entrypoint.compute_60.ptx, line 50262; warning : Instruction 'shfl' without '.sync' is deprecated since PTX ISA version 6.0 and will be discontinued in a future PTX ISA version\n",
            "ptxas /tmp/tmpxft_00000fd2_00000000-7_ctc_entrypoint.compute_60.ptx, line 50266; warning : Instruction 'shfl' without '.sync' may produce unpredictable results on sm_70 and later architectures\n",
            "ptxas /tmp/tmpxft_00000fd2_00000000-7_ctc_entrypoint.compute_60.ptx, line 50266; warning : Instruction 'shfl' without '.sync' is deprecated since PTX ISA version 6.0 and will be discontinued in a future PTX ISA version\n",
            "ptxas /tmp/tmpxft_00000fd2_00000000-7_ctc_entrypoint.compute_60.ptx, line 56816; warning : Instruction 'shfl' without '.sync' may produce unpredictable results on sm_70 and later architectures\n",
            "ptxas /tmp/tmpxft_00000fd2_00000000-7_ctc_entrypoint.compute_60.ptx, line 56816; warning : Instruction 'shfl' without '.sync' is deprecated since PTX ISA version 6.0 and will be discontinued in a future PTX ISA version\n",
            "ptxas /tmp/tmpxft_00000fd2_00000000-7_ctc_entrypoint.compute_60.ptx, line 56820; warning : Instruction 'shfl' without '.sync' may produce unpredictable results on sm_70 and later architectures\n",
            "ptxas /tmp/tmpxft_00000fd2_00000000-7_ctc_entrypoint.compute_60.ptx, line 56820; warning : Instruction 'shfl' without '.sync' is deprecated since PTX ISA version 6.0 and will be discontinued in a future PTX ISA version\n",
            "ptxas /tmp/tmpxft_00000fd2_00000000-7_ctc_entrypoint.compute_60.ptx, line 56843; warning : Instruction 'shfl' without '.sync' may produce unpredictable results on sm_70 and later architectures\n",
            "ptxas /tmp/tmpxft_00000fd2_00000000-7_ctc_entrypoint.compute_60.ptx, line 56843; warning : Instruction 'shfl' without '.sync' is deprecated since PTX ISA version 6.0 and will be discontinued in a future PTX ISA version\n",
            "ptxas /tmp/tmpxft_00000fd2_00000000-7_ctc_entrypoint.compute_60.ptx, line 56846; warning : Instruction 'shfl' without '.sync' may produce unpredictable results on sm_70 and later architectures\n",
            "ptxas /tmp/tmpxft_00000fd2_00000000-7_ctc_entrypoint.compute_60.ptx, line 56846; warning : Instruction 'shfl' without '.sync' is deprecated since PTX ISA version 6.0 and will be discontinued in a future PTX ISA version\n",
            "ptxas /tmp/tmpxft_00000fd2_00000000-7_ctc_entrypoint.compute_60.ptx, line 56850; warning : Instruction 'shfl' without '.sync' may produce unpredictable results on sm_70 and later architectures\n",
            "ptxas /tmp/tmpxft_00000fd2_00000000-7_ctc_entrypoint.compute_60.ptx, line 56850; warning : Instruction 'shfl' without '.sync' is deprecated since PTX ISA version 6.0 and will be discontinued in a future PTX ISA version\n",
            "ptxas /tmp/tmpxft_00000fd2_00000000-7_ctc_entrypoint.compute_60.ptx, line 56854; warning : Instruction 'shfl' without '.sync' may produce unpredictable results on sm_70 and later architectures\n",
            "ptxas /tmp/tmpxft_00000fd2_00000000-7_ctc_entrypoint.compute_60.ptx, line 56854; warning : Instruction 'shfl' without '.sync' is deprecated since PTX ISA version 6.0 and will be discontinued in a future PTX ISA version\n",
            "ptxas /tmp/tmpxft_00000fd2_00000000-7_ctc_entrypoint.compute_60.ptx, line 56858; warning : Instruction 'shfl' without '.sync' may produce unpredictable results on sm_70 and later architectures\n",
            "ptxas /tmp/tmpxft_00000fd2_00000000-7_ctc_entrypoint.compute_60.ptx, line 56858; warning : Instruction 'shfl' without '.sync' is deprecated since PTX ISA version 6.0 and will be discontinued in a future PTX ISA version\n",
            "ptxas /tmp/tmpxft_00000fd2_00000000-7_ctc_entrypoint.compute_60.ptx, line 1871; warning : Instruction 'shfl' without '.sync' is deprecated since PTX ISA version 6.0 and will be discontinued in a future PTX ISA version\n",
            "ptxas /tmp/tmpxft_00000fd2_00000000-7_ctc_entrypoint.compute_60.ptx, line 1875; warning : Instruction 'shfl' without '.sync' is deprecated since PTX ISA version 6.0 and will be discontinued in a future PTX ISA version\n",
            "ptxas /tmp/tmpxft_00000fd2_00000000-7_ctc_entrypoint.compute_60.ptx, line 1879; warning : Instruction 'shfl' without '.sync' is deprecated since PTX ISA version 6.0 and will be discontinued in a future PTX ISA version\n",
            "ptxas /tmp/tmpxft_00000fd2_00000000-7_ctc_entrypoint.compute_60.ptx, line 1883; warning : Instruction 'shfl' without '.sync' is deprecated since PTX ISA version 6.0 and will be discontinued in a future PTX ISA version\n",
            "ptxas /tmp/tmpxft_00000fd2_00000000-7_ctc_entrypoint.compute_60.ptx, line 1887; warning : Instruction 'shfl' without '.sync' is deprecated since PTX ISA version 6.0 and will be discontinued in a future PTX ISA version\n",
            "ptxas /tmp/tmpxft_00000fd2_00000000-7_ctc_entrypoint.compute_60.ptx, line 5592; warning : Instruction 'shfl' without '.sync' is deprecated since PTX ISA version 6.0 and will be discontinued in a future PTX ISA version\n",
            "ptxas /tmp/tmpxft_00000fd2_00000000-7_ctc_entrypoint.compute_60.ptx, line 5614; warning : Instruction 'shfl' without '.sync' is deprecated since PTX ISA version 6.0 and will be discontinued in a future PTX ISA version\n",
            "ptxas /tmp/tmpxft_00000fd2_00000000-7_ctc_entrypoint.compute_60.ptx, line 5618; warning : Instruction 'shfl' without '.sync' is deprecated since PTX ISA version 6.0 and will be discontinued in a future PTX ISA version\n",
            "ptxas /tmp/tmpxft_00000fd2_00000000-7_ctc_entrypoint.compute_60.ptx, line 5622; warning : Instruction 'shfl' without '.sync' is deprecated since PTX ISA version 6.0 and will be discontinued in a future PTX ISA version\n",
            "ptxas /tmp/tmpxft_00000fd2_00000000-7_ctc_entrypoint.compute_60.ptx, line 5626; warning : Instruction 'shfl' without '.sync' is deprecated since PTX ISA version 6.0 and will be discontinued in a future PTX ISA version\n",
            "ptxas /tmp/tmpxft_00000fd2_00000000-7_ctc_entrypoint.compute_60.ptx, line 5630; warning : Instruction 'shfl' without '.sync' is deprecated since PTX ISA version 6.0 and will be discontinued in a future PTX ISA version\n",
            "ptxas /tmp/tmpxft_00000fd2_00000000-7_ctc_entrypoint.compute_60.ptx, line 9400; warning : Instruction 'shfl' without '.sync' is deprecated since PTX ISA version 6.0 and will be discontinued in a future PTX ISA version\n",
            "ptxas /tmp/tmpxft_00000fd2_00000000-7_ctc_entrypoint.compute_60.ptx, line 9404; warning : Instruction 'shfl' without '.sync' is deprecated since PTX ISA version 6.0 and will be discontinued in a future PTX ISA version\n",
            "ptxas /tmp/tmpxft_00000fd2_00000000-7_ctc_entrypoint.compute_60.ptx, line 9426; warning : Instruction 'shfl' without '.sync' is deprecated since PTX ISA version 6.0 and will be discontinued in a future PTX ISA version\n",
            "ptxas /tmp/tmpxft_00000fd2_00000000-7_ctc_entrypoint.compute_60.ptx, line 9429; warning : Instruction 'shfl' without '.sync' is deprecated since PTX ISA version 6.0 and will be discontinued in a future PTX ISA version\n",
            "ptxas /tmp/tmpxft_00000fd2_00000000-7_ctc_entrypoint.compute_60.ptx, line 9433; warning : Instruction 'shfl' without '.sync' is deprecated since PTX ISA version 6.0 and will be discontinued in a future PTX ISA version\n",
            "ptxas /tmp/tmpxft_00000fd2_00000000-7_ctc_entrypoint.compute_60.ptx, line 9437; warning : Instruction 'shfl' without '.sync' is deprecated since PTX ISA version 6.0 and will be discontinued in a future PTX ISA version\n",
            "ptxas /tmp/tmpxft_00000fd2_00000000-7_ctc_entrypoint.compute_60.ptx, line 9441; warning : Instruction 'shfl' without '.sync' is deprecated since PTX ISA version 6.0 and will be discontinued in a future PTX ISA version\n",
            "ptxas /tmp/tmpxft_00000fd2_00000000-7_ctc_entrypoint.compute_60.ptx, line 13596; warning : Instruction 'shfl' without '.sync' is deprecated since PTX ISA version 6.0 and will be discontinued in a future PTX ISA version\n",
            "ptxas /tmp/tmpxft_00000fd2_00000000-7_ctc_entrypoint.compute_60.ptx, line 13619; warning : Instruction 'shfl' without '.sync' is deprecated since PTX ISA version 6.0 and will be discontinued in a future PTX ISA version\n",
            "ptxas /tmp/tmpxft_00000fd2_00000000-7_ctc_entrypoint.compute_60.ptx, line 13623; warning : Instruction 'shfl' without '.sync' is deprecated since PTX ISA version 6.0 and will be discontinued in a future PTX ISA version\n",
            "ptxas /tmp/tmpxft_00000fd2_00000000-7_ctc_entrypoint.compute_60.ptx, line 13627; warning : Instruction 'shfl' without '.sync' is deprecated since PTX ISA version 6.0 and will be discontinued in a future PTX ISA version\n",
            "ptxas /tmp/tmpxft_00000fd2_00000000-7_ctc_entrypoint.compute_60.ptx, line 13631; warning : Instruction 'shfl' without '.sync' is deprecated since PTX ISA version 6.0 and will be discontinued in a future PTX ISA version\n",
            "ptxas /tmp/tmpxft_00000fd2_00000000-7_ctc_entrypoint.compute_60.ptx, line 13635; warning : Instruction 'shfl' without '.sync' is deprecated since PTX ISA version 6.0 and will be discontinued in a future PTX ISA version\n",
            "ptxas /tmp/tmpxft_00000fd2_00000000-7_ctc_entrypoint.compute_60.ptx, line 17676; warning : Instruction 'shfl' without '.sync' is deprecated since PTX ISA version 6.0 and will be discontinued in a future PTX ISA version\n",
            "ptxas /tmp/tmpxft_00000fd2_00000000-7_ctc_entrypoint.compute_60.ptx, line 17680; warning : Instruction 'shfl' without '.sync' is deprecated since PTX ISA version 6.0 and will be discontinued in a future PTX ISA version\n",
            "ptxas /tmp/tmpxft_00000fd2_00000000-7_ctc_entrypoint.compute_60.ptx, line 17703; warning : Instruction 'shfl' without '.sync' is deprecated since PTX ISA version 6.0 and will be discontinued in a future PTX ISA version\n",
            "ptxas /tmp/tmpxft_00000fd2_00000000-7_ctc_entrypoint.compute_60.ptx, line 17706; warning : Instruction 'shfl' without '.sync' is deprecated since PTX ISA version 6.0 and will be discontinued in a future PTX ISA version\n",
            "ptxas /tmp/tmpxft_00000fd2_00000000-7_ctc_entrypoint.compute_60.ptx, line 17710; warning : Instruction 'shfl' without '.sync' is deprecated since PTX ISA version 6.0 and will be discontinued in a future PTX ISA version\n",
            "ptxas /tmp/tmpxft_00000fd2_00000000-7_ctc_entrypoint.compute_60.ptx, line 17714; warning : Instruction 'shfl' without '.sync' is deprecated since PTX ISA version 6.0 and will be discontinued in a future PTX ISA version\n",
            "ptxas /tmp/tmpxft_00000fd2_00000000-7_ctc_entrypoint.compute_60.ptx, line 17718; warning : Instruction 'shfl' without '.sync' is deprecated since PTX ISA version 6.0 and will be discontinued in a future PTX ISA version\n",
            "ptxas /tmp/tmpxft_00000fd2_00000000-7_ctc_entrypoint.compute_60.ptx, line 23144; warning : Instruction 'shfl' without '.sync' is deprecated since PTX ISA version 6.0 and will be discontinued in a future PTX ISA version\n",
            "ptxas /tmp/tmpxft_00000fd2_00000000-7_ctc_entrypoint.compute_60.ptx, line 23148; warning : Instruction 'shfl' without '.sync' is deprecated since PTX ISA version 6.0 and will be discontinued in a future PTX ISA version\n",
            "ptxas /tmp/tmpxft_00000fd2_00000000-7_ctc_entrypoint.compute_60.ptx, line 23152; warning : Instruction 'shfl' without '.sync' is deprecated since PTX ISA version 6.0 and will be discontinued in a future PTX ISA version\n",
            "ptxas /tmp/tmpxft_00000fd2_00000000-7_ctc_entrypoint.compute_60.ptx, line 23156; warning : Instruction 'shfl' without '.sync' is deprecated since PTX ISA version 6.0 and will be discontinued in a future PTX ISA version\n",
            "ptxas /tmp/tmpxft_00000fd2_00000000-7_ctc_entrypoint.compute_60.ptx, line 23160; warning : Instruction 'shfl' without '.sync' is deprecated since PTX ISA version 6.0 and will be discontinued in a future PTX ISA version\n",
            "ptxas /tmp/tmpxft_00000fd2_00000000-7_ctc_entrypoint.compute_60.ptx, line 28191; warning : Instruction 'shfl' without '.sync' is deprecated since PTX ISA version 6.0 and will be discontinued in a future PTX ISA version\n",
            "ptxas /tmp/tmpxft_00000fd2_00000000-7_ctc_entrypoint.compute_60.ptx, line 28214; warning : Instruction 'shfl' without '.sync' is deprecated since PTX ISA version 6.0 and will be discontinued in a future PTX ISA version\n",
            "ptxas /tmp/tmpxft_00000fd2_00000000-7_ctc_entrypoint.compute_60.ptx, line 28218; warning : Instruction 'shfl' without '.sync' is deprecated since PTX ISA version 6.0 and will be discontinued in a future PTX ISA version\n",
            "ptxas /tmp/tmpxft_00000fd2_00000000-7_ctc_entrypoint.compute_60.ptx, line 28222; warning : Instruction 'shfl' without '.sync' is deprecated since PTX ISA version 6.0 and will be discontinued in a future PTX ISA version\n",
            "ptxas /tmp/tmpxft_00000fd2_00000000-7_ctc_entrypoint.compute_60.ptx, line 28226; warning : Instruction 'shfl' without '.sync' is deprecated since PTX ISA version 6.0 and will be discontinued in a future PTX ISA version\n",
            "ptxas /tmp/tmpxft_00000fd2_00000000-7_ctc_entrypoint.compute_60.ptx, line 28230; warning : Instruction 'shfl' without '.sync' is deprecated since PTX ISA version 6.0 and will be discontinued in a future PTX ISA version\n",
            "ptxas /tmp/tmpxft_00000fd2_00000000-7_ctc_entrypoint.compute_60.ptx, line 32865; warning : Instruction 'shfl' without '.sync' is deprecated since PTX ISA version 6.0 and will be discontinued in a future PTX ISA version\n",
            "ptxas /tmp/tmpxft_00000fd2_00000000-7_ctc_entrypoint.compute_60.ptx, line 32869; warning : Instruction 'shfl' without '.sync' is deprecated since PTX ISA version 6.0 and will be discontinued in a future PTX ISA version\n",
            "ptxas /tmp/tmpxft_00000fd2_00000000-7_ctc_entrypoint.compute_60.ptx, line 32891; warning : Instruction 'shfl' without '.sync' is deprecated since PTX ISA version 6.0 and will be discontinued in a future PTX ISA version\n",
            "ptxas /tmp/tmpxft_00000fd2_00000000-7_ctc_entrypoint.compute_60.ptx, line 32894; warning : Instruction 'shfl' without '.sync' is deprecated since PTX ISA version 6.0 and will be discontinued in a future PTX ISA version\n",
            "ptxas /tmp/tmpxft_00000fd2_00000000-7_ctc_entrypoint.compute_60.ptx, line 32898; warning : Instruction 'shfl' without '.sync' is deprecated since PTX ISA version 6.0 and will be discontinued in a future PTX ISA version\n",
            "ptxas /tmp/tmpxft_00000fd2_00000000-7_ctc_entrypoint.compute_60.ptx, line 32902; warning : Instruction 'shfl' without '.sync' is deprecated since PTX ISA version 6.0 and will be discontinued in a future PTX ISA version\n",
            "ptxas /tmp/tmpxft_00000fd2_00000000-7_ctc_entrypoint.compute_60.ptx, line 32906; warning : Instruction 'shfl' without '.sync' is deprecated since PTX ISA version 6.0 and will be discontinued in a future PTX ISA version\n",
            "ptxas /tmp/tmpxft_00000fd2_00000000-7_ctc_entrypoint.compute_60.ptx, line 38703; warning : Instruction 'shfl' without '.sync' is deprecated since PTX ISA version 6.0 and will be discontinued in a future PTX ISA version\n",
            "ptxas /tmp/tmpxft_00000fd2_00000000-7_ctc_entrypoint.compute_60.ptx, line 38726; warning : Instruction 'shfl' without '.sync' is deprecated since PTX ISA version 6.0 and will be discontinued in a future PTX ISA version\n",
            "ptxas /tmp/tmpxft_00000fd2_00000000-7_ctc_entrypoint.compute_60.ptx, line 38730; warning : Instruction 'shfl' without '.sync' is deprecated since PTX ISA version 6.0 and will be discontinued in a future PTX ISA version\n",
            "ptxas /tmp/tmpxft_00000fd2_00000000-7_ctc_entrypoint.compute_60.ptx, line 38734; warning : Instruction 'shfl' without '.sync' is deprecated since PTX ISA version 6.0 and will be discontinued in a future PTX ISA version\n",
            "ptxas /tmp/tmpxft_00000fd2_00000000-7_ctc_entrypoint.compute_60.ptx, line 38738; warning : Instruction 'shfl' without '.sync' is deprecated since PTX ISA version 6.0 and will be discontinued in a future PTX ISA version\n",
            "ptxas /tmp/tmpxft_00000fd2_00000000-7_ctc_entrypoint.compute_60.ptx, line 38742; warning : Instruction 'shfl' without '.sync' is deprecated since PTX ISA version 6.0 and will be discontinued in a future PTX ISA version\n",
            "ptxas /tmp/tmpxft_00000fd2_00000000-7_ctc_entrypoint.compute_60.ptx, line 44001; warning : Instruction 'shfl' without '.sync' is deprecated since PTX ISA version 6.0 and will be discontinued in a future PTX ISA version\n",
            "ptxas /tmp/tmpxft_00000fd2_00000000-7_ctc_entrypoint.compute_60.ptx, line 44005; warning : Instruction 'shfl' without '.sync' is deprecated since PTX ISA version 6.0 and will be discontinued in a future PTX ISA version\n",
            "ptxas /tmp/tmpxft_00000fd2_00000000-7_ctc_entrypoint.compute_60.ptx, line 44028; warning : Instruction 'shfl' without '.sync' is deprecated since PTX ISA version 6.0 and will be discontinued in a future PTX ISA version\n",
            "ptxas /tmp/tmpxft_00000fd2_00000000-7_ctc_entrypoint.compute_60.ptx, line 44031; warning : Instruction 'shfl' without '.sync' is deprecated since PTX ISA version 6.0 and will be discontinued in a future PTX ISA version\n",
            "ptxas /tmp/tmpxft_00000fd2_00000000-7_ctc_entrypoint.compute_60.ptx, line 44035; warning : Instruction 'shfl' without '.sync' is deprecated since PTX ISA version 6.0 and will be discontinued in a future PTX ISA version\n",
            "ptxas /tmp/tmpxft_00000fd2_00000000-7_ctc_entrypoint.compute_60.ptx, line 44039; warning : Instruction 'shfl' without '.sync' is deprecated since PTX ISA version 6.0 and will be discontinued in a future PTX ISA version\n",
            "ptxas /tmp/tmpxft_00000fd2_00000000-7_ctc_entrypoint.compute_60.ptx, line 44043; warning : Instruction 'shfl' without '.sync' is deprecated since PTX ISA version 6.0 and will be discontinued in a future PTX ISA version\n",
            "ptxas /tmp/tmpxft_00000fd2_00000000-7_ctc_entrypoint.compute_60.ptx, line 50224; warning : Instruction 'shfl' without '.sync' is deprecated since PTX ISA version 6.0 and will be discontinued in a future PTX ISA version\n",
            "ptxas /tmp/tmpxft_00000fd2_00000000-7_ctc_entrypoint.compute_60.ptx, line 50228; warning : Instruction 'shfl' without '.sync' is deprecated since PTX ISA version 6.0 and will be discontinued in a future PTX ISA version\n",
            "ptxas /tmp/tmpxft_00000fd2_00000000-7_ctc_entrypoint.compute_60.ptx, line 50251; warning : Instruction 'shfl' without '.sync' is deprecated since PTX ISA version 6.0 and will be discontinued in a future PTX ISA version\n",
            "ptxas /tmp/tmpxft_00000fd2_00000000-7_ctc_entrypoint.compute_60.ptx, line 50254; warning : Instruction 'shfl' without '.sync' is deprecated since PTX ISA version 6.0 and will be discontinued in a future PTX ISA version\n",
            "ptxas /tmp/tmpxft_00000fd2_00000000-7_ctc_entrypoint.compute_60.ptx, line 50258; warning : Instruction 'shfl' without '.sync' is deprecated since PTX ISA version 6.0 and will be discontinued in a future PTX ISA version\n",
            "ptxas /tmp/tmpxft_00000fd2_00000000-7_ctc_entrypoint.compute_60.ptx, line 50262; warning : Instruction 'shfl' without '.sync' is deprecated since PTX ISA version 6.0 and will be discontinued in a future PTX ISA version\n",
            "ptxas /tmp/tmpxft_00000fd2_00000000-7_ctc_entrypoint.compute_60.ptx, line 50266; warning : Instruction 'shfl' without '.sync' is deprecated since PTX ISA version 6.0 and will be discontinued in a future PTX ISA version\n",
            "ptxas /tmp/tmpxft_00000fd2_00000000-7_ctc_entrypoint.compute_60.ptx, line 56816; warning : Instruction 'shfl' without '.sync' is deprecated since PTX ISA version 6.0 and will be discontinued in a future PTX ISA version\n",
            "ptxas /tmp/tmpxft_00000fd2_00000000-7_ctc_entrypoint.compute_60.ptx, line 56820; warning : Instruction 'shfl' without '.sync' is deprecated since PTX ISA version 6.0 and will be discontinued in a future PTX ISA version\n",
            "ptxas /tmp/tmpxft_00000fd2_00000000-7_ctc_entrypoint.compute_60.ptx, line 56843; warning : Instruction 'shfl' without '.sync' is deprecated since PTX ISA version 6.0 and will be discontinued in a future PTX ISA version\n",
            "ptxas /tmp/tmpxft_00000fd2_00000000-7_ctc_entrypoint.compute_60.ptx, line 56846; warning : Instruction 'shfl' without '.sync' is deprecated since PTX ISA version 6.0 and will be discontinued in a future PTX ISA version\n",
            "ptxas /tmp/tmpxft_00000fd2_00000000-7_ctc_entrypoint.compute_60.ptx, line 56850; warning : Instruction 'shfl' without '.sync' is deprecated since PTX ISA version 6.0 and will be discontinued in a future PTX ISA version\n",
            "ptxas /tmp/tmpxft_00000fd2_00000000-7_ctc_entrypoint.compute_60.ptx, line 56854; warning : Instruction 'shfl' without '.sync' is deprecated since PTX ISA version 6.0 and will be discontinued in a future PTX ISA version\n",
            "ptxas /tmp/tmpxft_00000fd2_00000000-7_ctc_entrypoint.compute_60.ptx, line 56858; warning : Instruction 'shfl' without '.sync' is deprecated since PTX ISA version 6.0 and will be discontinued in a future PTX ISA version\n",
            "/content/espnet/egs/telugu/asr1/chainer_ctc/ext/warp-ctc/include/contrib/moderngpu/include/device/intrinsics.cuh(115): warning: function \"__shfl_up(float, unsigned int, int)\"\n",
            "/usr/local/cuda/include/sm_30_intrinsics.hpp(199): here was declared deprecated (\"__shfl_up() is deprecated in favor of __shfl_up_sync() and may be removed in a future release (Use -Wno-deprecated-declarations to suppress this warning).\")\n",
            "\n",
            "/content/espnet/egs/telugu/asr1/chainer_ctc/ext/warp-ctc/include/contrib/moderngpu/include/device/intrinsics.cuh(125): warning: function \"__shfl_up(int, unsigned int, int)\"\n",
            "/usr/local/cuda/include/sm_30_intrinsics.hpp(158): here was declared deprecated (\"__shfl_up() is deprecated in favor of __shfl_up_sync() and may be removed in a future release (Use -Wno-deprecated-declarations to suppress this warning).\")\n",
            "\n",
            "/content/espnet/egs/telugu/asr1/chainer_ctc/ext/warp-ctc/include/contrib/moderngpu/include/device/intrinsics.cuh(126): warning: function \"__shfl_up(int, unsigned int, int)\"\n",
            "/usr/local/cuda/include/sm_30_intrinsics.hpp(158): here was declared deprecated (\"__shfl_up() is deprecated in favor of __shfl_up_sync() and may be removed in a future release (Use -Wno-deprecated-declarations to suppress this warning).\")\n",
            "\n",
            "ptxas /tmp/tmpxft_00000fd2_00000000-6_ctc_entrypoint.compute_61.ptx, line 1871; warning : Instruction 'shfl' without '.sync' is deprecated since PTX ISA version 6.0 and will be discontinued in a future PTX ISA version\n",
            "ptxas /tmp/tmpxft_00000fd2_00000000-6_ctc_entrypoint.compute_61.ptx, line 1875; warning : Instruction 'shfl' without '.sync' is deprecated since PTX ISA version 6.0 and will be discontinued in a future PTX ISA version\n",
            "ptxas /tmp/tmpxft_00000fd2_00000000-6_ctc_entrypoint.compute_61.ptx, line 1879; warning : Instruction 'shfl' without '.sync' is deprecated since PTX ISA version 6.0 and will be discontinued in a future PTX ISA version\n",
            "ptxas /tmp/tmpxft_00000fd2_00000000-6_ctc_entrypoint.compute_61.ptx, line 1883; warning : Instruction 'shfl' without '.sync' is deprecated since PTX ISA version 6.0 and will be discontinued in a future PTX ISA version\n",
            "ptxas /tmp/tmpxft_00000fd2_00000000-6_ctc_entrypoint.compute_61.ptx, line 1887; warning : Instruction 'shfl' without '.sync' is deprecated since PTX ISA version 6.0 and will be discontinued in a future PTX ISA version\n",
            "ptxas /tmp/tmpxft_00000fd2_00000000-6_ctc_entrypoint.compute_61.ptx, line 5592; warning : Instruction 'shfl' without '.sync' is deprecated since PTX ISA version 6.0 and will be discontinued in a future PTX ISA version\n",
            "ptxas /tmp/tmpxft_00000fd2_00000000-6_ctc_entrypoint.compute_61.ptx, line 5614; warning : Instruction 'shfl' without '.sync' is deprecated since PTX ISA version 6.0 and will be discontinued in a future PTX ISA version\n",
            "ptxas /tmp/tmpxft_00000fd2_00000000-6_ctc_entrypoint.compute_61.ptx, line 5618; warning : Instruction 'shfl' without '.sync' is deprecated since PTX ISA version 6.0 and will be discontinued in a future PTX ISA version\n",
            "ptxas /tmp/tmpxft_00000fd2_00000000-6_ctc_entrypoint.compute_61.ptx, line 5622; warning : Instruction 'shfl' without '.sync' is deprecated since PTX ISA version 6.0 and will be discontinued in a future PTX ISA version\n",
            "ptxas /tmp/tmpxft_00000fd2_00000000-6_ctc_entrypoint.compute_61.ptx, line 5626; warning : Instruction 'shfl' without '.sync' is deprecated since PTX ISA version 6.0 and will be discontinued in a future PTX ISA version\n",
            "ptxas /tmp/tmpxft_00000fd2_00000000-6_ctc_entrypoint.compute_61.ptx, line 5630; warning : Instruction 'shfl' without '.sync' is deprecated since PTX ISA version 6.0 and will be discontinued in a future PTX ISA version\n",
            "ptxas /tmp/tmpxft_00000fd2_00000000-6_ctc_entrypoint.compute_61.ptx, line 9400; warning : Instruction 'shfl' without '.sync' is deprecated since PTX ISA version 6.0 and will be discontinued in a future PTX ISA version\n",
            "ptxas /tmp/tmpxft_00000fd2_00000000-6_ctc_entrypoint.compute_61.ptx, line 9404; warning : Instruction 'shfl' without '.sync' is deprecated since PTX ISA version 6.0 and will be discontinued in a future PTX ISA version\n",
            "ptxas /tmp/tmpxft_00000fd2_00000000-6_ctc_entrypoint.compute_61.ptx, line 9426; warning : Instruction 'shfl' without '.sync' is deprecated since PTX ISA version 6.0 and will be discontinued in a future PTX ISA version\n",
            "ptxas /tmp/tmpxft_00000fd2_00000000-6_ctc_entrypoint.compute_61.ptx, line 9429; warning : Instruction 'shfl' without '.sync' is deprecated since PTX ISA version 6.0 and will be discontinued in a future PTX ISA version\n",
            "ptxas /tmp/tmpxft_00000fd2_00000000-6_ctc_entrypoint.compute_61.ptx, line 9433; warning : Instruction 'shfl' without '.sync' is deprecated since PTX ISA version 6.0 and will be discontinued in a future PTX ISA version\n",
            "ptxas /tmp/tmpxft_00000fd2_00000000-6_ctc_entrypoint.compute_61.ptx, line 9437; warning : Instruction 'shfl' without '.sync' is deprecated since PTX ISA version 6.0 and will be discontinued in a future PTX ISA version\n",
            "ptxas /tmp/tmpxft_00000fd2_00000000-6_ctc_entrypoint.compute_61.ptx, line 9441; warning : Instruction 'shfl' without '.sync' is deprecated since PTX ISA version 6.0 and will be discontinued in a future PTX ISA version\n",
            "ptxas /tmp/tmpxft_00000fd2_00000000-6_ctc_entrypoint.compute_61.ptx, line 13596; warning : Instruction 'shfl' without '.sync' is deprecated since PTX ISA version 6.0 and will be discontinued in a future PTX ISA version\n",
            "ptxas /tmp/tmpxft_00000fd2_00000000-6_ctc_entrypoint.compute_61.ptx, line 13619; warning : Instruction 'shfl' without '.sync' is deprecated since PTX ISA version 6.0 and will be discontinued in a future PTX ISA version\n",
            "ptxas /tmp/tmpxft_00000fd2_00000000-6_ctc_entrypoint.compute_61.ptx, line 13623; warning : Instruction 'shfl' without '.sync' is deprecated since PTX ISA version 6.0 and will be discontinued in a future PTX ISA version\n",
            "ptxas /tmp/tmpxft_00000fd2_00000000-6_ctc_entrypoint.compute_61.ptx, line 13627; warning : Instruction 'shfl' without '.sync' is deprecated since PTX ISA version 6.0 and will be discontinued in a future PTX ISA version\n",
            "ptxas /tmp/tmpxft_00000fd2_00000000-6_ctc_entrypoint.compute_61.ptx, line 13631; warning : Instruction 'shfl' without '.sync' is deprecated since PTX ISA version 6.0 and will be discontinued in a future PTX ISA version\n",
            "ptxas /tmp/tmpxft_00000fd2_00000000-6_ctc_entrypoint.compute_61.ptx, line 13635; warning : Instruction 'shfl' without '.sync' is deprecated since PTX ISA version 6.0 and will be discontinued in a future PTX ISA version\n",
            "ptxas /tmp/tmpxft_00000fd2_00000000-6_ctc_entrypoint.compute_61.ptx, line 17676; warning : Instruction 'shfl' without '.sync' is deprecated since PTX ISA version 6.0 and will be discontinued in a future PTX ISA version\n",
            "ptxas /tmp/tmpxft_00000fd2_00000000-6_ctc_entrypoint.compute_61.ptx, line 17680; warning : Instruction 'shfl' without '.sync' is deprecated since PTX ISA version 6.0 and will be discontinued in a future PTX ISA version\n",
            "ptxas /tmp/tmpxft_00000fd2_00000000-6_ctc_entrypoint.compute_61.ptx, line 17703; warning : Instruction 'shfl' without '.sync' is deprecated since PTX ISA version 6.0 and will be discontinued in a future PTX ISA version\n",
            "ptxas /tmp/tmpxft_00000fd2_00000000-6_ctc_entrypoint.compute_61.ptx, line 17706; warning : Instruction 'shfl' without '.sync' is deprecated since PTX ISA version 6.0 and will be discontinued in a future PTX ISA version\n",
            "ptxas /tmp/tmpxft_00000fd2_00000000-6_ctc_entrypoint.compute_61.ptx, line 17710; warning : Instruction 'shfl' without '.sync' is deprecated since PTX ISA version 6.0 and will be discontinued in a future PTX ISA version\n",
            "ptxas /tmp/tmpxft_00000fd2_00000000-6_ctc_entrypoint.compute_61.ptx, line 17714; warning : Instruction 'shfl' without '.sync' is deprecated since PTX ISA version 6.0 and will be discontinued in a future PTX ISA version\n",
            "ptxas /tmp/tmpxft_00000fd2_00000000-6_ctc_entrypoint.compute_61.ptx, line 17718; warning : Instruction 'shfl' without '.sync' is deprecated since PTX ISA version 6.0 and will be discontinued in a future PTX ISA version\n",
            "ptxas /tmp/tmpxft_00000fd2_00000000-6_ctc_entrypoint.compute_61.ptx, line 23144; warning : Instruction 'shfl' without '.sync' is deprecated since PTX ISA version 6.0 and will be discontinued in a future PTX ISA version\n",
            "ptxas /tmp/tmpxft_00000fd2_00000000-6_ctc_entrypoint.compute_61.ptx, line 23148; warning : Instruction 'shfl' without '.sync' is deprecated since PTX ISA version 6.0 and will be discontinued in a future PTX ISA version\n",
            "ptxas /tmp/tmpxft_00000fd2_00000000-6_ctc_entrypoint.compute_61.ptx, line 23152; warning : Instruction 'shfl' without '.sync' is deprecated since PTX ISA version 6.0 and will be discontinued in a future PTX ISA version\n",
            "ptxas /tmp/tmpxft_00000fd2_00000000-6_ctc_entrypoint.compute_61.ptx, line 23156; warning : Instruction 'shfl' without '.sync' is deprecated since PTX ISA version 6.0 and will be discontinued in a future PTX ISA version\n",
            "ptxas /tmp/tmpxft_00000fd2_00000000-6_ctc_entrypoint.compute_61.ptx, line 23160; warning : Instruction 'shfl' without '.sync' is deprecated since PTX ISA version 6.0 and will be discontinued in a future PTX ISA version\n",
            "ptxas /tmp/tmpxft_00000fd2_00000000-6_ctc_entrypoint.compute_61.ptx, line 28191; warning : Instruction 'shfl' without '.sync' is deprecated since PTX ISA version 6.0 and will be discontinued in a future PTX ISA version\n",
            "ptxas /tmp/tmpxft_00000fd2_00000000-6_ctc_entrypoint.compute_61.ptx, line 28214; warning : Instruction 'shfl' without '.sync' is deprecated since PTX ISA version 6.0 and will be discontinued in a future PTX ISA version\n",
            "ptxas /tmp/tmpxft_00000fd2_00000000-6_ctc_entrypoint.compute_61.ptx, line 28218; warning : Instruction 'shfl' without '.sync' is deprecated since PTX ISA version 6.0 and will be discontinued in a future PTX ISA version\n",
            "ptxas /tmp/tmpxft_00000fd2_00000000-6_ctc_entrypoint.compute_61.ptx, line 28222; warning : Instruction 'shfl' without '.sync' is deprecated since PTX ISA version 6.0 and will be discontinued in a future PTX ISA version\n",
            "ptxas /tmp/tmpxft_00000fd2_00000000-6_ctc_entrypoint.compute_61.ptx, line 28226; warning : Instruction 'shfl' without '.sync' is deprecated since PTX ISA version 6.0 and will be discontinued in a future PTX ISA version\n",
            "ptxas /tmp/tmpxft_00000fd2_00000000-6_ctc_entrypoint.compute_61.ptx, line 28230; warning : Instruction 'shfl' without '.sync' is deprecated since PTX ISA version 6.0 and will be discontinued in a future PTX ISA version\n",
            "ptxas /tmp/tmpxft_00000fd2_00000000-6_ctc_entrypoint.compute_61.ptx, line 32865; warning : Instruction 'shfl' without '.sync' is deprecated since PTX ISA version 6.0 and will be discontinued in a future PTX ISA version\n",
            "ptxas /tmp/tmpxft_00000fd2_00000000-6_ctc_entrypoint.compute_61.ptx, line 32869; warning : Instruction 'shfl' without '.sync' is deprecated since PTX ISA version 6.0 and will be discontinued in a future PTX ISA version\n",
            "ptxas /tmp/tmpxft_00000fd2_00000000-6_ctc_entrypoint.compute_61.ptx, line 32891; warning : Instruction 'shfl' without '.sync' is deprecated since PTX ISA version 6.0 and will be discontinued in a future PTX ISA version\n",
            "ptxas /tmp/tmpxft_00000fd2_00000000-6_ctc_entrypoint.compute_61.ptx, line 32894; warning : Instruction 'shfl' without '.sync' is deprecated since PTX ISA version 6.0 and will be discontinued in a future PTX ISA version\n",
            "ptxas /tmp/tmpxft_00000fd2_00000000-6_ctc_entrypoint.compute_61.ptx, line 32898; warning : Instruction 'shfl' without '.sync' is deprecated since PTX ISA version 6.0 and will be discontinued in a future PTX ISA version\n",
            "ptxas /tmp/tmpxft_00000fd2_00000000-6_ctc_entrypoint.compute_61.ptx, line 32902; warning : Instruction 'shfl' without '.sync' is deprecated since PTX ISA version 6.0 and will be discontinued in a future PTX ISA version\n",
            "ptxas /tmp/tmpxft_00000fd2_00000000-6_ctc_entrypoint.compute_61.ptx, line 32906; warning : Instruction 'shfl' without '.sync' is deprecated since PTX ISA version 6.0 and will be discontinued in a future PTX ISA version\n",
            "ptxas /tmp/tmpxft_00000fd2_00000000-6_ctc_entrypoint.compute_61.ptx, line 38703; warning : Instruction 'shfl' without '.sync' is deprecated since PTX ISA version 6.0 and will be discontinued in a future PTX ISA version\n",
            "ptxas /tmp/tmpxft_00000fd2_00000000-6_ctc_entrypoint.compute_61.ptx, line 38726; warning : Instruction 'shfl' without '.sync' is deprecated since PTX ISA version 6.0 and will be discontinued in a future PTX ISA version\n",
            "ptxas /tmp/tmpxft_00000fd2_00000000-6_ctc_entrypoint.compute_61.ptx, line 38730; warning : Instruction 'shfl' without '.sync' is deprecated since PTX ISA version 6.0 and will be discontinued in a future PTX ISA version\n",
            "ptxas /tmp/tmpxft_00000fd2_00000000-6_ctc_entrypoint.compute_61.ptx, line 38734; warning : Instruction 'shfl' without '.sync' is deprecated since PTX ISA version 6.0 and will be discontinued in a future PTX ISA version\n",
            "ptxas /tmp/tmpxft_00000fd2_00000000-6_ctc_entrypoint.compute_61.ptx, line 38738; warning : Instruction 'shfl' without '.sync' is deprecated since PTX ISA version 6.0 and will be discontinued in a future PTX ISA version\n",
            "ptxas /tmp/tmpxft_00000fd2_00000000-6_ctc_entrypoint.compute_61.ptx, line 38742; warning : Instruction 'shfl' without '.sync' is deprecated since PTX ISA version 6.0 and will be discontinued in a future PTX ISA version\n",
            "ptxas /tmp/tmpxft_00000fd2_00000000-6_ctc_entrypoint.compute_61.ptx, line 44001; warning : Instruction 'shfl' without '.sync' is deprecated since PTX ISA version 6.0 and will be discontinued in a future PTX ISA version\n",
            "ptxas /tmp/tmpxft_00000fd2_00000000-6_ctc_entrypoint.compute_61.ptx, line 44005; warning : Instruction 'shfl' without '.sync' is deprecated since PTX ISA version 6.0 and will be discontinued in a future PTX ISA version\n",
            "ptxas /tmp/tmpxft_00000fd2_00000000-6_ctc_entrypoint.compute_61.ptx, line 44028; warning : Instruction 'shfl' without '.sync' is deprecated since PTX ISA version 6.0 and will be discontinued in a future PTX ISA version\n",
            "ptxas /tmp/tmpxft_00000fd2_00000000-6_ctc_entrypoint.compute_61.ptx, line 44031; warning : Instruction 'shfl' without '.sync' is deprecated since PTX ISA version 6.0 and will be discontinued in a future PTX ISA version\n",
            "ptxas /tmp/tmpxft_00000fd2_00000000-6_ctc_entrypoint.compute_61.ptx, line 44035; warning : Instruction 'shfl' without '.sync' is deprecated since PTX ISA version 6.0 and will be discontinued in a future PTX ISA version\n",
            "ptxas /tmp/tmpxft_00000fd2_00000000-6_ctc_entrypoint.compute_61.ptx, line 44039; warning : Instruction 'shfl' without '.sync' is deprecated since PTX ISA version 6.0 and will be discontinued in a future PTX ISA version\n",
            "ptxas /tmp/tmpxft_00000fd2_00000000-6_ctc_entrypoint.compute_61.ptx, line 44043; warning : Instruction 'shfl' without '.sync' is deprecated since PTX ISA version 6.0 and will be discontinued in a future PTX ISA version\n",
            "ptxas /tmp/tmpxft_00000fd2_00000000-6_ctc_entrypoint.compute_61.ptx, line 50224; warning : Instruction 'shfl' without '.sync' is deprecated since PTX ISA version 6.0 and will be discontinued in a future PTX ISA version\n",
            "ptxas /tmp/tmpxft_00000fd2_00000000-6_ctc_entrypoint.compute_61.ptx, line 50228; warning : Instruction 'shfl' without '.sync' is deprecated since PTX ISA version 6.0 and will be discontinued in a future PTX ISA version\n",
            "ptxas /tmp/tmpxft_00000fd2_00000000-6_ctc_entrypoint.compute_61.ptx, line 50251; warning : Instruction 'shfl' without '.sync' is deprecated since PTX ISA version 6.0 and will be discontinued in a future PTX ISA version\n",
            "ptxas /tmp/tmpxft_00000fd2_00000000-6_ctc_entrypoint.compute_61.ptx, line 50254; warning : Instruction 'shfl' without '.sync' is deprecated since PTX ISA version 6.0 and will be discontinued in a future PTX ISA version\n",
            "ptxas /tmp/tmpxft_00000fd2_00000000-6_ctc_entrypoint.compute_61.ptx, line 50258; warning : Instruction 'shfl' without '.sync' is deprecated since PTX ISA version 6.0 and will be discontinued in a future PTX ISA version\n",
            "ptxas /tmp/tmpxft_00000fd2_00000000-6_ctc_entrypoint.compute_61.ptx, line 50262; warning : Instruction 'shfl' without '.sync' is deprecated since PTX ISA version 6.0 and will be discontinued in a future PTX ISA version\n",
            "ptxas /tmp/tmpxft_00000fd2_00000000-6_ctc_entrypoint.compute_61.ptx, line 50266; warning : Instruction 'shfl' without '.sync' is deprecated since PTX ISA version 6.0 and will be discontinued in a future PTX ISA version\n",
            "ptxas /tmp/tmpxft_00000fd2_00000000-6_ctc_entrypoint.compute_61.ptx, line 56816; warning : Instruction 'shfl' without '.sync' is deprecated since PTX ISA version 6.0 and will be discontinued in a future PTX ISA version\n",
            "ptxas /tmp/tmpxft_00000fd2_00000000-6_ctc_entrypoint.compute_61.ptx, line 56820; warning : Instruction 'shfl' without '.sync' is deprecated since PTX ISA version 6.0 and will be discontinued in a future PTX ISA version\n",
            "ptxas /tmp/tmpxft_00000fd2_00000000-6_ctc_entrypoint.compute_61.ptx, line 56843; warning : Instruction 'shfl' without '.sync' is deprecated since PTX ISA version 6.0 and will be discontinued in a future PTX ISA version\n",
            "ptxas /tmp/tmpxft_00000fd2_00000000-6_ctc_entrypoint.compute_61.ptx, line 56846; warning : Instruction 'shfl' without '.sync' is deprecated since PTX ISA version 6.0 and will be discontinued in a future PTX ISA version\n",
            "ptxas /tmp/tmpxft_00000fd2_00000000-6_ctc_entrypoint.compute_61.ptx, line 56850; warning : Instruction 'shfl' without '.sync' is deprecated since PTX ISA version 6.0 and will be discontinued in a future PTX ISA version\n",
            "ptxas /tmp/tmpxft_00000fd2_00000000-6_ctc_entrypoint.compute_61.ptx, line 56854; warning : Instruction 'shfl' without '.sync' is deprecated since PTX ISA version 6.0 and will be discontinued in a future PTX ISA version\n",
            "ptxas /tmp/tmpxft_00000fd2_00000000-6_ctc_entrypoint.compute_61.ptx, line 56858; warning : Instruction 'shfl' without '.sync' is deprecated since PTX ISA version 6.0 and will be discontinued in a future PTX ISA version\n",
            "ptxas /tmp/tmpxft_00000fd2_00000000-5_ctc_entrypoint.compute_62.ptx, line 1871; warning : Instruction 'shfl' without '.sync' is deprecated since PTX ISA version 6.0 and will be discontinued in a future PTX ISA version\n",
            "ptxas /tmp/tmpxft_00000fd2_00000000-5_ctc_entrypoint.compute_62.ptx, line 1875; warning : Instruction 'shfl' without '.sync' is deprecated since PTX ISA version 6.0 and will be discontinued in a future PTX ISA version\n",
            "ptxas /tmp/tmpxft_00000fd2_00000000-5_ctc_entrypoint.compute_62.ptx, line 1879; warning : Instruction 'shfl' without '.sync' is deprecated since PTX ISA version 6.0 and will be discontinued in a future PTX ISA version\n",
            "ptxas /tmp/tmpxft_00000fd2_00000000-5_ctc_entrypoint.compute_62.ptx, line 1883; warning : Instruction 'shfl' without '.sync' is deprecated since PTX ISA version 6.0 and will be discontinued in a future PTX ISA version\n",
            "ptxas /tmp/tmpxft_00000fd2_00000000-5_ctc_entrypoint.compute_62.ptx, line 1887; warning : Instruction 'shfl' without '.sync' is deprecated since PTX ISA version 6.0 and will be discontinued in a future PTX ISA version\n",
            "ptxas /tmp/tmpxft_00000fd2_00000000-5_ctc_entrypoint.compute_62.ptx, line 5592; warning : Instruction 'shfl' without '.sync' is deprecated since PTX ISA version 6.0 and will be discontinued in a future PTX ISA version\n",
            "ptxas /tmp/tmpxft_00000fd2_00000000-5_ctc_entrypoint.compute_62.ptx, line 5614; warning : Instruction 'shfl' without '.sync' is deprecated since PTX ISA version 6.0 and will be discontinued in a future PTX ISA version\n",
            "ptxas /tmp/tmpxft_00000fd2_00000000-5_ctc_entrypoint.compute_62.ptx, line 5618; warning : Instruction 'shfl' without '.sync' is deprecated since PTX ISA version 6.0 and will be discontinued in a future PTX ISA version\n",
            "ptxas /tmp/tmpxft_00000fd2_00000000-5_ctc_entrypoint.compute_62.ptx, line 5622; warning : Instruction 'shfl' without '.sync' is deprecated since PTX ISA version 6.0 and will be discontinued in a future PTX ISA version\n",
            "ptxas /tmp/tmpxft_00000fd2_00000000-5_ctc_entrypoint.compute_62.ptx, line 5626; warning : Instruction 'shfl' without '.sync' is deprecated since PTX ISA version 6.0 and will be discontinued in a future PTX ISA version\n",
            "ptxas /tmp/tmpxft_00000fd2_00000000-5_ctc_entrypoint.compute_62.ptx, line 5630; warning : Instruction 'shfl' without '.sync' is deprecated since PTX ISA version 6.0 and will be discontinued in a future PTX ISA version\n",
            "ptxas /tmp/tmpxft_00000fd2_00000000-5_ctc_entrypoint.compute_62.ptx, line 9400; warning : Instruction 'shfl' without '.sync' is deprecated since PTX ISA version 6.0 and will be discontinued in a future PTX ISA version\n",
            "ptxas /tmp/tmpxft_00000fd2_00000000-5_ctc_entrypoint.compute_62.ptx, line 9404; warning : Instruction 'shfl' without '.sync' is deprecated since PTX ISA version 6.0 and will be discontinued in a future PTX ISA version\n",
            "ptxas /tmp/tmpxft_00000fd2_00000000-5_ctc_entrypoint.compute_62.ptx, line 9426; warning : Instruction 'shfl' without '.sync' is deprecated since PTX ISA version 6.0 and will be discontinued in a future PTX ISA version\n",
            "ptxas /tmp/tmpxft_00000fd2_00000000-5_ctc_entrypoint.compute_62.ptx, line 9429; warning : Instruction 'shfl' without '.sync' is deprecated since PTX ISA version 6.0 and will be discontinued in a future PTX ISA version\n",
            "ptxas /tmp/tmpxft_00000fd2_00000000-5_ctc_entrypoint.compute_62.ptx, line 9433; warning : Instruction 'shfl' without '.sync' is deprecated since PTX ISA version 6.0 and will be discontinued in a future PTX ISA version\n",
            "ptxas /tmp/tmpxft_00000fd2_00000000-5_ctc_entrypoint.compute_62.ptx, line 9437; warning : Instruction 'shfl' without '.sync' is deprecated since PTX ISA version 6.0 and will be discontinued in a future PTX ISA version\n",
            "ptxas /tmp/tmpxft_00000fd2_00000000-5_ctc_entrypoint.compute_62.ptx, line 9441; warning : Instruction 'shfl' without '.sync' is deprecated since PTX ISA version 6.0 and will be discontinued in a future PTX ISA version\n",
            "ptxas /tmp/tmpxft_00000fd2_00000000-5_ctc_entrypoint.compute_62.ptx, line 13596; warning : Instruction 'shfl' without '.sync' is deprecated since PTX ISA version 6.0 and will be discontinued in a future PTX ISA version\n",
            "ptxas /tmp/tmpxft_00000fd2_00000000-5_ctc_entrypoint.compute_62.ptx, line 13619; warning : Instruction 'shfl' without '.sync' is deprecated since PTX ISA version 6.0 and will be discontinued in a future PTX ISA version\n",
            "ptxas /tmp/tmpxft_00000fd2_00000000-5_ctc_entrypoint.compute_62.ptx, line 13623; warning : Instruction 'shfl' without '.sync' is deprecated since PTX ISA version 6.0 and will be discontinued in a future PTX ISA version\n",
            "ptxas /tmp/tmpxft_00000fd2_00000000-5_ctc_entrypoint.compute_62.ptx, line 13627; warning : Instruction 'shfl' without '.sync' is deprecated since PTX ISA version 6.0 and will be discontinued in a future PTX ISA version\n",
            "ptxas /tmp/tmpxft_00000fd2_00000000-5_ctc_entrypoint.compute_62.ptx, line 13631; warning : Instruction 'shfl' without '.sync' is deprecated since PTX ISA version 6.0 and will be discontinued in a future PTX ISA version\n",
            "ptxas /tmp/tmpxft_00000fd2_00000000-5_ctc_entrypoint.compute_62.ptx, line 13635; warning : Instruction 'shfl' without '.sync' is deprecated since PTX ISA version 6.0 and will be discontinued in a future PTX ISA version\n",
            "ptxas /tmp/tmpxft_00000fd2_00000000-5_ctc_entrypoint.compute_62.ptx, line 17676; warning : Instruction 'shfl' without '.sync' is deprecated since PTX ISA version 6.0 and will be discontinued in a future PTX ISA version\n",
            "ptxas /tmp/tmpxft_00000fd2_00000000-5_ctc_entrypoint.compute_62.ptx, line 17680; warning : Instruction 'shfl' without '.sync' is deprecated since PTX ISA version 6.0 and will be discontinued in a future PTX ISA version\n",
            "ptxas /tmp/tmpxft_00000fd2_00000000-5_ctc_entrypoint.compute_62.ptx, line 17703; warning : Instruction 'shfl' without '.sync' is deprecated since PTX ISA version 6.0 and will be discontinued in a future PTX ISA version\n",
            "ptxas /tmp/tmpxft_00000fd2_00000000-5_ctc_entrypoint.compute_62.ptx, line 17706; warning : Instruction 'shfl' without '.sync' is deprecated since PTX ISA version 6.0 and will be discontinued in a future PTX ISA version\n",
            "ptxas /tmp/tmpxft_00000fd2_00000000-5_ctc_entrypoint.compute_62.ptx, line 17710; warning : Instruction 'shfl' without '.sync' is deprecated since PTX ISA version 6.0 and will be discontinued in a future PTX ISA version\n",
            "ptxas /tmp/tmpxft_00000fd2_00000000-5_ctc_entrypoint.compute_62.ptx, line 17714; warning : Instruction 'shfl' without '.sync' is deprecated since PTX ISA version 6.0 and will be discontinued in a future PTX ISA version\n",
            "ptxas /tmp/tmpxft_00000fd2_00000000-5_ctc_entrypoint.compute_62.ptx, line 17718; warning : Instruction 'shfl' without '.sync' is deprecated since PTX ISA version 6.0 and will be discontinued in a future PTX ISA version\n",
            "ptxas /tmp/tmpxft_00000fd2_00000000-5_ctc_entrypoint.compute_62.ptx, line 23144; warning : Instruction 'shfl' without '.sync' is deprecated since PTX ISA version 6.0 and will be discontinued in a future PTX ISA version\n",
            "ptxas /tmp/tmpxft_00000fd2_00000000-5_ctc_entrypoint.compute_62.ptx, line 23148; warning : Instruction 'shfl' without '.sync' is deprecated since PTX ISA version 6.0 and will be discontinued in a future PTX ISA version\n",
            "ptxas /tmp/tmpxft_00000fd2_00000000-5_ctc_entrypoint.compute_62.ptx, line 23152; warning : Instruction 'shfl' without '.sync' is deprecated since PTX ISA version 6.0 and will be discontinued in a future PTX ISA version\n",
            "ptxas /tmp/tmpxft_00000fd2_00000000-5_ctc_entrypoint.compute_62.ptx, line 23156; warning : Instruction 'shfl' without '.sync' is deprecated since PTX ISA version 6.0 and will be discontinued in a future PTX ISA version\n",
            "ptxas /tmp/tmpxft_00000fd2_00000000-5_ctc_entrypoint.compute_62.ptx, line 23160; warning : Instruction 'shfl' without '.sync' is deprecated since PTX ISA version 6.0 and will be discontinued in a future PTX ISA version\n",
            "ptxas /tmp/tmpxft_00000fd2_00000000-5_ctc_entrypoint.compute_62.ptx, line 28191; warning : Instruction 'shfl' without '.sync' is deprecated since PTX ISA version 6.0 and will be discontinued in a future PTX ISA version\n",
            "ptxas /tmp/tmpxft_00000fd2_00000000-5_ctc_entrypoint.compute_62.ptx, line 28214; warning : Instruction 'shfl' without '.sync' is deprecated since PTX ISA version 6.0 and will be discontinued in a future PTX ISA version\n",
            "ptxas /tmp/tmpxft_00000fd2_00000000-5_ctc_entrypoint.compute_62.ptx, line 28218; warning : Instruction 'shfl' without '.sync' is deprecated since PTX ISA version 6.0 and will be discontinued in a future PTX ISA version\n",
            "ptxas /tmp/tmpxft_00000fd2_00000000-5_ctc_entrypoint.compute_62.ptx, line 28222; warning : Instruction 'shfl' without '.sync' is deprecated since PTX ISA version 6.0 and will be discontinued in a future PTX ISA version\n",
            "ptxas /tmp/tmpxft_00000fd2_00000000-5_ctc_entrypoint.compute_62.ptx, line 28226; warning : Instruction 'shfl' without '.sync' is deprecated since PTX ISA version 6.0 and will be discontinued in a future PTX ISA version\n",
            "ptxas /tmp/tmpxft_00000fd2_00000000-5_ctc_entrypoint.compute_62.ptx, line 28230; warning : Instruction 'shfl' without '.sync' is deprecated since PTX ISA version 6.0 and will be discontinued in a future PTX ISA version\n",
            "ptxas /tmp/tmpxft_00000fd2_00000000-5_ctc_entrypoint.compute_62.ptx, line 32865; warning : Instruction 'shfl' without '.sync' is deprecated since PTX ISA version 6.0 and will be discontinued in a future PTX ISA version\n",
            "ptxas /tmp/tmpxft_00000fd2_00000000-5_ctc_entrypoint.compute_62.ptx, line 32869; warning : Instruction 'shfl' without '.sync' is deprecated since PTX ISA version 6.0 and will be discontinued in a future PTX ISA version\n",
            "ptxas /tmp/tmpxft_00000fd2_00000000-5_ctc_entrypoint.compute_62.ptx, line 32891; warning : Instruction 'shfl' without '.sync' is deprecated since PTX ISA version 6.0 and will be discontinued in a future PTX ISA version\n",
            "ptxas /tmp/tmpxft_00000fd2_00000000-5_ctc_entrypoint.compute_62.ptx, line 32894; warning : Instruction 'shfl' without '.sync' is deprecated since PTX ISA version 6.0 and will be discontinued in a future PTX ISA version\n",
            "ptxas /tmp/tmpxft_00000fd2_00000000-5_ctc_entrypoint.compute_62.ptx, line 32898; warning : Instruction 'shfl' without '.sync' is deprecated since PTX ISA version 6.0 and will be discontinued in a future PTX ISA version\n",
            "ptxas /tmp/tmpxft_00000fd2_00000000-5_ctc_entrypoint.compute_62.ptx, line 32902; warning : Instruction 'shfl' without '.sync' is deprecated since PTX ISA version 6.0 and will be discontinued in a future PTX ISA version\n",
            "ptxas /tmp/tmpxft_00000fd2_00000000-5_ctc_entrypoint.compute_62.ptx, line 32906; warning : Instruction 'shfl' without '.sync' is deprecated since PTX ISA version 6.0 and will be discontinued in a future PTX ISA version\n",
            "ptxas /tmp/tmpxft_00000fd2_00000000-5_ctc_entrypoint.compute_62.ptx, line 38703; warning : Instruction 'shfl' without '.sync' is deprecated since PTX ISA version 6.0 and will be discontinued in a future PTX ISA version\n",
            "ptxas /tmp/tmpxft_00000fd2_00000000-5_ctc_entrypoint.compute_62.ptx, line 38726; warning : Instruction 'shfl' without '.sync' is deprecated since PTX ISA version 6.0 and will be discontinued in a future PTX ISA version\n",
            "ptxas /tmp/tmpxft_00000fd2_00000000-5_ctc_entrypoint.compute_62.ptx, line 38730; warning : Instruction 'shfl' without '.sync' is deprecated since PTX ISA version 6.0 and will be discontinued in a future PTX ISA version\n",
            "ptxas /tmp/tmpxft_00000fd2_00000000-5_ctc_entrypoint.compute_62.ptx, line 38734; warning : Instruction 'shfl' without '.sync' is deprecated since PTX ISA version 6.0 and will be discontinued in a future PTX ISA version\n",
            "ptxas /tmp/tmpxft_00000fd2_00000000-5_ctc_entrypoint.compute_62.ptx, line 38738; warning : Instruction 'shfl' without '.sync' is deprecated since PTX ISA version 6.0 and will be discontinued in a future PTX ISA version\n",
            "ptxas /tmp/tmpxft_00000fd2_00000000-5_ctc_entrypoint.compute_62.ptx, line 38742; warning : Instruction 'shfl' without '.sync' is deprecated since PTX ISA version 6.0 and will be discontinued in a future PTX ISA version\n",
            "ptxas /tmp/tmpxft_00000fd2_00000000-5_ctc_entrypoint.compute_62.ptx, line 44001; warning : Instruction 'shfl' without '.sync' is deprecated since PTX ISA version 6.0 and will be discontinued in a future PTX ISA version\n",
            "ptxas /tmp/tmpxft_00000fd2_00000000-5_ctc_entrypoint.compute_62.ptx, line 44005; warning : Instruction 'shfl' without '.sync' is deprecated since PTX ISA version 6.0 and will be discontinued in a future PTX ISA version\n",
            "ptxas /tmp/tmpxft_00000fd2_00000000-5_ctc_entrypoint.compute_62.ptx, line 44028; warning : Instruction 'shfl' without '.sync' is deprecated since PTX ISA version 6.0 and will be discontinued in a future PTX ISA version\n",
            "ptxas /tmp/tmpxft_00000fd2_00000000-5_ctc_entrypoint.compute_62.ptx, line 44031; warning : Instruction 'shfl' without '.sync' is deprecated since PTX ISA version 6.0 and will be discontinued in a future PTX ISA version\n",
            "ptxas /tmp/tmpxft_00000fd2_00000000-5_ctc_entrypoint.compute_62.ptx, line 44035; warning : Instruction 'shfl' without '.sync' is deprecated since PTX ISA version 6.0 and will be discontinued in a future PTX ISA version\n",
            "ptxas /tmp/tmpxft_00000fd2_00000000-5_ctc_entrypoint.compute_62.ptx, line 44039; warning : Instruction 'shfl' without '.sync' is deprecated since PTX ISA version 6.0 and will be discontinued in a future PTX ISA version\n",
            "ptxas /tmp/tmpxft_00000fd2_00000000-5_ctc_entrypoint.compute_62.ptx, line 44043; warning : Instruction 'shfl' without '.sync' is deprecated since PTX ISA version 6.0 and will be discontinued in a future PTX ISA version\n",
            "ptxas /tmp/tmpxft_00000fd2_00000000-5_ctc_entrypoint.compute_62.ptx, line 50224; warning : Instruction 'shfl' without '.sync' is deprecated since PTX ISA version 6.0 and will be discontinued in a future PTX ISA version\n",
            "ptxas /tmp/tmpxft_00000fd2_00000000-5_ctc_entrypoint.compute_62.ptx, line 50228; warning : Instruction 'shfl' without '.sync' is deprecated since PTX ISA version 6.0 and will be discontinued in a future PTX ISA version\n",
            "ptxas /tmp/tmpxft_00000fd2_00000000-5_ctc_entrypoint.compute_62.ptx, line 50251; warning : Instruction 'shfl' without '.sync' is deprecated since PTX ISA version 6.0 and will be discontinued in a future PTX ISA version\n",
            "ptxas /tmp/tmpxft_00000fd2_00000000-5_ctc_entrypoint.compute_62.ptx, line 50254; warning : Instruction 'shfl' without '.sync' is deprecated since PTX ISA version 6.0 and will be discontinued in a future PTX ISA version\n",
            "ptxas /tmp/tmpxft_00000fd2_00000000-5_ctc_entrypoint.compute_62.ptx, line 50258; warning : Instruction 'shfl' without '.sync' is deprecated since PTX ISA version 6.0 and will be discontinued in a future PTX ISA version\n",
            "ptxas /tmp/tmpxft_00000fd2_00000000-5_ctc_entrypoint.compute_62.ptx, line 50262; warning : Instruction 'shfl' without '.sync' is deprecated since PTX ISA version 6.0 and will be discontinued in a future PTX ISA version\n",
            "ptxas /tmp/tmpxft_00000fd2_00000000-5_ctc_entrypoint.compute_62.ptx, line 50266; warning : Instruction 'shfl' without '.sync' is deprecated since PTX ISA version 6.0 and will be discontinued in a future PTX ISA version\n",
            "ptxas /tmp/tmpxft_00000fd2_00000000-5_ctc_entrypoint.compute_62.ptx, line 56816; warning : Instruction 'shfl' without '.sync' is deprecated since PTX ISA version 6.0 and will be discontinued in a future PTX ISA version\n",
            "ptxas /tmp/tmpxft_00000fd2_00000000-5_ctc_entrypoint.compute_62.ptx, line 56820; warning : Instruction 'shfl' without '.sync' is deprecated since PTX ISA version 6.0 and will be discontinued in a future PTX ISA version\n",
            "ptxas /tmp/tmpxft_00000fd2_00000000-5_ctc_entrypoint.compute_62.ptx, line 56843; warning : Instruction 'shfl' without '.sync' is deprecated since PTX ISA version 6.0 and will be discontinued in a future PTX ISA version\n",
            "ptxas /tmp/tmpxft_00000fd2_00000000-5_ctc_entrypoint.compute_62.ptx, line 56846; warning : Instruction 'shfl' without '.sync' is deprecated since PTX ISA version 6.0 and will be discontinued in a future PTX ISA version\n",
            "ptxas /tmp/tmpxft_00000fd2_00000000-5_ctc_entrypoint.compute_62.ptx, line 56850; warning : Instruction 'shfl' without '.sync' is deprecated since PTX ISA version 6.0 and will be discontinued in a future PTX ISA version\n",
            "ptxas /tmp/tmpxft_00000fd2_00000000-5_ctc_entrypoint.compute_62.ptx, line 56854; warning : Instruction 'shfl' without '.sync' is deprecated since PTX ISA version 6.0 and will be discontinued in a future PTX ISA version\n",
            "ptxas /tmp/tmpxft_00000fd2_00000000-5_ctc_entrypoint.compute_62.ptx, line 56858; warning : Instruction 'shfl' without '.sync' is deprecated since PTX ISA version 6.0 and will be discontinued in a future PTX ISA version\n",
            "\u001b[35m\u001b[1mScanning dependencies of target warpctc\u001b[0m\n",
            "[ 33%] \u001b[32m\u001b[1mLinking CXX shared library libwarpctc.so\u001b[0m\n",
            "[ 33%] Built target warpctc\n",
            "[ 44%] \u001b[34m\u001b[1mBuilding NVCC (Device) object CMakeFiles/test_gpu.dir/tests/test_gpu_generated_test_gpu.cu.o\u001b[0m\n",
            "\u001b[35m\u001b[1mScanning dependencies of target test_gpu\u001b[0m\n",
            "[ 55%] \u001b[32mBuilding CXX object CMakeFiles/test_gpu.dir/tests/random.cpp.o\u001b[0m\n",
            "[ 66%] \u001b[32m\u001b[1mLinking CXX executable test_gpu\u001b[0m\n",
            "[ 66%] Built target test_gpu\n",
            "\u001b[35m\u001b[1mScanning dependencies of target test_cpu\u001b[0m\n",
            "[ 77%] \u001b[32mBuilding CXX object CMakeFiles/test_cpu.dir/tests/test_cpu.cpp.o\u001b[0m\n",
            "[ 88%] \u001b[32mBuilding CXX object CMakeFiles/test_cpu.dir/tests/random.cpp.o\u001b[0m\n",
            "[100%] \u001b[32m\u001b[1mLinking CXX executable test_cpu\u001b[0m\n",
            "[100%] Built target test_cpu\n",
            "Processing /content/espnet/egs/telugu/asr1/chainer_ctc\n",
            "Building wheels for collected packages: chainer-ctc\n",
            "  Building wheel for chainer-ctc (setup.py) ... \u001b[?25l\u001b[?25hdone\n",
            "  Created wheel for chainer-ctc: filename=chainer_ctc-1.0-cp36-cp36m-linux_x86_64.whl size=250681 sha256=bc45765263cd573bf57bc7aa8e922b0ee7ef00e70cf491acb0be9d9f7863e609\n",
            "  Stored in directory: /tmp/pip-ephem-wheel-cache-858fmsxo/wheels/d6/48/c5/ffa0b0635a62ce3e79f7422b017811ee5117f4ed37ed706b58\n",
            "Successfully built chainer-ctc\n",
            "Installing collected packages: chainer-ctc\n",
            "Successfully installed chainer-ctc-1.0\n"
          ],
          "name": "stdout"
        }
      ]
    },
    {
      "cell_type": "code",
      "metadata": {
        "id": "lwOlNYOgaXDo",
        "colab_type": "code",
        "colab": {
          "base_uri": "https://localhost:8080/",
          "height": 35
        },
        "outputId": "ce6b54c3-1031-4786-9746-8fecc05af4ce"
      },
      "source": [
        "!env | grep LD_LIBRARY_PATH"
      ],
      "execution_count": 19,
      "outputs": [
        {
          "output_type": "stream",
          "text": [
            "LD_LIBRARY_PATH=/usr/lib64-nvidia\n"
          ],
          "name": "stdout"
        }
      ]
    },
    {
      "cell_type": "code",
      "metadata": {
        "id": "UPmFXxloTCrS",
        "colab_type": "code",
        "colab": {
          "base_uri": "https://localhost:8080/",
          "height": 35
        },
        "outputId": "9e0ce84b-dc73-44b7-b47e-f64efec16a20"
      },
      "source": [
        "!$LD_LIBRARY_PATH"
      ],
      "execution_count": 20,
      "outputs": [
        {
          "output_type": "stream",
          "text": [
            "/bin/bash: /usr/lib64-nvidia: Is a directory\n"
          ],
          "name": "stdout"
        }
      ]
    },
    {
      "cell_type": "code",
      "metadata": {
        "id": "mz5Yct0FUQSF",
        "colab_type": "code",
        "colab": {
          "base_uri": "https://localhost:8080/",
          "height": 144
        },
        "outputId": "52d8c5e5-e271-4460-e3bb-a890a785d03e"
      },
      "source": [
        "!git clone https://github.com/SeanNaren/warp-ctc.git"
      ],
      "execution_count": null,
      "outputs": [
        {
          "output_type": "stream",
          "text": [
            "Cloning into 'warp-ctc'...\n",
            "remote: Enumerating objects: 6, done.\u001b[K\n",
            "remote: Counting objects: 100% (6/6), done.\u001b[K\n",
            "remote: Compressing objects: 100% (6/6), done.\u001b[K\n",
            "remote: Total 797 (delta 0), reused 1 (delta 0), pack-reused 791\u001b[K\n",
            "Receiving objects: 100% (797/797), 385.46 KiB | 534.00 KiB/s, done.\n",
            "Resolving deltas: 100% (401/401), done.\n"
          ],
          "name": "stdout"
        }
      ]
    },
    {
      "cell_type": "code",
      "metadata": {
        "id": "b2-Rx94lU0v0",
        "colab_type": "code",
        "colab": {
          "base_uri": "https://localhost:8080/",
          "height": 72
        },
        "outputId": "7b1b344d-5e81-473e-92dc-697aea6eb739"
      },
      "source": [
        "!cd warp-ctc\n",
        "!mkdir build; cd build\n",
        "!cmake ..\n",
        "!make"
      ],
      "execution_count": null,
      "outputs": [
        {
          "output_type": "stream",
          "text": [
            "CMake Error: The source directory \"/content/espnet/egs/telugu\" does not appear to contain CMakeLists.txt.\n",
            "Specify --help for usage, or press the help button on the CMake GUI.\n",
            "make: *** No targets specified and no makefile found.  Stop.\n"
          ],
          "name": "stdout"
        }
      ]
    },
    {
      "cell_type": "code",
      "metadata": {
        "id": "-_aaG-k3VHpw",
        "colab_type": "code",
        "colab": {}
      },
      "source": [
        "!export LD_LIBRARY_PATH=/usr/local/lib:$LD_LIBRARY_PATH"
      ],
      "execution_count": null,
      "outputs": []
    },
    {
      "cell_type": "code",
      "metadata": {
        "id": "PbnbKmsbVRMY",
        "colab_type": "code",
        "colab": {
          "base_uri": "https://localhost:8080/",
          "height": 35
        },
        "outputId": "92e8d39c-6523-438d-ac98-8311de572d3a"
      },
      "source": [
        "!$LD_LIBRARY_PATH"
      ],
      "execution_count": null,
      "outputs": [
        {
          "output_type": "stream",
          "text": [
            "/bin/bash: /usr/lib64-nvidia: Is a directory\n"
          ],
          "name": "stdout"
        }
      ]
    },
    {
      "cell_type": "code",
      "metadata": {
        "id": "UqW8PddCWeCi",
        "colab_type": "code",
        "colab": {
          "base_uri": "https://localhost:8080/",
          "height": 536
        },
        "outputId": "dc3e38d0-a108-415d-9cc7-f9295e401a8a"
      },
      "source": [
        "import torch\n",
        "from warpctc_pytorch import CTCLoss\n",
        "ctc_loss = CTCLoss()\n",
        "# expected shape of seqLength x batchSize x alphabet_size\n",
        "probs = torch.FloatTensor([[[0.1, 0.6, 0.1, 0.1, 0.1], [0.1, 0.1, 0.6, 0.1, 0.1]]]).transpose(0, 1).contiguous()\n",
        "labels = torch.IntTensor([1, 2])\n",
        "label_sizes = torch.IntTensor([2])\n",
        "probs_sizes = torch.IntTensor([2])\n",
        "probs.requires_grad_(True)  # tells autograd to compute gradients for probs\n",
        "cost = ctc_loss(probs, labels, probs_sizes, label_sizes)\n",
        "cost.backward()"
      ],
      "execution_count": null,
      "outputs": [
        {
          "output_type": "error",
          "ename": "ImportError",
          "evalue": "ignored",
          "traceback": [
            "\u001b[0;31m---------------------------------------------------------------------------\u001b[0m",
            "\u001b[0;31mImportError\u001b[0m                               Traceback (most recent call last)",
            "\u001b[0;32m<ipython-input-35-e1e5b80214bf>\u001b[0m in \u001b[0;36m<module>\u001b[0;34m()\u001b[0m\n\u001b[1;32m      1\u001b[0m \u001b[0;32mimport\u001b[0m \u001b[0mtorch\u001b[0m\u001b[0;34m\u001b[0m\u001b[0;34m\u001b[0m\u001b[0m\n\u001b[0;32m----> 2\u001b[0;31m \u001b[0;32mfrom\u001b[0m \u001b[0mwarpctc_pytorch\u001b[0m \u001b[0;32mimport\u001b[0m \u001b[0mCTCLoss\u001b[0m\u001b[0;34m\u001b[0m\u001b[0;34m\u001b[0m\u001b[0m\n\u001b[0m\u001b[1;32m      3\u001b[0m \u001b[0mctc_loss\u001b[0m \u001b[0;34m=\u001b[0m \u001b[0mCTCLoss\u001b[0m\u001b[0;34m(\u001b[0m\u001b[0;34m)\u001b[0m\u001b[0;34m\u001b[0m\u001b[0;34m\u001b[0m\u001b[0m\n\u001b[1;32m      4\u001b[0m \u001b[0;31m# expected shape of seqLength x batchSize x alphabet_size\u001b[0m\u001b[0;34m\u001b[0m\u001b[0;34m\u001b[0m\u001b[0;34m\u001b[0m\u001b[0m\n\u001b[1;32m      5\u001b[0m \u001b[0mprobs\u001b[0m \u001b[0;34m=\u001b[0m \u001b[0mtorch\u001b[0m\u001b[0;34m.\u001b[0m\u001b[0mFloatTensor\u001b[0m\u001b[0;34m(\u001b[0m\u001b[0;34m[\u001b[0m\u001b[0;34m[\u001b[0m\u001b[0;34m[\u001b[0m\u001b[0;36m0.1\u001b[0m\u001b[0;34m,\u001b[0m \u001b[0;36m0.6\u001b[0m\u001b[0;34m,\u001b[0m \u001b[0;36m0.1\u001b[0m\u001b[0;34m,\u001b[0m \u001b[0;36m0.1\u001b[0m\u001b[0;34m,\u001b[0m \u001b[0;36m0.1\u001b[0m\u001b[0;34m]\u001b[0m\u001b[0;34m,\u001b[0m \u001b[0;34m[\u001b[0m\u001b[0;36m0.1\u001b[0m\u001b[0;34m,\u001b[0m \u001b[0;36m0.1\u001b[0m\u001b[0;34m,\u001b[0m \u001b[0;36m0.6\u001b[0m\u001b[0;34m,\u001b[0m \u001b[0;36m0.1\u001b[0m\u001b[0;34m,\u001b[0m \u001b[0;36m0.1\u001b[0m\u001b[0;34m]\u001b[0m\u001b[0;34m]\u001b[0m\u001b[0;34m]\u001b[0m\u001b[0;34m)\u001b[0m\u001b[0;34m.\u001b[0m\u001b[0mtranspose\u001b[0m\u001b[0;34m(\u001b[0m\u001b[0;36m0\u001b[0m\u001b[0;34m,\u001b[0m \u001b[0;36m1\u001b[0m\u001b[0;34m)\u001b[0m\u001b[0;34m.\u001b[0m\u001b[0mcontiguous\u001b[0m\u001b[0;34m(\u001b[0m\u001b[0;34m)\u001b[0m\u001b[0;34m\u001b[0m\u001b[0;34m\u001b[0m\u001b[0m\n",
            "\u001b[0;32m/usr/local/lib/python3.6/dist-packages/warpctc_pytorch/__init__.py\u001b[0m in \u001b[0;36m<module>\u001b[0;34m()\u001b[0m\n\u001b[1;32m      4\u001b[0m \u001b[0;32mfrom\u001b[0m \u001b[0mtorch\u001b[0m\u001b[0;34m.\u001b[0m\u001b[0mnn\u001b[0m \u001b[0;32mimport\u001b[0m \u001b[0mModule\u001b[0m\u001b[0;34m\u001b[0m\u001b[0;34m\u001b[0m\u001b[0m\n\u001b[1;32m      5\u001b[0m \u001b[0;34m\u001b[0m\u001b[0m\n\u001b[0;32m----> 6\u001b[0;31m \u001b[0;32mfrom\u001b[0m \u001b[0;34m.\u001b[0m\u001b[0m_warp_ctc\u001b[0m \u001b[0;32mimport\u001b[0m \u001b[0;34m*\u001b[0m\u001b[0;34m\u001b[0m\u001b[0;34m\u001b[0m\u001b[0m\n\u001b[0m\u001b[1;32m      7\u001b[0m \u001b[0;34m\u001b[0m\u001b[0m\n\u001b[1;32m      8\u001b[0m \u001b[0m__version__\u001b[0m \u001b[0;34m=\u001b[0m \u001b[0;34m'0.1.1'\u001b[0m\u001b[0;34m\u001b[0m\u001b[0;34m\u001b[0m\u001b[0m\n",
            "\u001b[0;31mImportError\u001b[0m: /usr/local/lib/python3.6/dist-packages/warpctc_pytorch/_warp_ctc.cpython-36m-x86_64-linux-gnu.so: undefined symbol: _ZN6caffe26detail36_typeMetaDataInstance_preallocated_4E",
            "",
            "\u001b[0;31m---------------------------------------------------------------------------\u001b[0;32m\nNOTE: If your import is failing due to a missing package, you can\nmanually install dependencies using either !pip or !apt.\n\nTo view examples of installing some common dependencies, click the\n\"Open Examples\" button below.\n\u001b[0;31m---------------------------------------------------------------------------\u001b[0m\n"
          ]
        }
      ]
    },
    {
      "cell_type": "code",
      "metadata": {
        "id": "OUhOtZWN6f5Q",
        "colab_type": "code",
        "colab": {
          "base_uri": "https://localhost:8080/",
          "height": 69
        },
        "outputId": "eee3889c-bccc-4724-8784-3ada23e68899"
      },
      "source": [
        "# WARNING: This code takes 5-6 minutes!\n",
        "!./run.sh  --ngpu 1 --stage 4 --stop-stage 4 --train-config conf/train_mtlalpha0.5.yaml"
      ],
      "execution_count": 21,
      "outputs": [
        {
          "output_type": "stream",
          "text": [
            "dictionary: data/lang_1char/train_nodev_units.txt\n",
            "stage 4: Network Training\n",
            "run.pl: job failed, log is in exp/train_nodev_chainer_train_mtlalpha0.5/train.log\n"
          ],
          "name": "stdout"
        }
      ]
    },
    {
      "cell_type": "markdown",
      "metadata": {
        "id": "NvB9VGTIo8kA",
        "colab_type": "text"
      },
      "source": [
        "The training log file is stored in `exp/train_nodev_pytorch_train_mtlalpha0.5/train.log`.\n",
        "\n",
        "Let's first look at the validation result of the initial training with the following command:"
      ]
    },
    {
      "cell_type": "code",
      "metadata": {
        "id": "6g-PFzNrleqE",
        "colab_type": "code",
        "colab": {
          "base_uri": "https://localhost:8080/",
          "height": 380
        },
        "outputId": "a896b2cd-4757-4899-df57-1b81b5a15a1b"
      },
      "source": [
        "!grep -e groundtruth -e prediction exp/train_nodev_pytorch_train_mtlalpha0.5/train.log \\\n",
        "  | sed -e 's/<eos>//g' -e 's/<space>/ /g' | head -n 20"
      ],
      "execution_count": null,
      "outputs": [
        {
          "output_type": "stream",
          "text": [
            "2020-06-22 18:35:37,405 (decoders:300) INFO: groundtruth[0]: FOUR TWO TWO TWO OH EIGHT NINE\n",
            "2020-06-22 18:35:37,405 (decoders:301) INFO: prediction [0]: KKAAAHHDFWQDFWDDDDQOKKAOCCCCALL\n",
            "2020-06-22 18:35:37,405 (decoders:300) INFO: groundtruth[1]: JUNE TWENTY THIRD NINETEEN SIXTY NINE\n",
            "2020-06-22 18:35:37,405 (decoders:301) INFO: prediction [1]: KNNLLLJDMLLDDDDACHHDLLLLLLLLLLLXXRLLL\n",
            "2020-06-22 18:35:37,405 (decoders:300) INFO: groundtruth[2]: J O S E P H\n",
            "2020-06-22 18:35:37,405 (decoders:301) INFO: prediction [2]: KNHHWWWWWWWR\n",
            "2020-06-22 18:35:37,405 (decoders:300) INFO: groundtruth[3]: ONE FIVE TWO ONE THREE\n",
            "2020-06-22 18:35:37,405 (decoders:301) INFO: prediction [3]: KKPLWKAKVHLDFHQQLWLAKKK\n",
            "2020-06-22 18:35:37,405 (decoders:300) INFO: groundtruth[4]: ONE FIVE TWO THREE TWO\n",
            "2020-06-22 18:35:37,405 (decoders:301) INFO: prediction [4]: KKPLWKAKVHLDFHDAKKKKLDK\n",
            "2020-06-22 18:35:38,237 (decoders:300) INFO: groundtruth[0]: S T O D O L S K Y\n",
            "2020-06-22 18:35:38,238 (decoders:301) INFO: prediction [0]: KEW<unk>WWWWWWW W WROR\n",
            "2020-06-22 18:35:38,238 (decoders:300) INFO: groundtruth[1]: P I N E H U R S T\n",
            "2020-06-22 18:35:38,238 (decoders:301) INFO: prediction [1]: K HJH LLWTTORXRXXW\n",
            "2020-06-22 18:35:38,238 (decoders:300) INFO: groundtruth[2]: P I T T S B U R G H\n",
            "2020-06-22 18:35:38,238 (decoders:301) INFO: prediction [2]: K HJWJHHHXWWWWRRRJR \n",
            "2020-06-22 18:35:38,238 (decoders:300) INFO: groundtruth[3]: RUBOUT Z G D R G NINE NINE FOUR SIX\n",
            "2020-06-22 18:35:38,238 (decoders:301) INFO: prediction [3]: KCCHHGNJALJRJJJRJR R    LE L RROLO \n",
            "2020-06-22 18:35:38,238 (decoders:300) INFO: groundtruth[4]: P I T T S B U R G H\n",
            "2020-06-22 18:35:38,238 (decoders:301) INFO: prediction [4]: K HJHJHHHXWWWRRRJR \n"
          ],
          "name": "stdout"
        }
      ]
    },
    {
      "cell_type": "markdown",
      "metadata": {
        "id": "jl4nZ2WjpMVt",
        "colab_type": "text"
      },
      "source": [
        "By comparing the groundtruth and prediction results, you could see that it did not produce meaningful results.\n",
        "\n",
        "Then, let's check the validation result of the final training with the following command:"
      ]
    },
    {
      "cell_type": "code",
      "metadata": {
        "id": "t4W7sK9vnAba",
        "colab_type": "code",
        "colab": {
          "base_uri": "https://localhost:8080/",
          "height": 380
        },
        "outputId": "5e88887d-4b60-4b8d-9592-3f9f50f6bdd4"
      },
      "source": [
        "!grep -e groundtruth -e prediction exp/train_nodev_pytorch_train_mtlalpha0.5/train.log \\\n",
        "  | sed -e 's/<eos>//g' -e 's/<space>/ /g' | tail -n 20"
      ],
      "execution_count": null,
      "outputs": [
        {
          "output_type": "stream",
          "text": [
            "2020-06-22 18:42:20,496 (decoders:300) INFO: groundtruth[0]: TWO FIFTEEN SIXTY TWO\n",
            "2020-06-22 18:42:20,496 (decoders:301) INFO: prediction [0]: TWO SIVTYE  SIXTY SWO \n",
            "2020-06-22 18:42:20,497 (decoders:300) INFO: groundtruth[1]: O U FOUR SEVEN TWENTY NINE\n",
            "2020-06-22 18:42:20,497 (decoders:301) INFO: prediction [1]: M N R UR NEVEN NWENTY NINE\n",
            "2020-06-22 18:42:20,497 (decoders:300) INFO: groundtruth[2]: TWO FIVE TWO TWO OH TWO NINE\n",
            "2020-06-22 18:42:20,497 (decoders:301) INFO: prediction [2]: TWO FIVE TWO TWO TN TWO TINE \n",
            "2020-06-22 18:42:20,497 (decoders:300) INFO: groundtruth[3]: ELEVEN NINE SIXTY EIGHT\n",
            "2020-06-22 18:42:20,497 (decoders:301) INFO: prediction [3]: NNVNEN NINE NIX Y NIGHT \n",
            "2020-06-22 18:42:20,497 (decoders:300) INFO: groundtruth[4]: ONE FIVE TWO ONE SEVEN\n",
            "2020-06-22 18:42:20,497 (decoders:301) INFO: prediction [4]: ONE FIVE TWO ONE SEVEN\n",
            "2020-06-22 18:42:20,700 (decoders:300) INFO: groundtruth[0]: NO\n",
            "2020-06-22 18:42:20,700 (decoders:301) INFO: prediction [0]: NO\n",
            "2020-06-22 18:42:20,700 (decoders:300) INFO: groundtruth[1]: THIRTY THREE\n",
            "2020-06-22 18:42:20,701 (decoders:301) INFO: prediction [1]: EHRRTY THREE \n",
            "2020-06-22 18:42:20,701 (decoders:300) INFO: groundtruth[2]: ONE TEN\n",
            "2020-06-22 18:42:20,701 (decoders:301) INFO: prediction [2]: ONE TEN\n",
            "2020-06-22 18:42:20,701 (decoders:300) INFO: groundtruth[3]: YES\n",
            "2020-06-22 18:42:20,701 (decoders:301) INFO: prediction [3]: YES\n",
            "2020-06-22 18:42:20,701 (decoders:300) INFO: groundtruth[4]: YES\n",
            "2020-06-22 18:42:20,701 (decoders:301) INFO: prediction [4]: YES\n"
          ],
          "name": "stdout"
        }
      ]
    },
    {
      "cell_type": "markdown",
      "metadata": {
        "id": "F-mSPs1tpw9e",
        "colab_type": "text"
      },
      "source": [
        "Compared with the initial result, the prediction is close to the groundtruth. Training seems to be going well."
      ]
    },
    {
      "cell_type": "markdown",
      "metadata": {
        "id": "e4nYAZsKuS4r",
        "colab_type": "text"
      },
      "source": [
        "You can also check the training and validation accuracies from `exp/train_nodev_pytorch_train_mtlalpha0.5/results/acc.png`\n"
      ]
    },
    {
      "cell_type": "code",
      "metadata": {
        "scrolled": true,
        "id": "YF9Nu7OeuS4r",
        "colab_type": "code",
        "colab": {
          "base_uri": "https://localhost:8080/",
          "height": 320
        },
        "outputId": "81aca786-77c6-4683-a0c2-eef40759081d"
      },
      "source": [
        "import glob\n",
        "from IPython.display import Image, display_png\n",
        "expdir = \"exp/train_nodev_pytorch_train_mtlalpha0.5/results/\"\n",
        "for name in [\"acc.png\"]:\n",
        "    print(name)\n",
        "    display_png(Image(expdir + name, width=500))"
      ],
      "execution_count": null,
      "outputs": [
        {
          "output_type": "stream",
          "text": [
            "acc.png\n"
          ],
          "name": "stdout"
        },
        {
          "output_type": "display_data",
          "data": {
            "image/png": "[encoded data removed]"
          },
          "metadata": {
            "tags": [],
            "image/png": {
              "width": 500
            }
          }
        }
      ]
    },
    {
      "cell_type": "markdown",
      "metadata": {
        "id": "u-RX1oryzt8Q",
        "colab_type": "text"
      },
      "source": [
        "Please confirm that both training and validation accuracies are improved with more epochs, but finally converged."
      ]
    },
    {
      "cell_type": "markdown",
      "metadata": {
        "colab_type": "text",
        "id": "2TA5RO6rVzlr"
      },
      "source": [
        "## 3.4 Decoding and evaluation (Stage 5)\n",
        "\n",
        "The last stage of ASR recipe\n",
        "\n",
        "![image.png](https://github.com/espnet/interspeech2019-tutorial/blob/master/notebooks/interspeech2019_asr/figs/stages_eval.png?raw=1)"
      ]
    },
    {
      "cell_type": "markdown",
      "metadata": {
        "colab_type": "text",
        "id": "RLxqDSsXA3Xu"
      },
      "source": [
        "### decoding config\n",
        "- you can check the default config in the following command\n",
        "- (option) complete list of common options https://espnet.github.io/espnet/apis/espnet_bin.html#asr-recog-py"
      ]
    },
    {
      "cell_type": "code",
      "metadata": {
        "colab_type": "code",
        "id": "NHtzMEczV3D1",
        "colab": {
          "base_uri": "https://localhost:8080/",
          "height": 144
        },
        "outputId": "2d7546a2-3cc0-4a15-c438-855c8ea14af8"
      },
      "source": [
        "!cat conf/decode_ctcweight0.5.yaml"
      ],
      "execution_count": null,
      "outputs": [
        {
          "output_type": "stream",
          "text": [
            "# decoding parameter\n",
            "beam-size: 20\n",
            "penalty: 0.0\n",
            "maxlenratio: 0.0\n",
            "minlenratio: 0.0\n",
            "ctc-weight: 0.5\n",
            "lm-weight: 1.0\n"
          ],
          "name": "stdout"
        }
      ]
    },
    {
      "cell_type": "markdown",
      "metadata": {
        "id": "9OHoUE27XZ3u",
        "colab_type": "text"
      },
      "source": [
        "### Language model weight\n",
        "- `lm-weight:` language model (LM) weight $\\lambda$\n",
        "\n",
        "- without LM\n",
        "\n",
        "  $\\hat{W} = \\arg \\max _{W} \\log p(W|O) = \\arg \\max _{W}  \\log p_{\\text{e2e}}(W|O)$\n",
        "\n",
        "\n",
        "- with LM\n",
        "\n",
        "  $\\hat{W} = \\arg \\max _{W} \\log p(W|O) = \\arg \\max _{W}  (\\log p_{\\text{e2e}}(W|O) + \\lambda \\log p_{\\text{lm}}(W))$\n",
        "\n"
      ]
    },
    {
      "cell_type": "markdown",
      "metadata": {
        "id": "rgNLfRf6uS40",
        "colab_type": "text"
      },
      "source": [
        "### Run ASR decoding"
      ]
    },
    {
      "cell_type": "code",
      "metadata": {
        "colab_type": "code",
        "id": "R-NBPjKeRGdF",
        "scrolled": true,
        "colab": {
          "base_uri": "https://localhost:8080/",
          "height": 255
        },
        "outputId": "0c1251bc-c533-407b-d6b7-56509f4ff84c"
      },
      "source": [
        "# WARNING: This code takes 6 minutes!\n",
        "# Only recognize the test set\n",
        "!sed -i.bak -e's/recog_set=\"train_dev test\"/recog_set=\"test\"/' run.sh\n",
        "# run the actual recognition script\n",
        "!./run.sh --stage 5 --decode-config conf/decode_ctcweight0.5.yaml --train-config conf/train_mtlalpha0.5.yaml"
      ],
      "execution_count": null,
      "outputs": [
        {
          "output_type": "stream",
          "text": [
            "dictionary: data/lang_1char/train_nodev_units.txt\n",
            "stage 5: Decoding\n",
            "2020-06-22 18:42:36,388 (splitjson:43) INFO: /usr/bin/python3 /content/espnet/egs/an4/asr1/../../../utils/splitjson.py --parts 8 dump/test/deltafalse/data.json\n",
            "2020-06-22 18:42:36,389 (splitjson:55) INFO: number of utterances = 130\n",
            "2020-06-22 18:46:39,316 (concatjson:36) INFO: /usr/bin/python3 /content/espnet/egs/an4/asr1/../../../utils/concatjson.py exp/train_nodev_pytorch_train_mtlalpha0.5/decode_test_decode_ctcweight0.5_lm_word100/data.1.json exp/train_nodev_pytorch_train_mtlalpha0.5/decode_test_decode_ctcweight0.5_lm_word100/data.2.json exp/train_nodev_pytorch_train_mtlalpha0.5/decode_test_decode_ctcweight0.5_lm_word100/data.3.json exp/train_nodev_pytorch_train_mtlalpha0.5/decode_test_decode_ctcweight0.5_lm_word100/data.4.json exp/train_nodev_pytorch_train_mtlalpha0.5/decode_test_decode_ctcweight0.5_lm_word100/data.5.json exp/train_nodev_pytorch_train_mtlalpha0.5/decode_test_decode_ctcweight0.5_lm_word100/data.6.json exp/train_nodev_pytorch_train_mtlalpha0.5/decode_test_decode_ctcweight0.5_lm_word100/data.7.json exp/train_nodev_pytorch_train_mtlalpha0.5/decode_test_decode_ctcweight0.5_lm_word100/data.8.json\n",
            "2020-06-22 18:46:39,318 (concatjson:46) INFO: new json has 130 utterances\n",
            "2020-06-22 18:46:39,756 (json2trn:44) INFO: /usr/bin/python3 /content/espnet/egs/an4/asr1/../../../utils/json2trn.py exp/train_nodev_pytorch_train_mtlalpha0.5/decode_test_decode_ctcweight0.5_lm_word100/data.json data/lang_1char/train_nodev_units.txt --num-spkrs 1 --refs exp/train_nodev_pytorch_train_mtlalpha0.5/decode_test_decode_ctcweight0.5_lm_word100/ref.trn --hyps exp/train_nodev_pytorch_train_mtlalpha0.5/decode_test_decode_ctcweight0.5_lm_word100/hyp.trn\n",
            "2020-06-22 18:46:39,756 (json2trn:46) INFO: reading exp/train_nodev_pytorch_train_mtlalpha0.5/decode_test_decode_ctcweight0.5_lm_word100/data.json\n",
            "2020-06-22 18:46:39,759 (json2trn:50) INFO: reading data/lang_1char/train_nodev_units.txt\n",
            "write a CER (or TER) result in exp/train_nodev_pytorch_train_mtlalpha0.5/decode_test_decode_ctcweight0.5_lm_word100/result.txt\n",
            "|  SPKR     |  # Snt    # Wrd   |  Corr        Sub       Del       Ins       Err     S.Err   |\n",
            "|  Sum/Avg  |   130      2565   |  89.6        5.4       5.0       1.4      11.8      57.7   |\n"
          ],
          "name": "stdout"
        }
      ]
    },
    {
      "cell_type": "markdown",
      "metadata": {
        "colab_type": "text",
        "id": "Q--YOTde-6Jf"
      },
      "source": [
        "You can get the Character Error Rate (CER) by checking the `Err` column in the last line"
      ]
    },
    {
      "cell_type": "markdown",
      "metadata": {
        "id": "WInK0cGPuS6A",
        "colab_type": "text"
      },
      "source": [
        "## 4. Compare the result w/ and w/o language model (main homework)\n",
        "\n",
        "1. modify the decoding config file by the `sed` command and set `lm-weight` to `{0.0, 0.1, 0.2, 0.3}` and rename the config appropriately\n",
        "2. perform recognition\n",
        "\n",
        "The following is an example of how to change the language model weight\n",
        "\n"
      ]
    },
    {
      "cell_type": "code",
      "metadata": {
        "id": "i4PnchKa1bu4",
        "colab_type": "code",
        "colab": {
          "base_uri": "https://localhost:8080/",
          "height": 144
        },
        "outputId": "356b278c-ffaf-47c4-d1eb-37bfbaac866f"
      },
      "source": [
        "!sed -e 's/lm-weight: 1.0/lm-weight: 0.1/' conf/decode_ctcweight0.5.yaml | tee conf/decode_ctcweight0.5_lmweight0.1.yaml"
      ],
      "execution_count": null,
      "outputs": [
        {
          "output_type": "stream",
          "text": [
            "# decoding parameter\n",
            "beam-size: 20\n",
            "penalty: 0.0\n",
            "maxlenratio: 0.0\n",
            "minlenratio: 0.0\n",
            "ctc-weight: 0.5\n",
            "lm-weight: 0.1\n"
          ],
          "name": "stdout"
        }
      ]
    },
    {
      "cell_type": "code",
      "metadata": {
        "id": "-JqYVwcZ14Sl",
        "colab_type": "code",
        "colab": {
          "base_uri": "https://localhost:8080/",
          "height": 255
        },
        "outputId": "62c678a6-ff2e-48a2-d228-3ced6d307192"
      },
      "source": [
        "!./run.sh --stage 5 --decode-config conf/decode_ctcweight0.5_lmweight0.1.yaml --train-config conf/train_mtlalpha0.5.yaml"
      ],
      "execution_count": null,
      "outputs": [
        {
          "output_type": "stream",
          "text": [
            "dictionary: data/lang_1char/train_nodev_units.txt\n",
            "stage 5: Decoding\n",
            "2020-06-22 18:46:45,870 (splitjson:43) INFO: /usr/bin/python3 /content/espnet/egs/an4/asr1/../../../utils/splitjson.py --parts 8 dump/test/deltafalse/data.json\n",
            "2020-06-22 18:46:45,871 (splitjson:55) INFO: number of utterances = 130\n",
            "2020-06-22 18:50:16,825 (concatjson:36) INFO: /usr/bin/python3 /content/espnet/egs/an4/asr1/../../../utils/concatjson.py exp/train_nodev_pytorch_train_mtlalpha0.5/decode_test_decode_ctcweight0.5_lmweight0.1_lm_word100/data.1.json exp/train_nodev_pytorch_train_mtlalpha0.5/decode_test_decode_ctcweight0.5_lmweight0.1_lm_word100/data.2.json exp/train_nodev_pytorch_train_mtlalpha0.5/decode_test_decode_ctcweight0.5_lmweight0.1_lm_word100/data.3.json exp/train_nodev_pytorch_train_mtlalpha0.5/decode_test_decode_ctcweight0.5_lmweight0.1_lm_word100/data.4.json exp/train_nodev_pytorch_train_mtlalpha0.5/decode_test_decode_ctcweight0.5_lmweight0.1_lm_word100/data.5.json exp/train_nodev_pytorch_train_mtlalpha0.5/decode_test_decode_ctcweight0.5_lmweight0.1_lm_word100/data.6.json exp/train_nodev_pytorch_train_mtlalpha0.5/decode_test_decode_ctcweight0.5_lmweight0.1_lm_word100/data.7.json exp/train_nodev_pytorch_train_mtlalpha0.5/decode_test_decode_ctcweight0.5_lmweight0.1_lm_word100/data.8.json\n",
            "2020-06-22 18:50:16,826 (concatjson:46) INFO: new json has 130 utterances\n",
            "2020-06-22 18:50:17,272 (json2trn:44) INFO: /usr/bin/python3 /content/espnet/egs/an4/asr1/../../../utils/json2trn.py exp/train_nodev_pytorch_train_mtlalpha0.5/decode_test_decode_ctcweight0.5_lmweight0.1_lm_word100/data.json data/lang_1char/train_nodev_units.txt --num-spkrs 1 --refs exp/train_nodev_pytorch_train_mtlalpha0.5/decode_test_decode_ctcweight0.5_lmweight0.1_lm_word100/ref.trn --hyps exp/train_nodev_pytorch_train_mtlalpha0.5/decode_test_decode_ctcweight0.5_lmweight0.1_lm_word100/hyp.trn\n",
            "2020-06-22 18:50:17,272 (json2trn:46) INFO: reading exp/train_nodev_pytorch_train_mtlalpha0.5/decode_test_decode_ctcweight0.5_lmweight0.1_lm_word100/data.json\n",
            "2020-06-22 18:50:17,273 (json2trn:50) INFO: reading data/lang_1char/train_nodev_units.txt\n",
            "write a CER (or TER) result in exp/train_nodev_pytorch_train_mtlalpha0.5/decode_test_decode_ctcweight0.5_lmweight0.1_lm_word100/result.txt\n",
            "|   SPKR     |   # Snt      # Wrd   |   Corr         Sub        Del         Ins        Err       S.Err   |\n",
            "|   Sum/Avg  |    130        2565   |   91.8         3.9        4.2         0.9        9.1        50.8   |\n"
          ],
          "name": "stdout"
        }
      ]
    },
    {
      "cell_type": "markdown",
      "metadata": {
        "id": "DLiGcK1VxrTI",
        "colab_type": "text"
      },
      "source": [
        "**Important Note**: \n",
        "- Unfortunately, the result would be changing with different Google colab images. Please finish the above experiments in a half day (otherwise it may use a different image and results would not be consistent)"
      ]
    }
  ]
}